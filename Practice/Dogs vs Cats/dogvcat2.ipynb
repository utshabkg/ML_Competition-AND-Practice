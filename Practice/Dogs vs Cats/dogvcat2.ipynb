{
 "cells": [
  {
   "cell_type": "markdown",
   "execution_count": null,
   "metadata": {
    "id": "WyvRZZt22Bki",
    "papermill": {
     "duration": 0.008554,
     "end_time": "2020-08-23T09:13:41.100756",
     "exception": false,
     "start_time": "2020-08-23T09:13:41.092202",
     "status": "completed"
    },
    "tags": []
   },
   "source": [
    "## Separation of data"
   ]
  },
  {
   "cell_type": "code",
   "execution_count": 1,
   "metadata": {
    "execution": {
     "iopub.execute_input": "2020-08-23T09:13:41.120078Z",
     "iopub.status.busy": "2020-08-23T09:13:41.119262Z",
     "iopub.status.idle": "2020-08-23T09:13:41.122387Z",
     "shell.execute_reply": "2020-08-23T09:13:41.121889Z"
    },
    "papermill": {
     "duration": 0.014344,
     "end_time": "2020-08-23T09:13:41.122487",
     "exception": false,
     "start_time": "2020-08-23T09:13:41.108143",
     "status": "completed"
    },
    "tags": []
   },
   "outputs": [],
   "source": [
    "# to delete any directory. Don't use it now.\n",
    "# import shutil\n",
    "# shutil.rmtree(\"../dog-cat-small\")"
   ]
  },
  {
   "cell_type": "code",
   "execution_count": 2,
   "metadata": {
    "execution": {
     "iopub.execute_input": "2020-08-23T09:13:41.142969Z",
     "iopub.status.busy": "2020-08-23T09:13:41.142082Z",
     "iopub.status.idle": "2020-08-23T09:13:41.144799Z",
     "shell.execute_reply": "2020-08-23T09:13:41.145256Z"
    },
    "id": "6dQubEPSxJ2H",
    "papermill": {
     "duration": 0.015796,
     "end_time": "2020-08-23T09:13:41.145379",
     "exception": false,
     "start_time": "2020-08-23T09:13:41.129583",
     "status": "completed"
    },
    "tags": []
   },
   "outputs": [],
   "source": [
    "import os, shutil\n",
    "import os.path\n",
    "from os import path\n",
    "# our dataset (only train portion)\n",
    "original_dataset_dir = \"../input/dogs-vs-cats/train/train\"    # we are asked to work with train part only.\n",
    "# Create a Directory where we’ll store our smaller dataset\n",
    "base_dir = \"/kaggle/working/dog-cat-small\"\n",
    "if not path.exists(base_dir):\n",
    "    os.mkdir(\"/kaggle/working/dog-cat-small\")\n"
   ]
  },
  {
   "cell_type": "code",
   "execution_count": 3,
   "metadata": {
    "execution": {
     "iopub.execute_input": "2020-08-23T09:13:41.167012Z",
     "iopub.status.busy": "2020-08-23T09:13:41.166304Z",
     "iopub.status.idle": "2020-08-23T09:13:41.169468Z",
     "shell.execute_reply": "2020-08-23T09:13:41.168937Z"
    },
    "id": "sbzONtE6x8kI",
    "papermill": {
     "duration": 0.016646,
     "end_time": "2020-08-23T09:13:41.169576",
     "exception": false,
     "start_time": "2020-08-23T09:13:41.152930",
     "status": "completed"
    },
    "tags": []
   },
   "outputs": [],
   "source": [
    "# Directories for the training, validation, and test splits\n",
    "train_dir = os.path.join(base_dir, 'train')\n",
    "if not path.exists(train_dir):\n",
    "    os.mkdir(train_dir)\n",
    "validation_dir = os.path.join(base_dir, 'validation')\n",
    "if not path.exists(validation_dir):\n",
    "    os.mkdir(validation_dir)\n",
    "test_dir = os.path.join(base_dir, 'test')\n",
    "if not path.exists(test_dir):\n",
    "    os.mkdir(test_dir)"
   ]
  },
  {
   "cell_type": "code",
   "execution_count": 4,
   "metadata": {
    "execution": {
     "iopub.execute_input": "2020-08-23T09:13:41.190289Z",
     "iopub.status.busy": "2020-08-23T09:13:41.189448Z",
     "iopub.status.idle": "2020-08-23T09:13:41.192521Z",
     "shell.execute_reply": "2020-08-23T09:13:41.191983Z"
    },
    "id": "_MgtQ_RpyZfK",
    "papermill": {
     "duration": 0.014276,
     "end_time": "2020-08-23T09:13:41.192609",
     "exception": false,
     "start_time": "2020-08-23T09:13:41.178333",
     "status": "completed"
    },
    "tags": []
   },
   "outputs": [],
   "source": [
    "#Directory with training cat pictures\n",
    "train_cats_dir = os.path.join(train_dir, 'cats')\n",
    "if not path.exists(train_cats_dir):\n",
    "    os.mkdir(train_cats_dir)"
   ]
  },
  {
   "cell_type": "code",
   "execution_count": 5,
   "metadata": {
    "execution": {
     "iopub.execute_input": "2020-08-23T09:13:41.212547Z",
     "iopub.status.busy": "2020-08-23T09:13:41.211731Z",
     "iopub.status.idle": "2020-08-23T09:13:41.214619Z",
     "shell.execute_reply": "2020-08-23T09:13:41.214076Z"
    },
    "id": "Bq6F1nf4zfNC",
    "papermill": {
     "duration": 0.014746,
     "end_time": "2020-08-23T09:13:41.214709",
     "exception": false,
     "start_time": "2020-08-23T09:13:41.199963",
     "status": "completed"
    },
    "tags": []
   },
   "outputs": [],
   "source": [
    "# Directory with training dog pictures\n",
    "train_dogs_dir = os.path.join(train_dir, 'dogs')\n",
    "if not path.exists(train_dogs_dir):\n",
    "    os.mkdir(train_dogs_dir)"
   ]
  },
  {
   "cell_type": "code",
   "execution_count": 6,
   "metadata": {
    "execution": {
     "iopub.execute_input": "2020-08-23T09:13:41.237224Z",
     "iopub.status.busy": "2020-08-23T09:13:41.236347Z",
     "iopub.status.idle": "2020-08-23T09:13:41.240092Z",
     "shell.execute_reply": "2020-08-23T09:13:41.239555Z"
    },
    "id": "tUcEt1NRzg7r",
    "papermill": {
     "duration": 0.018225,
     "end_time": "2020-08-23T09:13:41.240180",
     "exception": false,
     "start_time": "2020-08-23T09:13:41.221955",
     "status": "completed"
    },
    "tags": []
   },
   "outputs": [],
   "source": [
    "# now same work for validation and test sets\n",
    "validation_cats_dir = os.path.join(validation_dir, 'cats')\n",
    "if not path.exists(validation_cats_dir):\n",
    "    os.mkdir(validation_cats_dir)\n",
    "validation_dogs_dir = os.path.join(validation_dir, 'dogs')\n",
    "if not path.exists(validation_dogs_dir):\n",
    "    os.mkdir(validation_dogs_dir)\n",
    "\n",
    "test_cats_dir = os.path.join(test_dir, 'cats')\n",
    "if not path.exists(test_cats_dir):\n",
    "    os.mkdir(test_cats_dir)\n",
    "test_dogs_dir = os.path.join(test_dir, 'dogs')\n",
    "if not path.exists(test_dogs_dir):\n",
    "    os.mkdir(test_dogs_dir)"
   ]
  },
  {
   "cell_type": "code",
   "execution_count": 7,
   "metadata": {
    "execution": {
     "iopub.execute_input": "2020-08-23T09:13:41.259068Z",
     "iopub.status.busy": "2020-08-23T09:13:41.258411Z",
     "iopub.status.idle": "2020-08-23T09:13:41.565466Z",
     "shell.execute_reply": "2020-08-23T09:13:41.564912Z"
    },
    "papermill": {
     "duration": 0.318006,
     "end_time": "2020-08-23T09:13:41.565593",
     "exception": false,
     "start_time": "2020-08-23T09:13:41.247587",
     "status": "completed"
    },
    "tags": []
   },
   "outputs": [
    {
     "data": {
      "text/plain": [
       "25000"
      ]
     },
     "execution_count": 7,
     "metadata": {},
     "output_type": "execute_result"
    }
   ],
   "source": [
    "len(os.listdir(original_dataset_dir))"
   ]
  },
  {
   "cell_type": "markdown",
   "execution_count": null,
   "metadata": {
    "papermill": {
     "duration": 0.007664,
     "end_time": "2020-08-23T09:13:41.581636",
     "exception": false,
     "start_time": "2020-08-23T09:13:41.573972",
     "status": "completed"
    },
    "tags": []
   },
   "source": [
    "So, we have 12500 dogs and 12500 cats images. Now let's split them."
   ]
  },
  {
   "cell_type": "code",
   "execution_count": 8,
   "metadata": {
    "execution": {
     "iopub.execute_input": "2020-08-23T09:13:41.606163Z",
     "iopub.status.busy": "2020-08-23T09:13:41.605553Z",
     "iopub.status.idle": "2020-08-23T09:14:01.285797Z",
     "shell.execute_reply": "2020-08-23T09:14:01.284595Z"
    },
    "id": "5lO6XwErzj_w",
    "papermill": {
     "duration": 19.696571,
     "end_time": "2020-08-23T09:14:01.285927",
     "exception": false,
     "start_time": "2020-08-23T09:13:41.589356",
     "status": "completed"
    },
    "tags": []
   },
   "outputs": [],
   "source": [
    "# Copies the first 70% cat images to train_cats_dir\n",
    "fnames = ['cat.{}.jpg'.format(i) for i in range(0, int(12500*0.70), 1)]\n",
    "for fname in fnames:\n",
    "    src = os.path.join(original_dataset_dir, fname)\n",
    "    dst = os.path.join(train_cats_dir, fname)\n",
    "    shutil.copyfile(src, dst)"
   ]
  },
  {
   "cell_type": "code",
   "execution_count": 9,
   "metadata": {
    "execution": {
     "iopub.execute_input": "2020-08-23T09:14:01.308968Z",
     "iopub.status.busy": "2020-08-23T09:14:01.308251Z",
     "iopub.status.idle": "2020-08-23T09:14:06.611025Z",
     "shell.execute_reply": "2020-08-23T09:14:06.609942Z"
    },
    "id": "ndxRF3ifzqTp",
    "papermill": {
     "duration": 5.317208,
     "end_time": "2020-08-23T09:14:06.611153",
     "exception": false,
     "start_time": "2020-08-23T09:14:01.293945",
     "status": "completed"
    },
    "tags": []
   },
   "outputs": [],
   "source": [
    "# Copies the next 20% cat images to validation_cats_dir\n",
    "fnames = ['cat.{}.jpg'.format(i) for i in range(int(12500*0.70), int(12500*0.90))]\n",
    "for fname in fnames:\n",
    "    src = os.path.join(original_dataset_dir, fname)\n",
    "    dst = os.path.join(validation_cats_dir, fname)\n",
    "    shutil.copyfile(src, dst)"
   ]
  },
  {
   "cell_type": "code",
   "execution_count": 10,
   "metadata": {
    "execution": {
     "iopub.execute_input": "2020-08-23T09:14:06.634625Z",
     "iopub.status.busy": "2020-08-23T09:14:06.633894Z",
     "iopub.status.idle": "2020-08-23T09:14:09.799418Z",
     "shell.execute_reply": "2020-08-23T09:14:09.798035Z"
    },
    "id": "FqdWqFKd0vtl",
    "papermill": {
     "duration": 3.179476,
     "end_time": "2020-08-23T09:14:09.799559",
     "exception": false,
     "start_time": "2020-08-23T09:14:06.620083",
     "status": "completed"
    },
    "tags": []
   },
   "outputs": [],
   "source": [
    "# Copies the rest 10% cat images to test_cats_dir\n",
    "fnames = ['cat.{}.jpg'.format(i) for i in range(int(12500*0.90), 12500)]\n",
    "for fname in fnames:\n",
    "    src = os.path.join(original_dataset_dir, fname)\n",
    "    dst = os.path.join(test_cats_dir, fname)\n",
    "    shutil.copyfile(src, dst)"
   ]
  },
  {
   "cell_type": "code",
   "execution_count": 11,
   "metadata": {
    "execution": {
     "iopub.execute_input": "2020-08-23T09:14:09.828647Z",
     "iopub.status.busy": "2020-08-23T09:14:09.828009Z",
     "iopub.status.idle": "2020-08-23T09:14:39.169999Z",
     "shell.execute_reply": "2020-08-23T09:14:39.168837Z"
    },
    "id": "5lKYBRdt05qs",
    "papermill": {
     "duration": 29.362492,
     "end_time": "2020-08-23T09:14:39.170151",
     "exception": false,
     "start_time": "2020-08-23T09:14:09.807659",
     "status": "completed"
    },
    "tags": []
   },
   "outputs": [],
   "source": [
    "# now same work for dog pictures\n",
    "\n",
    "fnames = ['dog.{}.jpg'.format(i) for i in range(int(12500*0.70))]\n",
    "for fname in fnames:\n",
    "    src = os.path.join(original_dataset_dir, fname)\n",
    "    dst = os.path.join(train_dogs_dir, fname)\n",
    "    shutil.copyfile(src, dst)\n",
    "\n",
    "fnames = ['dog.{}.jpg'.format(i) for i in range(int(12500*0.70), int(12500*0.90))]\n",
    "for fname in fnames:\n",
    "    src = os.path.join(original_dataset_dir, fname)\n",
    "    dst = os.path.join(validation_dogs_dir, fname)\n",
    "    shutil.copyfile(src, dst)\n",
    "\n",
    "fnames = ['dog.{}.jpg'.format(i) for i in range(int(12500*0.90), 12500)]\n",
    "for fname in fnames:\n",
    "    src = os.path.join(original_dataset_dir, fname)\n",
    "    dst = os.path.join(test_dogs_dir, fname)\n",
    "    shutil.copyfile(src, dst)"
   ]
  },
  {
   "cell_type": "code",
   "execution_count": 12,
   "metadata": {
    "execution": {
     "iopub.execute_input": "2020-08-23T09:14:39.194718Z",
     "iopub.status.busy": "2020-08-23T09:14:39.193896Z",
     "iopub.status.idle": "2020-08-23T09:14:39.229261Z",
     "shell.execute_reply": "2020-08-23T09:14:39.229744Z"
    },
    "id": "lFHD0Wh7190y",
    "outputId": "4f2431b7-7402-486f-b2f5-ff39d8f2913e",
    "papermill": {
     "duration": 0.051212,
     "end_time": "2020-08-23T09:14:39.229869",
     "exception": false,
     "start_time": "2020-08-23T09:14:39.178657",
     "status": "completed"
    },
    "tags": []
   },
   "outputs": [
    {
     "data": {
      "text/html": [
       "<div>\n",
       "<style scoped>\n",
       "    .dataframe tbody tr th:only-of-type {\n",
       "        vertical-align: middle;\n",
       "    }\n",
       "\n",
       "    .dataframe tbody tr th {\n",
       "        vertical-align: top;\n",
       "    }\n",
       "\n",
       "    .dataframe thead th {\n",
       "        text-align: right;\n",
       "    }\n",
       "</style>\n",
       "<table border=\"1\" class=\"dataframe\">\n",
       "  <thead>\n",
       "    <tr style=\"text-align: right;\">\n",
       "      <th></th>\n",
       "      <th>Set</th>\n",
       "      <th>Type</th>\n",
       "      <th>Number</th>\n",
       "    </tr>\n",
       "  </thead>\n",
       "  <tbody>\n",
       "    <tr>\n",
       "      <th>0</th>\n",
       "      <td>Train</td>\n",
       "      <td>Cats</td>\n",
       "      <td>8750</td>\n",
       "    </tr>\n",
       "    <tr>\n",
       "      <th>1</th>\n",
       "      <td></td>\n",
       "      <td>Dogs</td>\n",
       "      <td>8750</td>\n",
       "    </tr>\n",
       "    <tr>\n",
       "      <th>2</th>\n",
       "      <td>Validation</td>\n",
       "      <td>Cats</td>\n",
       "      <td>2500</td>\n",
       "    </tr>\n",
       "    <tr>\n",
       "      <th>3</th>\n",
       "      <td></td>\n",
       "      <td>Dogs</td>\n",
       "      <td>2500</td>\n",
       "    </tr>\n",
       "    <tr>\n",
       "      <th>4</th>\n",
       "      <td>Test</td>\n",
       "      <td>Cats</td>\n",
       "      <td>1250</td>\n",
       "    </tr>\n",
       "    <tr>\n",
       "      <th>5</th>\n",
       "      <td></td>\n",
       "      <td>Dogs</td>\n",
       "      <td>1250</td>\n",
       "    </tr>\n",
       "  </tbody>\n",
       "</table>\n",
       "</div>"
      ],
      "text/plain": [
       "          Set  Type  Number\n",
       "0       Train  Cats    8750\n",
       "1              Dogs    8750\n",
       "2  Validation  Cats    2500\n",
       "3              Dogs    2500\n",
       "4        Test  Cats    1250\n",
       "5              Dogs    1250"
      ]
     },
     "execution_count": 12,
     "metadata": {},
     "output_type": "execute_result"
    }
   ],
   "source": [
    "# sanity check\n",
    "import pandas as pd\n",
    "d = {\n",
    "        \"Set\": [\"Train\",\"\", \"Validation\",\"\", \"Test\",\"\"],\n",
    "        \"Type\": [\"Cats\", \"Dogs\", \"Cats\", \"Dogs\", \"Cats\", \"Dogs\"],\n",
    "        \"Number\": [len(os.listdir(train_cats_dir)),\n",
    "                    len(os.listdir(train_dogs_dir)),\n",
    "                    len(os.listdir(validation_cats_dir)),\n",
    "                    len(os.listdir(validation_dogs_dir)),\n",
    "                    len(os.listdir(test_cats_dir)),\n",
    "                    len(os.listdir(test_dogs_dir))]\n",
    "    }\n",
    "\n",
    "p = pd.DataFrame(d)\n",
    "p"
   ]
  },
  {
   "cell_type": "markdown",
   "execution_count": null,
   "metadata": {
    "id": "c2IGA90G-8DX",
    "papermill": {
     "duration": 0.007759,
     "end_time": "2020-08-23T09:14:39.245677",
     "exception": false,
     "start_time": "2020-08-23T09:14:39.237918",
     "status": "completed"
    },
    "tags": []
   },
   "source": [
    "## Convnet"
   ]
  },
  {
   "cell_type": "code",
   "execution_count": 13,
   "metadata": {
    "execution": {
     "iopub.execute_input": "2020-08-23T09:14:39.272906Z",
     "iopub.status.busy": "2020-08-23T09:14:39.272200Z",
     "iopub.status.idle": "2020-08-23T09:14:48.271597Z",
     "shell.execute_reply": "2020-08-23T09:14:48.271033Z"
    },
    "id": "Gaawyw3x4I5e",
    "papermill": {
     "duration": 9.017956,
     "end_time": "2020-08-23T09:14:48.271723",
     "exception": false,
     "start_time": "2020-08-23T09:14:39.253767",
     "status": "completed"
    },
    "tags": []
   },
   "outputs": [],
   "source": [
    "from keras import layers\n",
    "from keras import models\n",
    "model = models.Sequential()\n",
    "model.add(layers.Conv2D(32, (3, 3), activation='relu',\n",
    "input_shape=(150, 150, 3)))\n",
    "model.add(layers.MaxPooling2D((2, 2)))\n",
    "model.add(layers.Conv2D(64, (3, 3), activation='relu'))\n",
    "model.add(layers.MaxPooling2D((2, 2)))\n",
    "model.add(layers.Conv2D(128, (3, 3), activation='relu'))\n",
    "model.add(layers.MaxPooling2D((2, 2)))\n",
    "model.add(layers.Conv2D(128, (3, 3), activation='relu'))\n",
    "model.add(layers.MaxPooling2D((2, 2)))\n",
    "model.add(layers.Flatten())\n",
    "model.add(layers.Dense(512, activation='relu'))\n",
    "model.add(layers.Dense(1, activation='sigmoid'))"
   ]
  },
  {
   "cell_type": "code",
   "execution_count": 14,
   "metadata": {
    "execution": {
     "iopub.execute_input": "2020-08-23T09:14:48.294450Z",
     "iopub.status.busy": "2020-08-23T09:14:48.292055Z",
     "iopub.status.idle": "2020-08-23T09:14:48.304083Z",
     "shell.execute_reply": "2020-08-23T09:14:48.305043Z"
    },
    "id": "MVSGzqgt_Dbj",
    "outputId": "df7d4215-1fe2-436a-c66d-791ef4f34338",
    "papermill": {
     "duration": 0.025127,
     "end_time": "2020-08-23T09:14:48.305205",
     "exception": false,
     "start_time": "2020-08-23T09:14:48.280078",
     "status": "completed"
    },
    "tags": []
   },
   "outputs": [
    {
     "name": "stdout",
     "output_type": "stream",
     "text": [
      "Model: \"sequential\"\n",
      "_________________________________________________________________\n",
      "Layer (type)                 Output Shape              Param #   \n",
      "=================================================================\n",
      "conv2d (Conv2D)              (None, 148, 148, 32)      896       \n",
      "_________________________________________________________________\n",
      "max_pooling2d (MaxPooling2D) (None, 74, 74, 32)        0         \n",
      "_________________________________________________________________\n",
      "conv2d_1 (Conv2D)            (None, 72, 72, 64)        18496     \n",
      "_________________________________________________________________\n",
      "max_pooling2d_1 (MaxPooling2 (None, 36, 36, 64)        0         \n",
      "_________________________________________________________________\n",
      "conv2d_2 (Conv2D)            (None, 34, 34, 128)       73856     \n",
      "_________________________________________________________________\n",
      "max_pooling2d_2 (MaxPooling2 (None, 17, 17, 128)       0         \n",
      "_________________________________________________________________\n",
      "conv2d_3 (Conv2D)            (None, 15, 15, 128)       147584    \n",
      "_________________________________________________________________\n",
      "max_pooling2d_3 (MaxPooling2 (None, 7, 7, 128)         0         \n",
      "_________________________________________________________________\n",
      "flatten (Flatten)            (None, 6272)              0         \n",
      "_________________________________________________________________\n",
      "dense (Dense)                (None, 512)               3211776   \n",
      "_________________________________________________________________\n",
      "dense_1 (Dense)              (None, 1)                 513       \n",
      "=================================================================\n",
      "Total params: 3,453,121\n",
      "Trainable params: 3,453,121\n",
      "Non-trainable params: 0\n",
      "_________________________________________________________________\n"
     ]
    }
   ],
   "source": [
    "model.summary()"
   ]
  },
  {
   "cell_type": "markdown",
   "execution_count": null,
   "metadata": {
    "id": "3VIwVdLU_Oxs",
    "papermill": {
     "duration": 0.00822,
     "end_time": "2020-08-23T09:14:48.323611",
     "exception": false,
     "start_time": "2020-08-23T09:14:48.315391",
     "status": "completed"
    },
    "tags": []
   },
   "source": [
    "#### Configure the Model for Training"
   ]
  },
  {
   "cell_type": "code",
   "execution_count": 15,
   "metadata": {
    "execution": {
     "iopub.execute_input": "2020-08-23T09:14:48.351642Z",
     "iopub.status.busy": "2020-08-23T09:14:48.350666Z",
     "iopub.status.idle": "2020-08-23T09:14:48.357364Z",
     "shell.execute_reply": "2020-08-23T09:14:48.356871Z"
    },
    "id": "0orWLpp__E5g",
    "papermill": {
     "duration": 0.025697,
     "end_time": "2020-08-23T09:14:48.357460",
     "exception": false,
     "start_time": "2020-08-23T09:14:48.331763",
     "status": "completed"
    },
    "tags": []
   },
   "outputs": [],
   "source": [
    "from keras import optimizers\n",
    "model.compile(loss='binary_crossentropy',\n",
    "                optimizer=optimizers.RMSprop(lr=1e-4),\n",
    "                metrics=['acc'])"
   ]
  },
  {
   "cell_type": "markdown",
   "execution_count": null,
   "metadata": {
    "id": "UcU3PUx7_hSh",
    "papermill": {
     "duration": 0.008172,
     "end_time": "2020-08-23T09:14:48.373903",
     "exception": false,
     "start_time": "2020-08-23T09:14:48.365731",
     "status": "completed"
    },
    "tags": []
   },
   "source": [
    "## Data Preprocessing\n",
    "- Read the picture files.\n",
    "- Decode the JPEG content to RGB grids of pixels.\n",
    "- Convert these into floating-point tensors.\n",
    "- Rescale the pixel values (between 0 and 255) to the [0, 1] interval (as we know, neural networks prefer to deal with small input values)."
   ]
  },
  {
   "cell_type": "code",
   "execution_count": 16,
   "metadata": {
    "execution": {
     "iopub.execute_input": "2020-08-23T09:14:48.397860Z",
     "iopub.status.busy": "2020-08-23T09:14:48.397190Z",
     "iopub.status.idle": "2020-08-23T09:14:49.189812Z",
     "shell.execute_reply": "2020-08-23T09:14:49.190538Z"
    },
    "id": "V8s9bsBv_dbs",
    "outputId": "f43b11fa-9dba-4a7e-b703-c5d104bf5d96",
    "papermill": {
     "duration": 0.808724,
     "end_time": "2020-08-23T09:14:49.190752",
     "exception": false,
     "start_time": "2020-08-23T09:14:48.382028",
     "status": "completed"
    },
    "tags": []
   },
   "outputs": [
    {
     "name": "stdout",
     "output_type": "stream",
     "text": [
      "Found 17500 images belonging to 2 classes.\n",
      "Found 5000 images belonging to 2 classes.\n"
     ]
    }
   ],
   "source": [
    "from keras.preprocessing.image import ImageDataGenerator\n",
    "\n",
    "# Rescale all images by 1/255\n",
    "train_datagen = ImageDataGenerator(rescale=1./255)\n",
    "test_datagen = ImageDataGenerator(rescale=1./255)\n",
    "train_generator = train_datagen.flow_from_directory(\n",
    "    train_dir,\n",
    "    target_size=(150, 150),\n",
    "    batch_size=50,\n",
    "    class_mode='binary')\n",
    "validation_generator = test_datagen.flow_from_directory(\n",
    "    validation_dir,\n",
    "    target_size=(150, 150),\n",
    "    batch_size=50,\n",
    "    class_mode='binary') #Because we use binary_crossentropy loss, we need binary labels."
   ]
  },
  {
   "cell_type": "code",
   "execution_count": 17,
   "metadata": {
    "execution": {
     "iopub.execute_input": "2020-08-23T09:14:49.214309Z",
     "iopub.status.busy": "2020-08-23T09:14:49.213703Z",
     "iopub.status.idle": "2020-08-23T09:14:49.360305Z",
     "shell.execute_reply": "2020-08-23T09:14:49.361094Z"
    },
    "id": "X8sUgKKSAyyu",
    "outputId": "f5c8ce41-b9b5-48a5-ecde-413973fb317d",
    "papermill": {
     "duration": 0.161254,
     "end_time": "2020-08-23T09:14:49.361258",
     "exception": false,
     "start_time": "2020-08-23T09:14:49.200004",
     "status": "completed"
    },
    "tags": []
   },
   "outputs": [
    {
     "name": "stdout",
     "output_type": "stream",
     "text": [
      "data batch shape: (50, 150, 150, 3)\n",
      "labels batch shape: (50,)\n"
     ]
    }
   ],
   "source": [
    "for data_batch, labels_batch in train_generator:\n",
    "    print('data batch shape:', data_batch.shape)\n",
    "    print('labels batch shape:', labels_batch.shape)\n",
    "    break"
   ]
  },
  {
   "cell_type": "markdown",
   "execution_count": null,
   "metadata": {
    "id": "407eWbY6DEEZ",
    "papermill": {
     "duration": 0.008483,
     "end_time": "2020-08-23T09:14:49.378658",
     "exception": false,
     "start_time": "2020-08-23T09:14:49.370175",
     "status": "completed"
    },
    "tags": []
   },
   "source": [
    "## Fit the model"
   ]
  },
  {
   "cell_type": "code",
   "execution_count": 18,
   "metadata": {
    "execution": {
     "iopub.execute_input": "2020-08-23T09:14:49.400714Z",
     "iopub.status.busy": "2020-08-23T09:14:49.400118Z",
     "iopub.status.idle": "2020-08-23T09:25:01.424745Z",
     "shell.execute_reply": "2020-08-23T09:25:01.425552Z"
    },
    "id": "z67c_KpDB6NR",
    "outputId": "928867df-01e6-4fcf-da95-9287615c8337",
    "papermill": {
     "duration": 612.038564,
     "end_time": "2020-08-23T09:25:01.425772",
     "exception": false,
     "start_time": "2020-08-23T09:14:49.387208",
     "status": "completed"
    },
    "tags": []
   },
   "outputs": [
    {
     "name": "stdout",
     "output_type": "stream",
     "text": [
      "Epoch 1/30\n",
      "100/100 [==============================] - 20s 204ms/step - loss: 0.6821 - acc: 0.5572 - val_loss: 0.6795 - val_acc: 0.5396\n",
      "Epoch 2/30\n",
      "100/100 [==============================] - 21s 207ms/step - loss: 0.6423 - acc: 0.6334 - val_loss: 0.5928 - val_acc: 0.6984\n",
      "Epoch 3/30\n",
      "100/100 [==============================] - 20s 197ms/step - loss: 0.6075 - acc: 0.6706 - val_loss: 0.5901 - val_acc: 0.6824\n",
      "Epoch 4/30\n",
      "100/100 [==============================] - 20s 199ms/step - loss: 0.5745 - acc: 0.7012 - val_loss: 0.5472 - val_acc: 0.7164\n",
      "Epoch 5/30\n",
      "100/100 [==============================] - 21s 209ms/step - loss: 0.5614 - acc: 0.7036 - val_loss: 0.5352 - val_acc: 0.7308\n",
      "Epoch 6/30\n",
      "100/100 [==============================] - 20s 199ms/step - loss: 0.5382 - acc: 0.7260 - val_loss: 0.5189 - val_acc: 0.7428\n",
      "Epoch 7/30\n",
      "100/100 [==============================] - 20s 198ms/step - loss: 0.5282 - acc: 0.7390 - val_loss: 0.5264 - val_acc: 0.7368\n",
      "Epoch 8/30\n",
      "100/100 [==============================] - 20s 204ms/step - loss: 0.5035 - acc: 0.7548 - val_loss: 0.5109 - val_acc: 0.7492\n",
      "Epoch 9/30\n",
      "100/100 [==============================] - 19s 193ms/step - loss: 0.4922 - acc: 0.7626 - val_loss: 0.4769 - val_acc: 0.7760\n",
      "Epoch 10/30\n",
      "100/100 [==============================] - 20s 199ms/step - loss: 0.4915 - acc: 0.7566 - val_loss: 0.4662 - val_acc: 0.7812\n",
      "Epoch 11/30\n",
      "100/100 [==============================] - 20s 204ms/step - loss: 0.4625 - acc: 0.7830 - val_loss: 0.5342 - val_acc: 0.7392\n",
      "Epoch 12/30\n",
      "100/100 [==============================] - 20s 198ms/step - loss: 0.4598 - acc: 0.7862 - val_loss: 0.4478 - val_acc: 0.7992\n",
      "Epoch 13/30\n",
      "100/100 [==============================] - 20s 198ms/step - loss: 0.4504 - acc: 0.7898 - val_loss: 0.4665 - val_acc: 0.7868\n",
      "Epoch 14/30\n",
      "100/100 [==============================] - 20s 204ms/step - loss: 0.4322 - acc: 0.8008 - val_loss: 0.4579 - val_acc: 0.7860\n",
      "Epoch 15/30\n",
      "100/100 [==============================] - 20s 196ms/step - loss: 0.4325 - acc: 0.7970 - val_loss: 0.4542 - val_acc: 0.7872\n",
      "Epoch 16/30\n",
      "100/100 [==============================] - 20s 197ms/step - loss: 0.4132 - acc: 0.8076 - val_loss: 0.4384 - val_acc: 0.8052\n",
      "Epoch 17/30\n",
      "100/100 [==============================] - 20s 203ms/step - loss: 0.4053 - acc: 0.8106 - val_loss: 0.4319 - val_acc: 0.8056\n",
      "Epoch 18/30\n",
      "100/100 [==============================] - 20s 199ms/step - loss: 0.4012 - acc: 0.8150 - val_loss: 0.4140 - val_acc: 0.8088\n",
      "Epoch 19/30\n",
      "100/100 [==============================] - 20s 198ms/step - loss: 0.3880 - acc: 0.8282 - val_loss: 0.4105 - val_acc: 0.8188\n",
      "Epoch 20/30\n",
      "100/100 [==============================] - 21s 210ms/step - loss: 0.3957 - acc: 0.8160 - val_loss: 0.3963 - val_acc: 0.8160\n",
      "Epoch 21/30\n",
      "100/100 [==============================] - 20s 199ms/step - loss: 0.3730 - acc: 0.8284 - val_loss: 0.4170 - val_acc: 0.8100\n",
      "Epoch 22/30\n",
      "100/100 [==============================] - 20s 202ms/step - loss: 0.3715 - acc: 0.8340 - val_loss: 0.4035 - val_acc: 0.8232\n",
      "Epoch 23/30\n",
      "100/100 [==============================] - 21s 206ms/step - loss: 0.3629 - acc: 0.8364 - val_loss: 0.4006 - val_acc: 0.8220\n",
      "Epoch 24/30\n",
      "100/100 [==============================] - 20s 197ms/step - loss: 0.3630 - acc: 0.8354 - val_loss: 0.4313 - val_acc: 0.8084\n",
      "Epoch 25/30\n",
      "100/100 [==============================] - 20s 197ms/step - loss: 0.3506 - acc: 0.8470 - val_loss: 0.3826 - val_acc: 0.8356\n",
      "Epoch 26/30\n",
      "100/100 [==============================] - 21s 206ms/step - loss: 0.3582 - acc: 0.8468 - val_loss: 0.3998 - val_acc: 0.8180\n",
      "Epoch 27/30\n",
      "100/100 [==============================] - 20s 199ms/step - loss: 0.3407 - acc: 0.8478 - val_loss: 0.3795 - val_acc: 0.8376\n",
      "Epoch 28/30\n",
      "100/100 [==============================] - 20s 195ms/step - loss: 0.3322 - acc: 0.8528 - val_loss: 0.4106 - val_acc: 0.8176\n",
      "Epoch 29/30\n",
      "100/100 [==============================] - 20s 203ms/step - loss: 0.3298 - acc: 0.8558 - val_loss: 0.3870 - val_acc: 0.8308\n",
      "Epoch 30/30\n",
      "100/100 [==============================] - 20s 199ms/step - loss: 0.3260 - acc: 0.8580 - val_loss: 0.3790 - val_acc: 0.8296\n"
     ]
    }
   ],
   "source": [
    "history = model.fit(\n",
    "    train_generator,\n",
    "    steps_per_epoch=100,\n",
    "    epochs=30,\n",
    "    validation_data=validation_generator,\n",
    "    validation_steps=50)\n",
    "# it took 1hour to train in my pc. But with GPU, only about 10minutes. Only the 1st epoch was lengthy."
   ]
  },
  {
   "cell_type": "code",
   "execution_count": 19,
   "metadata": {
    "execution": {
     "iopub.execute_input": "2020-08-23T09:25:01.823321Z",
     "iopub.status.busy": "2020-08-23T09:25:01.822423Z",
     "iopub.status.idle": "2020-08-23T09:25:01.881914Z",
     "shell.execute_reply": "2020-08-23T09:25:01.881325Z"
    },
    "id": "yqA4cbORDL2H",
    "papermill": {
     "duration": 0.247884,
     "end_time": "2020-08-23T09:25:01.882028",
     "exception": false,
     "start_time": "2020-08-23T09:25:01.634144",
     "status": "completed"
    },
    "tags": []
   },
   "outputs": [],
   "source": [
    "#### Save the model for future use:\n",
    "model.save('/kaggle/working/cats_and_dogs_small_1.h5')"
   ]
  },
  {
   "cell_type": "markdown",
   "execution_count": null,
   "metadata": {
    "id": "S5MfV6NLMddg",
    "papermill": {
     "duration": 0.172344,
     "end_time": "2020-08-23T09:25:02.229511",
     "exception": false,
     "start_time": "2020-08-23T09:25:02.057167",
     "status": "completed"
    },
    "tags": []
   },
   "source": [
    "## Evaluation"
   ]
  },
  {
   "cell_type": "code",
   "execution_count": 20,
   "metadata": {
    "execution": {
     "iopub.execute_input": "2020-08-23T09:25:02.584718Z",
     "iopub.status.busy": "2020-08-23T09:25:02.584054Z",
     "iopub.status.idle": "2020-08-23T09:25:02.995413Z",
     "shell.execute_reply": "2020-08-23T09:25:02.994420Z"
    },
    "papermill": {
     "duration": 0.593337,
     "end_time": "2020-08-23T09:25:02.995545",
     "exception": false,
     "start_time": "2020-08-23T09:25:02.402208",
     "status": "completed"
    },
    "tags": []
   },
   "outputs": [
    {
     "data": {
      "image/png": "[encoded data removed]",
      "text/plain": [
       "<Figure size 432x288 with 1 Axes>"
      ]
     },
     "metadata": {
      "needs_background": "light"
     },
     "output_type": "display_data"
    },
    {
     "data": {
      "image/png": "[encoded data removed]",
      "text/plain": [
       "<Figure size 432x288 with 1 Axes>"
      ]
     },
     "metadata": {
      "needs_background": "light"
     },
     "output_type": "display_data"
    }
   ],
   "source": [
    "import matplotlib.pyplot as plt\n",
    "acc = history.history['acc']\n",
    "val_acc = history.history['val_acc']\n",
    "loss = history.history['loss']\n",
    "val_loss = history.history['val_loss']\n",
    "epochs = range(1, len(acc) + 1)\n",
    "plt.plot(epochs, acc, 'b', label='Training acc')\n",
    "plt.plot(epochs, val_acc, 'r', label='Validation acc')\n",
    "plt.title('Training and validation accuracy')\n",
    "plt.legend()\n",
    "plt.figure()\n",
    "plt.plot(epochs, loss, 'b', label='Training loss')\n",
    "plt.plot(epochs, val_loss, 'r', label='Validation loss')\n",
    "plt.title('Training and validation loss')\n",
    "plt.legend()\n",
    "plt.show()"
   ]
  },
  {
   "cell_type": "code",
   "execution_count": 21,
   "metadata": {
    "execution": {
     "iopub.execute_input": "2020-08-23T09:25:03.354623Z",
     "iopub.status.busy": "2020-08-23T09:25:03.353966Z",
     "iopub.status.idle": "2020-08-23T09:25:09.896481Z",
     "shell.execute_reply": "2020-08-23T09:25:09.895929Z"
    },
    "papermill": {
     "duration": 6.723158,
     "end_time": "2020-08-23T09:25:09.896638",
     "exception": false,
     "start_time": "2020-08-23T09:25:03.173480",
     "status": "completed"
    },
    "tags": []
   },
   "outputs": [
    {
     "name": "stdout",
     "output_type": "stream",
     "text": [
      "Found 2500 images belonging to 2 classes.\n",
      "Test Accuracy: 0.8220000267028809\n"
     ]
    }
   ],
   "source": [
    "test_generator = test_datagen.flow_from_directory(\n",
    "        test_dir,\n",
    "        target_size=(150, 150),\n",
    "        batch_size=50,\n",
    "        class_mode='binary',\n",
    "        shuffle=False)\n",
    "\n",
    "test_loss, test_acc = model.evaluate_generator(test_generator, steps=50)\n",
    "print('Test Accuracy:', test_acc)"
   ]
  },
  {
   "cell_type": "code",
   "execution_count": 22,
   "metadata": {
    "execution": {
     "iopub.execute_input": "2020-08-23T09:25:10.282831Z",
     "iopub.status.busy": "2020-08-23T09:25:10.282173Z",
     "iopub.status.idle": "2020-08-23T09:25:17.268849Z",
     "shell.execute_reply": "2020-08-23T09:25:17.269342Z"
    },
    "papermill": {
     "duration": 7.16848,
     "end_time": "2020-08-23T09:25:17.269477",
     "exception": false,
     "start_time": "2020-08-23T09:25:10.100997",
     "status": "completed"
    },
    "tags": []
   },
   "outputs": [
    {
     "name": "stdout",
     "output_type": "stream",
     "text": [
      "\n",
      "============TEST METRICS=============\n",
      "Accuracy: 82.19999999999999%\n",
      "Precision: 79.92565055762083%\n",
      "Recall: 86.0%\n",
      "F1-score: 82.85163776493258\n"
     ]
    }
   ],
   "source": [
    "from sklearn.metrics import accuracy_score, confusion_matrix\n",
    "import numpy as np\n",
    "# load model\n",
    "# from tensorflow.keras.models import load_model\n",
    "# model = load_model('/kaggle/working/cats_and_dogs_small_1.h5')\n",
    "# preds = model.predict_generator(test_generator, steps=len(test_generator))\n",
    "# preds = model.predict(test_generator)\n",
    "preds = model.predict_generator(test_generator,steps = len(test_generator.labels//50))\n",
    "\n",
    "y=test_generator.classes # shape=(2500,)\n",
    "y_test =y.reshape(2500,1)\n",
    "\n",
    "acc = accuracy_score(test_generator.labels, np.round(preds))*100\n",
    "cm = confusion_matrix(test_generator.labels, np.round(preds))\n",
    "\n",
    "tn, fp, fn, tp = cm.ravel()\n",
    "\n",
    "print('\\n============TEST METRICS=============')\n",
    "precision = tp/(tp+fp)*100\n",
    "recall = tp/(tp+fn)*100\n",
    "print('Accuracy: {}%'.format(acc))\n",
    "print('Precision: {}%'.format(precision))\n",
    "print('Recall: {}%'.format(recall))\n",
    "print('F1-score: {}'.format(2*precision*recall/(precision+recall)))"
   ]
  },
  {
   "cell_type": "markdown",
   "execution_count": null,
   "metadata": {
    "papermill": {
     "duration": 0.171397,
     "end_time": "2020-08-23T09:25:17.612598",
     "exception": false,
     "start_time": "2020-08-23T09:25:17.441201",
     "status": "completed"
    },
    "tags": []
   },
   "source": [
    "### Confusion Matrix"
   ]
  },
  {
   "cell_type": "code",
   "execution_count": 23,
   "metadata": {
    "execution": {
     "iopub.execute_input": "2020-08-23T09:25:17.980691Z",
     "iopub.status.busy": "2020-08-23T09:25:17.963134Z",
     "iopub.status.idle": "2020-08-23T09:25:18.449863Z",
     "shell.execute_reply": "2020-08-23T09:25:18.450762Z"
    },
    "papermill": {
     "duration": 0.666507,
     "end_time": "2020-08-23T09:25:18.450970",
     "exception": false,
     "start_time": "2020-08-23T09:25:17.784463",
     "status": "completed"
    },
    "tags": []
   },
   "outputs": [
    {
     "data": {
      "image/png": "[encoded data removed]",
      "text/plain": [
       "<Figure size 432x288 with 2 Axes>"
      ]
     },
     "metadata": {
      "needs_background": "light"
     },
     "output_type": "display_data"
    }
   ],
   "source": [
    "import numpy as np\n",
    "import pandas as pd\n",
    "import matplotlib.pyplot as plt\n",
    "%matplotlib inline\n",
    "import seaborn as sns\n",
    "from sklearn.metrics import confusion_matrix\n",
    "\n",
    "def plot_cm(y_true, y_pred):\n",
    "    cm = confusion_matrix(y_true, y_pred, labels=np.unique(y_true))\n",
    "    cm_sum = np.sum(cm, axis=1, keepdims=True)\n",
    "    cm_perc = cm / cm_sum.astype(float) * 100\n",
    "    annot = np.empty_like(cm).astype(str)\n",
    "    nrows, ncols = cm.shape\n",
    "    for i in range(nrows):\n",
    "        for j in range(ncols):\n",
    "            c = cm[i, j]\n",
    "            p = cm_perc[i, j]\n",
    "            if i == j:\n",
    "                s = cm_sum[i]\n",
    "                annot[i, j] = '%.1f%%\\n%d/%d' % (p, c, s)\n",
    "            elif c == 0:\n",
    "                annot[i, j] = ''\n",
    "            else:\n",
    "                annot[i, j] = '%.1f%%\\n%d' % (p, c)\n",
    "    cm = pd.DataFrame(cm, index=np.unique(y_true), columns=np.unique(y_true))\n",
    "    cm.index.name = 'Actual'\n",
    "    cm.columns.name = 'Predicted'\n",
    "    fig, ax = plt.subplots()\n",
    "    sns.heatmap(cm, cmap= \"YlGnBu\", annot=annot, fmt='', ax=ax)\n",
    "    \n",
    "plot_cm(test_generator.labels, np.round(preds))"
   ]
  },
  {
   "cell_type": "code",
   "execution_count": 24,
   "metadata": {
    "execution": {
     "iopub.execute_input": "2020-08-23T09:25:18.886652Z",
     "iopub.status.busy": "2020-08-23T09:25:18.885711Z",
     "iopub.status.idle": "2020-08-23T09:25:18.887775Z",
     "shell.execute_reply": "2020-08-23T09:25:18.888239Z"
    },
    "papermill": {
     "duration": 0.182225,
     "end_time": "2020-08-23T09:25:18.888363",
     "exception": false,
     "start_time": "2020-08-23T09:25:18.706138",
     "status": "completed"
    },
    "tags": []
   },
   "outputs": [],
   "source": [
    "# %matplotlib inline\n",
    "# import numpy as np\n",
    "# import os\n",
    "# import seaborn as sns\n",
    "# import matplotlib.pyplot as plt\n",
    "\n",
    "# ax = plt.axes()\n",
    "# sns.heatmap(cm, annot=True, fmt=\"d\")\n",
    "\n",
    "# ax.set_title('Confusion Matrix')\n",
    "# plt.show()"
   ]
  }
 ],
 "metadata": {
  "kernelspec": {
   "display_name": "Python 3",
   "language": "python",
   "name": "python3"
  },
  "language_info": {
   "codemirror_mode": {
    "name": "ipython",
    "version": 3
   },
   "file_extension": ".py",
   "mimetype": "text/x-python",
   "name": "python",
   "nbconvert_exporter": "python",
   "pygments_lexer": "ipython3",
   "version": "3.7.6"
  },
  "papermill": {
   "duration": 704.10968,
   "end_time": "2020-08-23T09:25:20.941643",
   "environment_variables": {},
   "exception": null,
   "input_path": "__notebook__.ipynb",
   "output_path": "__notebook__.ipynb",
   "parameters": {},
   "start_time": "2020-08-23T09:13:36.831963",
   "version": "2.1.0"
  }
 },
 "nbformat": 4,
 "nbformat_minor": 4
}

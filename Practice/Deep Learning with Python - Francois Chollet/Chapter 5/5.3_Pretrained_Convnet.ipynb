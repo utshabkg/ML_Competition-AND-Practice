{
  "nbformat": 4,
  "nbformat_minor": 0,
  "metadata": {
    "colab": {
      "name": "5.3_Pretrained Convnet.ipynb",
      "provenance": []
    },
    "kernelspec": {
      "name": "python3",
      "display_name": "Python 3"
    },
    "accelerator": "GPU"
  },
  "cells": [
    {
      "cell_type": "markdown",
      "metadata": {
        "id": "DZMjs0et-R5w",
        "colab_type": "text"
      },
      "source": [
        "We need GPU for it because Section 1.2 will be very slow. So we go to **\"Runtime\"** option of Colab and **Change Runtime Type** to **GPU**. Then we check if it's enabled."
      ]
    },
    {
      "cell_type": "code",
      "metadata": {
        "id": "5RUHi7bZUm_R",
        "colab_type": "code",
        "colab": {
          "base_uri": "https://localhost:8080/",
          "height": 33
        },
        "outputId": "75c8c03a-3acc-428c-b656-140df9e569d6"
      },
      "source": [
        "%tensorflow_version 2.x\n",
        "import tensorflow as tf\n",
        "device_name = tf.test.gpu_device_name()\n",
        "if device_name != '/device:GPU:0':\n",
        "  raise SystemError('GPU device not found')\n",
        "print('Found GPU at: {}'.format(device_name))"
      ],
      "execution_count": 11,
      "outputs": [
        {
          "output_type": "stream",
          "text": [
            "Found GPU at: /device:GPU:0\n"
          ],
          "name": "stdout"
        }
      ]
    },
    {
      "cell_type": "markdown",
      "metadata": {
        "id": "od3LHTN-ThgS",
        "colab_type": "text"
      },
      "source": [
        "# 5.3\n",
        "There are two ways to use a pretrained network: <br>\n",
        "- feature extraction\n",
        "- fine-tuning\n",
        "\n",
        "## 1. Feature Extraction"
      ]
    },
    {
      "cell_type": "code",
      "metadata": {
        "id": "CjFnWn0-Tjc1",
        "colab_type": "code",
        "colab": {
          "base_uri": "https://localhost:8080/",
          "height": 50
        },
        "outputId": "f076221c-5217-4e6b-cff7-2d993698e70a"
      },
      "source": [
        "# VGG16 Model\n",
        "from keras.applications import VGG16\n",
        "conv_base = VGG16(weights='imagenet',\n",
        "                include_top=False,\n",
        "                input_shape=(150, 150, 3))"
      ],
      "execution_count": 1,
      "outputs": [
        {
          "output_type": "stream",
          "text": [
            "Downloading data from https://storage.googleapis.com/tensorflow/keras-applications/vgg16/vgg16_weights_tf_dim_ordering_tf_kernels_notop.h5\n",
            "58892288/58889256 [==============================] - 2s 0us/step\n"
          ],
          "name": "stdout"
        }
      ]
    },
    {
      "cell_type": "code",
      "metadata": {
        "id": "TaNlRr_vQDvX",
        "colab_type": "code",
        "colab": {
          "base_uri": "https://localhost:8080/",
          "height": 786
        },
        "outputId": "4b6befd6-21e9-4c1e-bccc-3c6198393eae"
      },
      "source": [
        "conv_base.summary()"
      ],
      "execution_count": 2,
      "outputs": [
        {
          "output_type": "stream",
          "text": [
            "Model: \"vgg16\"\n",
            "_________________________________________________________________\n",
            "Layer (type)                 Output Shape              Param #   \n",
            "=================================================================\n",
            "input_1 (InputLayer)         [(None, 150, 150, 3)]     0         \n",
            "_________________________________________________________________\n",
            "block1_conv1 (Conv2D)        (None, 150, 150, 64)      1792      \n",
            "_________________________________________________________________\n",
            "block1_conv2 (Conv2D)        (None, 150, 150, 64)      36928     \n",
            "_________________________________________________________________\n",
            "block1_pool (MaxPooling2D)   (None, 75, 75, 64)        0         \n",
            "_________________________________________________________________\n",
            "block2_conv1 (Conv2D)        (None, 75, 75, 128)       73856     \n",
            "_________________________________________________________________\n",
            "block2_conv2 (Conv2D)        (None, 75, 75, 128)       147584    \n",
            "_________________________________________________________________\n",
            "block2_pool (MaxPooling2D)   (None, 37, 37, 128)       0         \n",
            "_________________________________________________________________\n",
            "block3_conv1 (Conv2D)        (None, 37, 37, 256)       295168    \n",
            "_________________________________________________________________\n",
            "block3_conv2 (Conv2D)        (None, 37, 37, 256)       590080    \n",
            "_________________________________________________________________\n",
            "block3_conv3 (Conv2D)        (None, 37, 37, 256)       590080    \n",
            "_________________________________________________________________\n",
            "block3_pool (MaxPooling2D)   (None, 18, 18, 256)       0         \n",
            "_________________________________________________________________\n",
            "block4_conv1 (Conv2D)        (None, 18, 18, 512)       1180160   \n",
            "_________________________________________________________________\n",
            "block4_conv2 (Conv2D)        (None, 18, 18, 512)       2359808   \n",
            "_________________________________________________________________\n",
            "block4_conv3 (Conv2D)        (None, 18, 18, 512)       2359808   \n",
            "_________________________________________________________________\n",
            "block4_pool (MaxPooling2D)   (None, 9, 9, 512)         0         \n",
            "_________________________________________________________________\n",
            "block5_conv1 (Conv2D)        (None, 9, 9, 512)         2359808   \n",
            "_________________________________________________________________\n",
            "block5_conv2 (Conv2D)        (None, 9, 9, 512)         2359808   \n",
            "_________________________________________________________________\n",
            "block5_conv3 (Conv2D)        (None, 9, 9, 512)         2359808   \n",
            "_________________________________________________________________\n",
            "block5_pool (MaxPooling2D)   (None, 4, 4, 512)         0         \n",
            "=================================================================\n",
            "Total params: 14,714,688\n",
            "Trainable params: 14,714,688\n",
            "Non-trainable params: 0\n",
            "_________________________________________________________________\n"
          ],
          "name": "stdout"
        }
      ]
    },
    {
      "cell_type": "markdown",
      "metadata": {
        "id": "kKy_PTChRjrH",
        "colab_type": "text"
      },
      "source": [
        "We will use two methods\n",
        "\n",
        "### 1.1. Fast Feature Extraction without Data Augmentation"
      ]
    },
    {
      "cell_type": "code",
      "metadata": {
        "id": "8_tyyJQOQ9dS",
        "colab_type": "code",
        "colab": {}
      },
      "source": [
        "import os\n",
        "import numpy as np\n",
        "from keras.preprocessing.image import ImageDataGenerator"
      ],
      "execution_count": 3,
      "outputs": []
    },
    {
      "cell_type": "code",
      "metadata": {
        "id": "KbnjTBcyR8Qo",
        "colab_type": "code",
        "colab": {}
      },
      "source": [
        "# Fetch the path of dataset.\n",
        "base_dir = \"/content/drive/My Drive/Colab_Notebooks/dog-cat-small\"\n",
        "train_dir = os.path.join(base_dir, 'train')\n",
        "validation_dir = os.path.join(base_dir, 'validation')\n",
        "test_dir = os.path.join(base_dir, 'test')"
      ],
      "execution_count": 4,
      "outputs": []
    },
    {
      "cell_type": "code",
      "metadata": {
        "id": "Cd9UMLrsSJXw",
        "colab_type": "code",
        "colab": {}
      },
      "source": [
        "datagen = ImageDataGenerator(rescale=1./255)\n",
        "batch_size = 20"
      ],
      "execution_count": 5,
      "outputs": []
    },
    {
      "cell_type": "code",
      "metadata": {
        "id": "qJKFHE-qSNa3",
        "colab_type": "code",
        "colab": {}
      },
      "source": [
        "def extract_features(directory, sample_count):\n",
        "    features = np.zeros(shape=(sample_count, 4, 4, 512))\n",
        "    labels = np.zeros(shape=(sample_count))\n",
        "    generator = datagen.flow_from_directory(\n",
        "                directory,\n",
        "                target_size=(150, 150),\n",
        "                batch_size=batch_size,\n",
        "                class_mode='binary')\n",
        "    i = 0\n",
        "    for inputs_batch, labels_batch in generator:\n",
        "        features_batch = conv_base.predict(inputs_batch)\n",
        "        features[i * batch_size : (i + 1) * batch_size] = features_batch\n",
        "        labels[i * batch_size : (i + 1) * batch_size] = labels_batch\n",
        "        i += 1\n",
        "        if i * batch_size >= sample_count:\n",
        "            break # because generators yield data indefinitely in a loop,\n",
        "                  # we must break after every image has been seen once.\n",
        "    \n",
        "    return features, labels"
      ],
      "execution_count": 6,
      "outputs": []
    },
    {
      "cell_type": "code",
      "metadata": {
        "id": "7Ac4WKqjSvNe",
        "colab_type": "code",
        "colab": {
          "base_uri": "https://localhost:8080/",
          "height": 67
        },
        "outputId": "cb9e88b7-ec9a-42ca-b0f9-9ce9e2fb9bf3"
      },
      "source": [
        "train_features, train_labels = extract_features(train_dir, 2000)\n",
        "validation_features, validation_labels = extract_features(validation_dir, 1000)\n",
        "test_features, test_labels = extract_features(test_dir, 1000)\n",
        "# it took about 1hour"
      ],
      "execution_count": 7,
      "outputs": [
        {
          "output_type": "stream",
          "text": [
            "Found 2000 images belonging to 2 classes.\n",
            "Found 1000 images belonging to 2 classes.\n",
            "Found 1000 images belonging to 2 classes.\n"
          ],
          "name": "stdout"
        }
      ]
    },
    {
      "cell_type": "markdown",
      "metadata": {
        "id": "Ps0yWRTMTECi",
        "colab_type": "text"
      },
      "source": [
        "The extracted features are currently of shape (samples, 4, 4, 512). we will feed them\n",
        "to a densely connected classifier, so first you must flatten them to (samples, 8192):"
      ]
    },
    {
      "cell_type": "code",
      "metadata": {
        "id": "hJt7f5MdS2Ip",
        "colab_type": "code",
        "colab": {}
      },
      "source": [
        "train_features = np.reshape(train_features, (2000, 4 * 4 * 512))\n",
        "validation_features = np.reshape(validation_features, (1000, 4 * 4 * 512))\n",
        "test_features = np.reshape(test_features, (1000, 4 * 4 * 512))"
      ],
      "execution_count": 8,
      "outputs": []
    },
    {
      "cell_type": "markdown",
      "metadata": {
        "id": "S9fa6pYyZDga",
        "colab_type": "text"
      },
      "source": [
        "### Train"
      ]
    },
    {
      "cell_type": "code",
      "metadata": {
        "id": "AGJGBIiITuvf",
        "colab_type": "code",
        "colab": {
          "base_uri": "https://localhost:8080/",
          "height": 1000
        },
        "outputId": "73f04a27-7c2a-45fd-f0de-98bca9725ca2"
      },
      "source": [
        "#Defining and training the densely connected classifier\n",
        "from keras import models\n",
        "from keras import layers\n",
        "from keras import optimizers\n",
        "model = models.Sequential()\n",
        "model.add(layers.Dense(256, activation='relu', input_dim=4 * 4 * 512))\n",
        "model.add(layers.Dropout(0.5))\n",
        "model.add(layers.Dense(1, activation='sigmoid'))\n",
        "\n",
        "model.compile(optimizer=optimizers.RMSprop(lr=2e-5),\n",
        "            loss='binary_crossentropy',\n",
        "            metrics=['acc'])\n",
        "\n",
        "history = model.fit(train_features, train_labels,\n",
        "            epochs=30,\n",
        "            batch_size=20,\n",
        "            validation_data=(validation_features, validation_labels))\n",
        "\n",
        "# it took only some seconds, as we have to deal with only 2 dense layers"
      ],
      "execution_count": 9,
      "outputs": [
        {
          "output_type": "stream",
          "text": [
            "Epoch 1/30\n",
            "100/100 [==============================] - 1s 7ms/step - loss: 0.5994 - acc: 0.6755 - val_loss: 0.4331 - val_acc: 0.8250\n",
            "Epoch 2/30\n",
            "100/100 [==============================] - 1s 6ms/step - loss: 0.4135 - acc: 0.8050 - val_loss: 0.3516 - val_acc: 0.8620\n",
            "Epoch 3/30\n",
            "100/100 [==============================] - 1s 6ms/step - loss: 0.3524 - acc: 0.8555 - val_loss: 0.3146 - val_acc: 0.8770\n",
            "Epoch 4/30\n",
            "100/100 [==============================] - 1s 6ms/step - loss: 0.3170 - acc: 0.8700 - val_loss: 0.2917 - val_acc: 0.8850\n",
            "Epoch 5/30\n",
            "100/100 [==============================] - 1s 6ms/step - loss: 0.2873 - acc: 0.8860 - val_loss: 0.2775 - val_acc: 0.8860\n",
            "Epoch 6/30\n",
            "100/100 [==============================] - 1s 5ms/step - loss: 0.2575 - acc: 0.8990 - val_loss: 0.2675 - val_acc: 0.8900\n",
            "Epoch 7/30\n",
            "100/100 [==============================] - 1s 6ms/step - loss: 0.2395 - acc: 0.9040 - val_loss: 0.2597 - val_acc: 0.8950\n",
            "Epoch 8/30\n",
            "100/100 [==============================] - 1s 5ms/step - loss: 0.2314 - acc: 0.9110 - val_loss: 0.2589 - val_acc: 0.8910\n",
            "Epoch 9/30\n",
            "100/100 [==============================] - 1s 6ms/step - loss: 0.2164 - acc: 0.9180 - val_loss: 0.2499 - val_acc: 0.8910\n",
            "Epoch 10/30\n",
            "100/100 [==============================] - 1s 6ms/step - loss: 0.2067 - acc: 0.9150 - val_loss: 0.2453 - val_acc: 0.8930\n",
            "Epoch 11/30\n",
            "100/100 [==============================] - 1s 6ms/step - loss: 0.1918 - acc: 0.9270 - val_loss: 0.2446 - val_acc: 0.8980\n",
            "Epoch 12/30\n",
            "100/100 [==============================] - 1s 6ms/step - loss: 0.1797 - acc: 0.9400 - val_loss: 0.2432 - val_acc: 0.9010\n",
            "Epoch 13/30\n",
            "100/100 [==============================] - 1s 5ms/step - loss: 0.1745 - acc: 0.9385 - val_loss: 0.2416 - val_acc: 0.8980\n",
            "Epoch 14/30\n",
            "100/100 [==============================] - 1s 6ms/step - loss: 0.1685 - acc: 0.9405 - val_loss: 0.2364 - val_acc: 0.8970\n",
            "Epoch 15/30\n",
            "100/100 [==============================] - 1s 6ms/step - loss: 0.1519 - acc: 0.9455 - val_loss: 0.2395 - val_acc: 0.8980\n",
            "Epoch 16/30\n",
            "100/100 [==============================] - 1s 6ms/step - loss: 0.1508 - acc: 0.9475 - val_loss: 0.2408 - val_acc: 0.8930\n",
            "Epoch 17/30\n",
            "100/100 [==============================] - 1s 5ms/step - loss: 0.1469 - acc: 0.9510 - val_loss: 0.2325 - val_acc: 0.9030\n",
            "Epoch 18/30\n",
            "100/100 [==============================] - 1s 5ms/step - loss: 0.1393 - acc: 0.9515 - val_loss: 0.2533 - val_acc: 0.8920\n",
            "Epoch 19/30\n",
            "100/100 [==============================] - 1s 5ms/step - loss: 0.1312 - acc: 0.9520 - val_loss: 0.2334 - val_acc: 0.9050\n",
            "Epoch 20/30\n",
            "100/100 [==============================] - 1s 5ms/step - loss: 0.1255 - acc: 0.9590 - val_loss: 0.2339 - val_acc: 0.9020\n",
            "Epoch 21/30\n",
            "100/100 [==============================] - 1s 5ms/step - loss: 0.1215 - acc: 0.9615 - val_loss: 0.2328 - val_acc: 0.9000\n",
            "Epoch 22/30\n",
            "100/100 [==============================] - 1s 5ms/step - loss: 0.1206 - acc: 0.9610 - val_loss: 0.2332 - val_acc: 0.9020\n",
            "Epoch 23/30\n",
            "100/100 [==============================] - 1s 5ms/step - loss: 0.1098 - acc: 0.9615 - val_loss: 0.2388 - val_acc: 0.8940\n",
            "Epoch 24/30\n",
            "100/100 [==============================] - 1s 5ms/step - loss: 0.1066 - acc: 0.9675 - val_loss: 0.2363 - val_acc: 0.8980\n",
            "Epoch 25/30\n",
            "100/100 [==============================] - 1s 5ms/step - loss: 0.0998 - acc: 0.9640 - val_loss: 0.2360 - val_acc: 0.9020\n",
            "Epoch 26/30\n",
            "100/100 [==============================] - 1s 5ms/step - loss: 0.0968 - acc: 0.9695 - val_loss: 0.2357 - val_acc: 0.9030\n",
            "Epoch 27/30\n",
            "100/100 [==============================] - 1s 5ms/step - loss: 0.0954 - acc: 0.9730 - val_loss: 0.2403 - val_acc: 0.8980\n",
            "Epoch 28/30\n",
            "100/100 [==============================] - 1s 5ms/step - loss: 0.0894 - acc: 0.9735 - val_loss: 0.2511 - val_acc: 0.9020\n",
            "Epoch 29/30\n",
            "100/100 [==============================] - 1s 6ms/step - loss: 0.0897 - acc: 0.9725 - val_loss: 0.2399 - val_acc: 0.9000\n",
            "Epoch 30/30\n",
            "100/100 [==============================] - 1s 6ms/step - loss: 0.0830 - acc: 0.9765 - val_loss: 0.2372 - val_acc: 0.8990\n"
          ],
          "name": "stdout"
        }
      ]
    },
    {
      "cell_type": "code",
      "metadata": {
        "id": "ON0hcBT0UeR-",
        "colab_type": "code",
        "colab": {
          "base_uri": "https://localhost:8080/",
          "height": 545
        },
        "outputId": "7ea467a7-8085-4ea5-d3ff-d60d6c9ec131"
      },
      "source": [
        "# plotting result\n",
        "import matplotlib.pyplot as plt\n",
        "acc = history.history['acc']\n",
        "val_acc = history.history['val_acc']\n",
        "loss = history.history['loss']\n",
        "val_loss = history.history['val_loss']\n",
        "epochs = range(1, len(acc) + 1)\n",
        "plt.plot(epochs, acc, 'bo', label='Training acc')\n",
        "plt.plot(epochs, val_acc, 'ro', label='Validation acc')\n",
        "plt.title('Training and validation accuracy')\n",
        "plt.legend()\n",
        "plt.figure()\n",
        "plt.plot(epochs, loss, 'bo', label='Training loss')\n",
        "plt.plot(epochs, val_loss, 'ro', label='Validation loss')\n",
        "plt.title('Training and validation loss')\n",
        "plt.legend()\n",
        "plt.show()"
      ],
      "execution_count": 10,
      "outputs": [
        {
          "output_type": "display_data",
          "data": {
            "image/png": "[encoded data removed]",
            "text/plain": [
              "<Figure size 432x288 with 1 Axes>"
            ]
          },
          "metadata": {
            "tags": [],
            "needs_background": "light"
          }
        },
        {
          "output_type": "display_data",
          "data": {
            "image/png": "[encoded data removed]",
            "text/plain": [
              "<Figure size 432x288 with 1 Axes>"
            ]
          },
          "metadata": {
            "tags": [],
            "needs_background": "light"
          }
        }
      ]
    },
    {
      "cell_type": "markdown",
      "metadata": {
        "id": "z0bPpnVRUt30",
        "colab_type": "text"
      },
      "source": [
        "Again Overfitting as we aren't using Data Augmentation here. So now we will try that.\n",
        "### 1.2. FEATURE EXTRACTION WITH DATA AUGMENTATION"
      ]
    },
    {
      "cell_type": "markdown",
      "metadata": {
        "id": "25B2vAWZWulF",
        "colab_type": "text"
      },
      "source": [
        "We must do it with GPU as mentioned at the start of this notebook."
      ]
    },
    {
      "cell_type": "code",
      "metadata": {
        "id": "4cRVB183Wfmn",
        "colab_type": "code",
        "colab": {}
      },
      "source": [
        "from keras import models\n",
        "from keras import layers\n",
        "model = models.Sequential()\n",
        "model.add(conv_base)\n",
        "model.add(layers.Flatten())\n",
        "model.add(layers.Dense(256, activation='relu'))\n",
        "model.add(layers.Dense(1, activation='sigmoid'))"
      ],
      "execution_count": 12,
      "outputs": []
    },
    {
      "cell_type": "code",
      "metadata": {
        "id": "1XoNLlFkW8X7",
        "colab_type": "code",
        "colab": {
          "base_uri": "https://localhost:8080/",
          "height": 284
        },
        "outputId": "c4a91e6b-6b7c-4662-98c4-f8d461ccca3f"
      },
      "source": [
        "model.summary()"
      ],
      "execution_count": 13,
      "outputs": [
        {
          "output_type": "stream",
          "text": [
            "Model: \"sequential_1\"\n",
            "_________________________________________________________________\n",
            "Layer (type)                 Output Shape              Param #   \n",
            "=================================================================\n",
            "vgg16 (Functional)           (None, 4, 4, 512)         14714688  \n",
            "_________________________________________________________________\n",
            "flatten (Flatten)            (None, 8192)              0         \n",
            "_________________________________________________________________\n",
            "dense_2 (Dense)              (None, 256)               2097408   \n",
            "_________________________________________________________________\n",
            "dense_3 (Dense)              (None, 1)                 257       \n",
            "=================================================================\n",
            "Total params: 16,812,353\n",
            "Trainable params: 16,812,353\n",
            "Non-trainable params: 0\n",
            "_________________________________________________________________\n"
          ],
          "name": "stdout"
        }
      ]
    },
    {
      "cell_type": "markdown",
      "metadata": {
        "id": "x-Q9GsGLXdUo",
        "colab_type": "text"
      },
      "source": [
        "<h3>Note:</h3>Before we compile and train the model, it’s very important to freeze the convolutional\n",
        "base. \n",
        "\n",
        "**Freezing a layer or set of layers means preventing their weights from being updated during training.**\n",
        "If you don’t do this, then the representations that were previously\n",
        "learned by the convolutional base will be modified during training. Because\n",
        "the Dense layers on top are randomly initialized, very large weight updates would be propagated through the network, effectively destroying the representations previously learned."
      ]
    },
    {
      "cell_type": "code",
      "metadata": {
        "id": "Zzh8BsPOXOUc",
        "colab_type": "code",
        "colab": {
          "base_uri": "https://localhost:8080/",
          "height": 50
        },
        "outputId": "9a6574b5-6bdd-4f81-8f68-8f30611ecb87"
      },
      "source": [
        "import pandas as pd\n",
        "print(\"Before freeze, number of trainable weights:\", len(model.trainable_weights))\n",
        "conv_base.trainable = False\n",
        "print(\"After freeze:\", len(model.trainable_weights))"
      ],
      "execution_count": 15,
      "outputs": [
        {
          "output_type": "stream",
          "text": [
            "Before freeze, number of trainable weights: 30\n",
            "After freeze: 4\n"
          ],
          "name": "stdout"
        }
      ]
    },
    {
      "cell_type": "markdown",
      "metadata": {
        "id": "0OF2ppwdY9sN",
        "colab_type": "text"
      },
      "source": [
        "### Train"
      ]
    },
    {
      "cell_type": "code",
      "metadata": {
        "id": "uLikGNQZZHOn",
        "colab_type": "code",
        "colab": {
          "base_uri": "https://localhost:8080/",
          "height": 1000
        },
        "outputId": "dca13c5c-c11b-498c-b900-19ebd6c9a692"
      },
      "source": [
        "from keras.preprocessing.image import ImageDataGenerator\n",
        "from keras import optimizers\n",
        "train_datagen = ImageDataGenerator(\n",
        "                    rescale=1./255,\n",
        "                    rotation_range=40,\n",
        "                    width_shift_range=0.2,\n",
        "                    height_shift_range=0.2,\n",
        "                    shear_range=0.2,\n",
        "                    zoom_range=0.2,\n",
        "                    horizontal_flip=True,\n",
        "                    fill_mode='nearest')\n",
        "test_datagen = ImageDataGenerator(rescale=1./255)\n",
        "train_generator = train_datagen.flow_from_directory(\n",
        "                    train_dir,\n",
        "                    target_size=(150, 150),\n",
        "                    batch_size=20,\n",
        "                    class_mode='binary')\n",
        "validation_generator = test_datagen.flow_from_directory(\n",
        "                            validation_dir,\n",
        "                            target_size=(150, 150),\n",
        "                            batch_size=20,\n",
        "                            class_mode='binary')\n",
        "model.compile(loss='binary_crossentropy',\n",
        "                optimizer=optimizers.RMSprop(lr=2e-5),\n",
        "                metrics=['acc'])\n",
        "history = model.fit_generator(\n",
        "            train_generator,\n",
        "            steps_per_epoch=100,\n",
        "            epochs=30,\n",
        "            validation_data=validation_generator,\n",
        "            validation_steps=50)"
      ],
      "execution_count": 16,
      "outputs": [
        {
          "output_type": "stream",
          "text": [
            "Found 2000 images belonging to 2 classes.\n",
            "Found 1000 images belonging to 2 classes.\n",
            "WARNING:tensorflow:From <ipython-input-16-67e79d49de3c>:31: Model.fit_generator (from tensorflow.python.keras.engine.training) is deprecated and will be removed in a future version.\n",
            "Instructions for updating:\n",
            "Please use Model.fit, which supports generators.\n",
            "Epoch 1/30\n",
            "100/100 [==============================] - 30s 300ms/step - loss: 0.6004 - acc: 0.6765 - val_loss: 0.4607 - val_acc: 0.8180\n",
            "Epoch 2/30\n",
            "100/100 [==============================] - 29s 291ms/step - loss: 0.4880 - acc: 0.7890 - val_loss: 0.3656 - val_acc: 0.8640\n",
            "Epoch 3/30\n",
            "100/100 [==============================] - 29s 292ms/step - loss: 0.4318 - acc: 0.8180 - val_loss: 0.3276 - val_acc: 0.8720\n",
            "Epoch 4/30\n",
            "100/100 [==============================] - 28s 284ms/step - loss: 0.3995 - acc: 0.8300 - val_loss: 0.3160 - val_acc: 0.8730\n",
            "Epoch 5/30\n",
            "100/100 [==============================] - 28s 283ms/step - loss: 0.3863 - acc: 0.8325 - val_loss: 0.2954 - val_acc: 0.8720\n",
            "Epoch 6/30\n",
            "100/100 [==============================] - 29s 287ms/step - loss: 0.3816 - acc: 0.8335 - val_loss: 0.2810 - val_acc: 0.8810\n",
            "Epoch 7/30\n",
            "100/100 [==============================] - 29s 286ms/step - loss: 0.3544 - acc: 0.8375 - val_loss: 0.2734 - val_acc: 0.8890\n",
            "Epoch 8/30\n",
            "100/100 [==============================] - 29s 286ms/step - loss: 0.3479 - acc: 0.8485 - val_loss: 0.2809 - val_acc: 0.8890\n",
            "Epoch 9/30\n",
            "100/100 [==============================] - 29s 292ms/step - loss: 0.3301 - acc: 0.8560 - val_loss: 0.2628 - val_acc: 0.8870\n",
            "Epoch 10/30\n",
            "100/100 [==============================] - 30s 302ms/step - loss: 0.3406 - acc: 0.8550 - val_loss: 0.2576 - val_acc: 0.8930\n",
            "Epoch 11/30\n",
            "100/100 [==============================] - 30s 296ms/step - loss: 0.3333 - acc: 0.8590 - val_loss: 0.2567 - val_acc: 0.8960\n",
            "Epoch 12/30\n",
            "100/100 [==============================] - 30s 295ms/step - loss: 0.3179 - acc: 0.8630 - val_loss: 0.2536 - val_acc: 0.8920\n",
            "Epoch 13/30\n",
            "100/100 [==============================] - 29s 294ms/step - loss: 0.3175 - acc: 0.8685 - val_loss: 0.2528 - val_acc: 0.8950\n",
            "Epoch 14/30\n",
            "100/100 [==============================] - 29s 294ms/step - loss: 0.3083 - acc: 0.8645 - val_loss: 0.2491 - val_acc: 0.8920\n",
            "Epoch 15/30\n",
            "100/100 [==============================] - 30s 296ms/step - loss: 0.3126 - acc: 0.8675 - val_loss: 0.2509 - val_acc: 0.8940\n",
            "Epoch 16/30\n",
            "100/100 [==============================] - 29s 294ms/step - loss: 0.3166 - acc: 0.8590 - val_loss: 0.2456 - val_acc: 0.8980\n",
            "Epoch 17/30\n",
            "100/100 [==============================] - 29s 294ms/step - loss: 0.3012 - acc: 0.8725 - val_loss: 0.2526 - val_acc: 0.8880\n",
            "Epoch 18/30\n",
            "100/100 [==============================] - 29s 295ms/step - loss: 0.3108 - acc: 0.8590 - val_loss: 0.2518 - val_acc: 0.8970\n",
            "Epoch 19/30\n",
            "100/100 [==============================] - 30s 298ms/step - loss: 0.3015 - acc: 0.8760 - val_loss: 0.2443 - val_acc: 0.8940\n",
            "Epoch 20/30\n",
            "100/100 [==============================] - 31s 309ms/step - loss: 0.2968 - acc: 0.8730 - val_loss: 0.2429 - val_acc: 0.8990\n",
            "Epoch 21/30\n",
            "100/100 [==============================] - 30s 298ms/step - loss: 0.2890 - acc: 0.8740 - val_loss: 0.2438 - val_acc: 0.8930\n",
            "Epoch 22/30\n",
            "100/100 [==============================] - 30s 296ms/step - loss: 0.2975 - acc: 0.8705 - val_loss: 0.2431 - val_acc: 0.8930\n",
            "Epoch 23/30\n",
            "100/100 [==============================] - 28s 285ms/step - loss: 0.3004 - acc: 0.8660 - val_loss: 0.2428 - val_acc: 0.8960\n",
            "Epoch 24/30\n",
            "100/100 [==============================] - 28s 283ms/step - loss: 0.2997 - acc: 0.8755 - val_loss: 0.2417 - val_acc: 0.8930\n",
            "Epoch 25/30\n",
            "100/100 [==============================] - 29s 286ms/step - loss: 0.2936 - acc: 0.8710 - val_loss: 0.2494 - val_acc: 0.8980\n",
            "Epoch 26/30\n",
            "100/100 [==============================] - 29s 287ms/step - loss: 0.3014 - acc: 0.8710 - val_loss: 0.2407 - val_acc: 0.8950\n",
            "Epoch 27/30\n",
            "100/100 [==============================] - 29s 286ms/step - loss: 0.2814 - acc: 0.8740 - val_loss: 0.2395 - val_acc: 0.8980\n",
            "Epoch 28/30\n",
            "100/100 [==============================] - 28s 284ms/step - loss: 0.2864 - acc: 0.8715 - val_loss: 0.2408 - val_acc: 0.8970\n",
            "Epoch 29/30\n",
            "100/100 [==============================] - 29s 286ms/step - loss: 0.2884 - acc: 0.8815 - val_loss: 0.2411 - val_acc: 0.8970\n",
            "Epoch 30/30\n",
            "100/100 [==============================] - 29s 289ms/step - loss: 0.2867 - acc: 0.8735 - val_loss: 0.2400 - val_acc: 0.9010\n"
          ],
          "name": "stdout"
        }
      ]
    },
    {
      "cell_type": "code",
      "metadata": {
        "id": "8jalRGKiZY5y",
        "colab_type": "code",
        "colab": {}
      },
      "source": [
        "model.save('cats_and_dogs_small_3.h5')"
      ],
      "execution_count": 17,
      "outputs": []
    },
    {
      "cell_type": "code",
      "metadata": {
        "id": "wsoPEir-Zlzx",
        "colab_type": "code",
        "colab": {
          "base_uri": "https://localhost:8080/",
          "height": 545
        },
        "outputId": "a6956b81-b670-4acc-d430-abc7288d55c5"
      },
      "source": [
        "acc = history.history['acc']\n",
        "val_acc = history.history['val_acc']\n",
        "loss = history.history['loss']\n",
        "val_loss = history.history['val_loss']\n",
        "\n",
        "epochs = range(len(acc))\n",
        "\n",
        "plt.plot(epochs, acc, 'bo', label='Training acc')\n",
        "plt.plot(epochs, val_acc, 'ro', label='Validation acc')\n",
        "plt.title('Training and validation accuracy')\n",
        "plt.legend()\n",
        "\n",
        "plt.figure()\n",
        "\n",
        "plt.plot(epochs, loss, 'bo', label='Training loss')\n",
        "plt.plot(epochs, val_loss, 'ro', label='Validation loss')\n",
        "plt.title('Training and validation loss')\n",
        "plt.legend()\n",
        "\n",
        "plt.show()"
      ],
      "execution_count": 18,
      "outputs": [
        {
          "output_type": "display_data",
          "data": {
            "image/png": "[encoded data removed]",
            "text/plain": [
              "<Figure size 432x288 with 1 Axes>"
            ]
          },
          "metadata": {
            "tags": [],
            "needs_background": "light"
          }
        },
        {
          "output_type": "display_data",
          "data": {
            "image/png": "[encoded data removed]",
            "text/plain": [
              "<Figure size 432x288 with 1 Axes>"
            ]
          },
          "metadata": {
            "tags": [],
            "needs_background": "light"
          }
        }
      ]
    },
    {
      "cell_type": "markdown",
      "metadata": {
        "id": "0qJp8WmeZuaz",
        "colab_type": "text"
      },
      "source": [
        "## 2. Fine Tuning\n",
        "It’s only possible to fine-tune the top layers of the convolutional base once the classifier on top has already been trained. If the classifier isn’t already trained, then the error signal\n",
        "propagating through the network during training will be too large, and the representations previously learned by the layers being fine-tuned will be destroyed. Thus the steps for fine-tuning a network are as follow:\n",
        "- Add your custom network on top of an already-trained base network.\n",
        "- Freeze the base network.\n",
        "- Train the part you added.\n",
        "- Unfreeze some layers in the base network.\n",
        "- Jointly train both these layers and the part you added.\n",
        "\n",
        "We have done first 2steps! (yo hu!)"
      ]
    },
    {
      "cell_type": "code",
      "metadata": {
        "id": "U1zXXLIMZpvM",
        "colab_type": "code",
        "colab": {
          "base_uri": "https://localhost:8080/",
          "height": 786
        },
        "outputId": "4c1fc66a-de12-428c-b184-90d03bf04db7"
      },
      "source": [
        "# we check our architechture again\n",
        "conv_base.summary()"
      ],
      "execution_count": 19,
      "outputs": [
        {
          "output_type": "stream",
          "text": [
            "Model: \"vgg16\"\n",
            "_________________________________________________________________\n",
            "Layer (type)                 Output Shape              Param #   \n",
            "=================================================================\n",
            "input_1 (InputLayer)         [(None, 150, 150, 3)]     0         \n",
            "_________________________________________________________________\n",
            "block1_conv1 (Conv2D)        (None, 150, 150, 64)      1792      \n",
            "_________________________________________________________________\n",
            "block1_conv2 (Conv2D)        (None, 150, 150, 64)      36928     \n",
            "_________________________________________________________________\n",
            "block1_pool (MaxPooling2D)   (None, 75, 75, 64)        0         \n",
            "_________________________________________________________________\n",
            "block2_conv1 (Conv2D)        (None, 75, 75, 128)       73856     \n",
            "_________________________________________________________________\n",
            "block2_conv2 (Conv2D)        (None, 75, 75, 128)       147584    \n",
            "_________________________________________________________________\n",
            "block2_pool (MaxPooling2D)   (None, 37, 37, 128)       0         \n",
            "_________________________________________________________________\n",
            "block3_conv1 (Conv2D)        (None, 37, 37, 256)       295168    \n",
            "_________________________________________________________________\n",
            "block3_conv2 (Conv2D)        (None, 37, 37, 256)       590080    \n",
            "_________________________________________________________________\n",
            "block3_conv3 (Conv2D)        (None, 37, 37, 256)       590080    \n",
            "_________________________________________________________________\n",
            "block3_pool (MaxPooling2D)   (None, 18, 18, 256)       0         \n",
            "_________________________________________________________________\n",
            "block4_conv1 (Conv2D)        (None, 18, 18, 512)       1180160   \n",
            "_________________________________________________________________\n",
            "block4_conv2 (Conv2D)        (None, 18, 18, 512)       2359808   \n",
            "_________________________________________________________________\n",
            "block4_conv3 (Conv2D)        (None, 18, 18, 512)       2359808   \n",
            "_________________________________________________________________\n",
            "block4_pool (MaxPooling2D)   (None, 9, 9, 512)         0         \n",
            "_________________________________________________________________\n",
            "block5_conv1 (Conv2D)        (None, 9, 9, 512)         2359808   \n",
            "_________________________________________________________________\n",
            "block5_conv2 (Conv2D)        (None, 9, 9, 512)         2359808   \n",
            "_________________________________________________________________\n",
            "block5_conv3 (Conv2D)        (None, 9, 9, 512)         2359808   \n",
            "_________________________________________________________________\n",
            "block5_pool (MaxPooling2D)   (None, 4, 4, 512)         0         \n",
            "=================================================================\n",
            "Total params: 14,714,688\n",
            "Trainable params: 0\n",
            "Non-trainable params: 14,714,688\n",
            "_________________________________________________________________\n"
          ],
          "name": "stdout"
        }
      ]
    },
    {
      "cell_type": "markdown",
      "metadata": {
        "id": "LzZapwoTeZep",
        "colab_type": "text"
      },
      "source": [
        "We will fine-tune the last 3 convolutional layers, which means that all layers up until block4_pool should be frozen, and the layers block5_conv1, block5_conv2 and block5_conv3 should be trainable."
      ]
    },
    {
      "cell_type": "code",
      "metadata": {
        "id": "3MY6-iozdOe_",
        "colab_type": "code",
        "colab": {}
      },
      "source": [
        "conv_base.trainable = True\n",
        "\n",
        "set_trainable = False\n",
        "for layer in conv_base.layers:\n",
        "    if layer.name == 'block5_conv1':\n",
        "        set_trainable = True\n",
        "    if set_trainable:\n",
        "        layer.trainable = True\n",
        "    else:\n",
        "        layer.trainable = False"
      ],
      "execution_count": 20,
      "outputs": []
    },
    {
      "cell_type": "markdown",
      "metadata": {
        "id": "GHb2uEZggB7B",
        "colab_type": "text"
      },
      "source": [
        "### Train"
      ]
    },
    {
      "cell_type": "code",
      "metadata": {
        "id": "nmtwRQFHf7Qj",
        "colab_type": "code",
        "colab": {
          "base_uri": "https://localhost:8080/",
          "height": 1000
        },
        "outputId": "1008053c-defe-4ad6-b7b6-9964e7608cb6"
      },
      "source": [
        "model.compile(loss='binary_crossentropy',\n",
        "              optimizer=optimizers.RMSprop(lr=1e-5),\n",
        "              metrics=['acc'])\n",
        "\n",
        "history = model.fit_generator(\n",
        "      train_generator,\n",
        "      steps_per_epoch=100,\n",
        "      epochs=100,\n",
        "      validation_data=validation_generator,\n",
        "      validation_steps=50)"
      ],
      "execution_count": 21,
      "outputs": [
        {
          "output_type": "stream",
          "text": [
            "Epoch 1/100\n",
            "100/100 [==============================] - 31s 307ms/step - loss: 0.2957 - acc: 0.8725 - val_loss: 0.2132 - val_acc: 0.9120\n",
            "Epoch 2/100\n",
            "100/100 [==============================] - 30s 305ms/step - loss: 0.2481 - acc: 0.8905 - val_loss: 0.2155 - val_acc: 0.9130\n",
            "Epoch 3/100\n",
            "100/100 [==============================] - 31s 308ms/step - loss: 0.2369 - acc: 0.8975 - val_loss: 0.2062 - val_acc: 0.9150\n",
            "Epoch 4/100\n",
            "100/100 [==============================] - 31s 309ms/step - loss: 0.2064 - acc: 0.9185 - val_loss: 0.2102 - val_acc: 0.9150\n",
            "Epoch 5/100\n",
            "100/100 [==============================] - 31s 307ms/step - loss: 0.2186 - acc: 0.9060 - val_loss: 0.2362 - val_acc: 0.9060\n",
            "Epoch 6/100\n",
            "100/100 [==============================] - 31s 309ms/step - loss: 0.1886 - acc: 0.9215 - val_loss: 0.1908 - val_acc: 0.9300\n",
            "Epoch 7/100\n",
            "100/100 [==============================] - 31s 309ms/step - loss: 0.1761 - acc: 0.9255 - val_loss: 0.2007 - val_acc: 0.9230\n",
            "Epoch 8/100\n",
            "100/100 [==============================] - 31s 312ms/step - loss: 0.1780 - acc: 0.9240 - val_loss: 0.2213 - val_acc: 0.9150\n",
            "Epoch 9/100\n",
            "100/100 [==============================] - 31s 306ms/step - loss: 0.1557 - acc: 0.9365 - val_loss: 0.1993 - val_acc: 0.9190\n",
            "Epoch 10/100\n",
            "100/100 [==============================] - 31s 308ms/step - loss: 0.1552 - acc: 0.9370 - val_loss: 0.1880 - val_acc: 0.9300\n",
            "Epoch 11/100\n",
            "100/100 [==============================] - 30s 305ms/step - loss: 0.1547 - acc: 0.9375 - val_loss: 0.2080 - val_acc: 0.9170\n",
            "Epoch 12/100\n",
            "100/100 [==============================] - 31s 306ms/step - loss: 0.1328 - acc: 0.9455 - val_loss: 0.1827 - val_acc: 0.9290\n",
            "Epoch 13/100\n",
            "100/100 [==============================] - 30s 304ms/step - loss: 0.1342 - acc: 0.9415 - val_loss: 0.2281 - val_acc: 0.9280\n",
            "Epoch 14/100\n",
            "100/100 [==============================] - 31s 311ms/step - loss: 0.1301 - acc: 0.9480 - val_loss: 0.1885 - val_acc: 0.9310\n",
            "Epoch 15/100\n",
            "100/100 [==============================] - 31s 307ms/step - loss: 0.1193 - acc: 0.9510 - val_loss: 0.1847 - val_acc: 0.9420\n",
            "Epoch 16/100\n",
            "100/100 [==============================] - 30s 303ms/step - loss: 0.1171 - acc: 0.9540 - val_loss: 0.1723 - val_acc: 0.9380\n",
            "Epoch 17/100\n",
            "100/100 [==============================] - 30s 297ms/step - loss: 0.1129 - acc: 0.9535 - val_loss: 0.2579 - val_acc: 0.9140\n",
            "Epoch 18/100\n",
            "100/100 [==============================] - 30s 301ms/step - loss: 0.0960 - acc: 0.9610 - val_loss: 0.1858 - val_acc: 0.9370\n",
            "Epoch 19/100\n",
            "100/100 [==============================] - 29s 295ms/step - loss: 0.1085 - acc: 0.9590 - val_loss: 0.1807 - val_acc: 0.9350\n",
            "Epoch 20/100\n",
            "100/100 [==============================] - 30s 296ms/step - loss: 0.0850 - acc: 0.9675 - val_loss: 0.2082 - val_acc: 0.9270\n",
            "Epoch 21/100\n",
            "100/100 [==============================] - 30s 298ms/step - loss: 0.1016 - acc: 0.9650 - val_loss: 0.1698 - val_acc: 0.9380\n",
            "Epoch 22/100\n",
            "100/100 [==============================] - 30s 298ms/step - loss: 0.0903 - acc: 0.9640 - val_loss: 0.1999 - val_acc: 0.9320\n",
            "Epoch 23/100\n",
            "100/100 [==============================] - 30s 299ms/step - loss: 0.0809 - acc: 0.9680 - val_loss: 0.2052 - val_acc: 0.9320\n",
            "Epoch 24/100\n",
            "100/100 [==============================] - 30s 301ms/step - loss: 0.0975 - acc: 0.9635 - val_loss: 0.2178 - val_acc: 0.9320\n",
            "Epoch 25/100\n",
            "100/100 [==============================] - 30s 301ms/step - loss: 0.0907 - acc: 0.9655 - val_loss: 0.1873 - val_acc: 0.9370\n",
            "Epoch 26/100\n",
            "100/100 [==============================] - 30s 302ms/step - loss: 0.0784 - acc: 0.9685 - val_loss: 0.2247 - val_acc: 0.9300\n",
            "Epoch 27/100\n",
            "100/100 [==============================] - 31s 306ms/step - loss: 0.0703 - acc: 0.9735 - val_loss: 0.1851 - val_acc: 0.9360\n",
            "Epoch 28/100\n",
            "100/100 [==============================] - 31s 311ms/step - loss: 0.0654 - acc: 0.9765 - val_loss: 0.1949 - val_acc: 0.9330\n",
            "Epoch 29/100\n",
            "100/100 [==============================] - 30s 303ms/step - loss: 0.0753 - acc: 0.9715 - val_loss: 0.2213 - val_acc: 0.9300\n",
            "Epoch 30/100\n",
            "100/100 [==============================] - 31s 306ms/step - loss: 0.0662 - acc: 0.9770 - val_loss: 0.2135 - val_acc: 0.9360\n",
            "Epoch 31/100\n",
            "100/100 [==============================] - 31s 306ms/step - loss: 0.0715 - acc: 0.9745 - val_loss: 0.1968 - val_acc: 0.9390\n",
            "Epoch 32/100\n",
            "100/100 [==============================] - 30s 303ms/step - loss: 0.0663 - acc: 0.9740 - val_loss: 0.2190 - val_acc: 0.9290\n",
            "Epoch 33/100\n",
            "100/100 [==============================] - 30s 297ms/step - loss: 0.0665 - acc: 0.9735 - val_loss: 0.1954 - val_acc: 0.9350\n",
            "Epoch 34/100\n",
            "100/100 [==============================] - 30s 298ms/step - loss: 0.0604 - acc: 0.9755 - val_loss: 0.1812 - val_acc: 0.9430\n",
            "Epoch 35/100\n",
            "100/100 [==============================] - 30s 296ms/step - loss: 0.0619 - acc: 0.9765 - val_loss: 0.2061 - val_acc: 0.9350\n",
            "Epoch 36/100\n",
            "100/100 [==============================] - 30s 296ms/step - loss: 0.0622 - acc: 0.9770 - val_loss: 0.1685 - val_acc: 0.9410\n",
            "Epoch 37/100\n",
            "100/100 [==============================] - 30s 297ms/step - loss: 0.0486 - acc: 0.9810 - val_loss: 0.2117 - val_acc: 0.9400\n",
            "Epoch 38/100\n",
            "100/100 [==============================] - 30s 299ms/step - loss: 0.0589 - acc: 0.9770 - val_loss: 0.1988 - val_acc: 0.9370\n",
            "Epoch 39/100\n",
            "100/100 [==============================] - 29s 293ms/step - loss: 0.0507 - acc: 0.9770 - val_loss: 0.2527 - val_acc: 0.9270\n",
            "Epoch 40/100\n",
            "100/100 [==============================] - 29s 294ms/step - loss: 0.0608 - acc: 0.9780 - val_loss: 0.2219 - val_acc: 0.9380\n",
            "Epoch 41/100\n",
            "100/100 [==============================] - 30s 298ms/step - loss: 0.0355 - acc: 0.9870 - val_loss: 0.2165 - val_acc: 0.9390\n",
            "Epoch 42/100\n",
            "100/100 [==============================] - 30s 298ms/step - loss: 0.0524 - acc: 0.9825 - val_loss: 0.1985 - val_acc: 0.9360\n",
            "Epoch 43/100\n",
            "100/100 [==============================] - 30s 295ms/step - loss: 0.0476 - acc: 0.9800 - val_loss: 0.1969 - val_acc: 0.9420\n",
            "Epoch 44/100\n",
            "100/100 [==============================] - 29s 294ms/step - loss: 0.0441 - acc: 0.9855 - val_loss: 0.2358 - val_acc: 0.9310\n",
            "Epoch 45/100\n",
            "100/100 [==============================] - 29s 295ms/step - loss: 0.0545 - acc: 0.9785 - val_loss: 0.2270 - val_acc: 0.9310\n",
            "Epoch 46/100\n",
            "100/100 [==============================] - 29s 294ms/step - loss: 0.0479 - acc: 0.9810 - val_loss: 0.1879 - val_acc: 0.9380\n",
            "Epoch 47/100\n",
            "100/100 [==============================] - 30s 296ms/step - loss: 0.0411 - acc: 0.9835 - val_loss: 0.2997 - val_acc: 0.9150\n",
            "Epoch 48/100\n",
            "100/100 [==============================] - 29s 293ms/step - loss: 0.0342 - acc: 0.9885 - val_loss: 0.2447 - val_acc: 0.9340\n",
            "Epoch 49/100\n",
            "100/100 [==============================] - 30s 297ms/step - loss: 0.0302 - acc: 0.9900 - val_loss: 0.2649 - val_acc: 0.9310\n",
            "Epoch 50/100\n",
            "100/100 [==============================] - 30s 299ms/step - loss: 0.0454 - acc: 0.9855 - val_loss: 0.2112 - val_acc: 0.9350\n",
            "Epoch 51/100\n",
            "100/100 [==============================] - 30s 295ms/step - loss: 0.0377 - acc: 0.9865 - val_loss: 0.2120 - val_acc: 0.9310\n",
            "Epoch 52/100\n",
            "100/100 [==============================] - 30s 297ms/step - loss: 0.0352 - acc: 0.9870 - val_loss: 0.2459 - val_acc: 0.9360\n",
            "Epoch 53/100\n",
            "100/100 [==============================] - 30s 296ms/step - loss: 0.0365 - acc: 0.9850 - val_loss: 0.2293 - val_acc: 0.9350\n",
            "Epoch 54/100\n",
            "100/100 [==============================] - 30s 297ms/step - loss: 0.0363 - acc: 0.9870 - val_loss: 0.3044 - val_acc: 0.9320\n",
            "Epoch 55/100\n",
            "100/100 [==============================] - 30s 301ms/step - loss: 0.0421 - acc: 0.9820 - val_loss: 0.2253 - val_acc: 0.9440\n",
            "Epoch 56/100\n",
            "100/100 [==============================] - 30s 298ms/step - loss: 0.0331 - acc: 0.9880 - val_loss: 0.3340 - val_acc: 0.9170\n",
            "Epoch 57/100\n",
            "100/100 [==============================] - 30s 297ms/step - loss: 0.0453 - acc: 0.9840 - val_loss: 0.2785 - val_acc: 0.9240\n",
            "Epoch 58/100\n",
            "100/100 [==============================] - 30s 295ms/step - loss: 0.0330 - acc: 0.9865 - val_loss: 0.2072 - val_acc: 0.9380\n",
            "Epoch 59/100\n",
            "100/100 [==============================] - 30s 302ms/step - loss: 0.0352 - acc: 0.9870 - val_loss: 0.2072 - val_acc: 0.9370\n",
            "Epoch 60/100\n",
            "100/100 [==============================] - 30s 296ms/step - loss: 0.0414 - acc: 0.9845 - val_loss: 0.2706 - val_acc: 0.9320\n",
            "Epoch 61/100\n",
            "100/100 [==============================] - 30s 296ms/step - loss: 0.0311 - acc: 0.9930 - val_loss: 0.2381 - val_acc: 0.9330\n",
            "Epoch 62/100\n",
            "100/100 [==============================] - 30s 296ms/step - loss: 0.0293 - acc: 0.9885 - val_loss: 0.2724 - val_acc: 0.9370\n",
            "Epoch 63/100\n",
            "100/100 [==============================] - 30s 297ms/step - loss: 0.0276 - acc: 0.9905 - val_loss: 0.2867 - val_acc: 0.9330\n",
            "Epoch 64/100\n",
            "100/100 [==============================] - 30s 296ms/step - loss: 0.0342 - acc: 0.9880 - val_loss: 0.2334 - val_acc: 0.9420\n",
            "Epoch 65/100\n",
            "100/100 [==============================] - 30s 296ms/step - loss: 0.0286 - acc: 0.9915 - val_loss: 0.2157 - val_acc: 0.9430\n",
            "Epoch 66/100\n",
            "100/100 [==============================] - 30s 295ms/step - loss: 0.0334 - acc: 0.9860 - val_loss: 0.1984 - val_acc: 0.9350\n",
            "Epoch 67/100\n",
            "100/100 [==============================] - 30s 296ms/step - loss: 0.0202 - acc: 0.9930 - val_loss: 0.2276 - val_acc: 0.9410\n",
            "Epoch 68/100\n",
            "100/100 [==============================] - 30s 300ms/step - loss: 0.0223 - acc: 0.9910 - val_loss: 0.2225 - val_acc: 0.9390\n",
            "Epoch 69/100\n",
            "100/100 [==============================] - 30s 305ms/step - loss: 0.0301 - acc: 0.9905 - val_loss: 0.2197 - val_acc: 0.9390\n",
            "Epoch 70/100\n",
            "100/100 [==============================] - 30s 302ms/step - loss: 0.0243 - acc: 0.9905 - val_loss: 0.2817 - val_acc: 0.9300\n",
            "Epoch 71/100\n",
            "100/100 [==============================] - 31s 305ms/step - loss: 0.0323 - acc: 0.9910 - val_loss: 0.4817 - val_acc: 0.9030\n",
            "Epoch 72/100\n",
            "100/100 [==============================] - 30s 304ms/step - loss: 0.0325 - acc: 0.9865 - val_loss: 0.2441 - val_acc: 0.9390\n",
            "Epoch 73/100\n",
            "100/100 [==============================] - 31s 307ms/step - loss: 0.0290 - acc: 0.9895 - val_loss: 0.2071 - val_acc: 0.9430\n",
            "Epoch 74/100\n",
            "100/100 [==============================] - 30s 305ms/step - loss: 0.0225 - acc: 0.9930 - val_loss: 0.2749 - val_acc: 0.9400\n",
            "Epoch 75/100\n",
            "100/100 [==============================] - 30s 305ms/step - loss: 0.0324 - acc: 0.9875 - val_loss: 0.2502 - val_acc: 0.9290\n",
            "Epoch 76/100\n",
            "100/100 [==============================] - 31s 309ms/step - loss: 0.0265 - acc: 0.9925 - val_loss: 0.2224 - val_acc: 0.9430\n",
            "Epoch 77/100\n",
            "100/100 [==============================] - 31s 306ms/step - loss: 0.0239 - acc: 0.9930 - val_loss: 0.3116 - val_acc: 0.9300\n",
            "Epoch 78/100\n",
            "100/100 [==============================] - 31s 308ms/step - loss: 0.0275 - acc: 0.9885 - val_loss: 0.2164 - val_acc: 0.9460\n",
            "Epoch 79/100\n",
            "100/100 [==============================] - 31s 314ms/step - loss: 0.0226 - acc: 0.9930 - val_loss: 0.1983 - val_acc: 0.9430\n",
            "Epoch 80/100\n",
            "100/100 [==============================] - 31s 306ms/step - loss: 0.0314 - acc: 0.9865 - val_loss: 0.2204 - val_acc: 0.9380\n",
            "Epoch 81/100\n",
            "100/100 [==============================] - 31s 309ms/step - loss: 0.0221 - acc: 0.9930 - val_loss: 0.2583 - val_acc: 0.9400\n",
            "Epoch 82/100\n",
            "100/100 [==============================] - 31s 312ms/step - loss: 0.0246 - acc: 0.9905 - val_loss: 0.2859 - val_acc: 0.9340\n",
            "Epoch 83/100\n",
            "100/100 [==============================] - 31s 310ms/step - loss: 0.0267 - acc: 0.9920 - val_loss: 0.2412 - val_acc: 0.9440\n",
            "Epoch 84/100\n",
            "100/100 [==============================] - 31s 310ms/step - loss: 0.0299 - acc: 0.9900 - val_loss: 0.2618 - val_acc: 0.9360\n",
            "Epoch 85/100\n",
            "100/100 [==============================] - 31s 307ms/step - loss: 0.0185 - acc: 0.9930 - val_loss: 0.2353 - val_acc: 0.9410\n",
            "Epoch 86/100\n",
            "100/100 [==============================] - 30s 304ms/step - loss: 0.0267 - acc: 0.9890 - val_loss: 0.2075 - val_acc: 0.9420\n",
            "Epoch 87/100\n",
            "100/100 [==============================] - 30s 301ms/step - loss: 0.0173 - acc: 0.9955 - val_loss: 0.5514 - val_acc: 0.9050\n",
            "Epoch 88/100\n",
            "100/100 [==============================] - 31s 306ms/step - loss: 0.0264 - acc: 0.9925 - val_loss: 0.2758 - val_acc: 0.9320\n",
            "Epoch 89/100\n",
            "100/100 [==============================] - 31s 309ms/step - loss: 0.0255 - acc: 0.9910 - val_loss: 0.2495 - val_acc: 0.9420\n",
            "Epoch 90/100\n",
            "100/100 [==============================] - 30s 304ms/step - loss: 0.0201 - acc: 0.9935 - val_loss: 0.2943 - val_acc: 0.9370\n",
            "Epoch 91/100\n",
            "100/100 [==============================] - 31s 308ms/step - loss: 0.0268 - acc: 0.9915 - val_loss: 0.3888 - val_acc: 0.9140\n",
            "Epoch 92/100\n",
            "100/100 [==============================] - 30s 305ms/step - loss: 0.0230 - acc: 0.9925 - val_loss: 0.2179 - val_acc: 0.9390\n",
            "Epoch 93/100\n",
            "100/100 [==============================] - 30s 304ms/step - loss: 0.0162 - acc: 0.9940 - val_loss: 0.2697 - val_acc: 0.9410\n",
            "Epoch 94/100\n",
            "100/100 [==============================] - 31s 307ms/step - loss: 0.0189 - acc: 0.9930 - val_loss: 0.3024 - val_acc: 0.9360\n",
            "Epoch 95/100\n",
            "100/100 [==============================] - 31s 308ms/step - loss: 0.0144 - acc: 0.9940 - val_loss: 0.3186 - val_acc: 0.9290\n",
            "Epoch 96/100\n",
            "100/100 [==============================] - 31s 314ms/step - loss: 0.0165 - acc: 0.9940 - val_loss: 0.2939 - val_acc: 0.9370\n",
            "Epoch 97/100\n",
            "100/100 [==============================] - 31s 313ms/step - loss: 0.0113 - acc: 0.9960 - val_loss: 0.2642 - val_acc: 0.9420\n",
            "Epoch 98/100\n",
            "100/100 [==============================] - 30s 302ms/step - loss: 0.0241 - acc: 0.9940 - val_loss: 0.2372 - val_acc: 0.9500\n",
            "Epoch 99/100\n",
            "100/100 [==============================] - 31s 307ms/step - loss: 0.0124 - acc: 0.9950 - val_loss: 0.2833 - val_acc: 0.9420\n",
            "Epoch 100/100\n",
            "100/100 [==============================] - 30s 301ms/step - loss: 0.0117 - acc: 0.9970 - val_loss: 0.3033 - val_acc: 0.9340\n"
          ],
          "name": "stdout"
        }
      ]
    },
    {
      "cell_type": "code",
      "metadata": {
        "id": "mxbk9M0BgGJ3",
        "colab_type": "code",
        "colab": {}
      },
      "source": [
        "model.save('cats_and_dogs_small_4.h5')"
      ],
      "execution_count": 22,
      "outputs": []
    },
    {
      "cell_type": "code",
      "metadata": {
        "id": "cqxu5FlggHCS",
        "colab_type": "code",
        "colab": {
          "base_uri": "https://localhost:8080/",
          "height": 545
        },
        "outputId": "fc5c0362-08a7-4676-dcdc-8d21d2dd8eb5"
      },
      "source": [
        "acc = history.history['acc']\n",
        "val_acc = history.history['val_acc']\n",
        "loss = history.history['loss']\n",
        "val_loss = history.history['val_loss']\n",
        "\n",
        "epochs = range(len(acc))\n",
        "\n",
        "plt.plot(epochs, acc, 'bo', label='Training acc')\n",
        "plt.plot(epochs, val_acc, 'ro', label='Validation acc')\n",
        "plt.title('Training and validation accuracy')\n",
        "plt.legend()\n",
        "\n",
        "plt.figure()\n",
        "\n",
        "plt.plot(epochs, loss, 'bo', label='Training loss')\n",
        "plt.plot(epochs, val_loss, 'ro', label='Validation loss')\n",
        "plt.title('Training and validation loss')\n",
        "plt.legend()\n",
        "\n",
        "plt.show()"
      ],
      "execution_count": 23,
      "outputs": [
        {
          "output_type": "display_data",
          "data": {
            "image/png": "[encoded data removed]",
            "text/plain": [
              "<Figure size 432x288 with 1 Axes>"
            ]
          },
          "metadata": {
            "tags": [],
            "needs_background": "light"
          }
        },
        {
          "output_type": "display_data",
          "data": {
            "image/png": "[encoded data removed]",
            "text/plain": [
              "<Figure size 432x288 with 1 Axes>"
            ]
          },
          "metadata": {
            "tags": [],
            "needs_background": "light"
          }
        }
      ]
    },
    {
      "cell_type": "markdown",
      "metadata": {
        "id": "Te2qA11igfJ0",
        "colab_type": "text"
      },
      "source": [
        "We can smooth this noise plot."
      ]
    },
    {
      "cell_type": "code",
      "metadata": {
        "id": "bh1nSZF1genC",
        "colab_type": "code",
        "colab": {}
      },
      "source": [
        "def smooth_curve(points, factor=0.8):\n",
        "    smoothed_points = []\n",
        "    for point in points:\n",
        "        if smoothed_points:\n",
        "            previous = smoothed_points[-1]\n",
        "            smoothed_points.append(previous * factor + point * (1 - factor))\n",
        "        else:\n",
        "            smoothed_points.append(point)\n",
        "    return smoothed_points"
      ],
      "execution_count": 27,
      "outputs": []
    },
    {
      "cell_type": "code",
      "metadata": {
        "id": "bEdlMVTjgzhL",
        "colab_type": "code",
        "colab": {
          "base_uri": "https://localhost:8080/",
          "height": 545
        },
        "outputId": "2c23513f-530e-4040-e1ab-99a511c027ff"
      },
      "source": [
        "plt.plot(epochs,\n",
        "         smooth_curve(acc), 'bo', label='Smoothed training acc')\n",
        "plt.plot(epochs,\n",
        "         smooth_curve(val_acc), 'ro', label='Smoothed validation acc')\n",
        "plt.title('Training and validation accuracy')\n",
        "plt.legend()\n",
        "\n",
        "plt.figure()\n",
        "\n",
        "plt.plot(epochs,\n",
        "         smooth_curve(loss), 'bo', label='Smoothed training loss')\n",
        "plt.plot(epochs,\n",
        "         smooth_curve(val_loss), 'ro', label='Smoothed validation loss')\n",
        "plt.title('Training and validation loss')\n",
        "plt.legend()\n",
        "\n",
        "plt.show()\n"
      ],
      "execution_count": 28,
      "outputs": [
        {
          "output_type": "display_data",
          "data": {
            "image/png": "[encoded data removed]",
            "text/plain": [
              "<Figure size 432x288 with 1 Axes>"
            ]
          },
          "metadata": {
            "tags": [],
            "needs_background": "light"
          }
        },
        {
          "output_type": "display_data",
          "data": {
            "image/png": "[encoded data removed]",
            "text/plain": [
              "<Figure size 432x288 with 1 Axes>"
            ]
          },
          "metadata": {
            "tags": [],
            "needs_background": "light"
          }
        }
      ]
    },
    {
      "cell_type": "markdown",
      "metadata": {
        "id": "nrEOwR45hC6s",
        "colab_type": "text"
      },
      "source": [
        "<h3>Question:</h3>\n",
        "How could accuracy stay stable or improve if the loss isn’t\n",
        "decreasing? \n",
        "<h3>Answer:</h3> What we display is an average of pointwise loss values;\n",
        "but what matters for accuracy is the distribution of the loss values, not their average, because accuracy is the result of a binary thresholding of the class probability predicted by the model. The model may still be improving even if this isn’t reflected\n",
        "in the average loss."
      ]
    },
    {
      "cell_type": "markdown",
      "metadata": {
        "id": "u8u17EWWhTxb",
        "colab_type": "text"
      },
      "source": [
        "### Final Evaluation on test data"
      ]
    },
    {
      "cell_type": "code",
      "metadata": {
        "id": "0laxEgQBhRnL",
        "colab_type": "code",
        "colab": {}
      },
      "source": [
        "test_generator = test_datagen.flow_from_directory(\n",
        "        test_dir,\n",
        "        target_size=(150, 150),\n",
        "        batch_size=20,\n",
        "        class_mode='binary')\n",
        "\n",
        "test_loss, test_acc = model.evaluate_generator(test_generator, steps=50)\n",
        "print('test acc:', test_acc)\n"
      ],
      "execution_count": null,
      "outputs": []
    },
    {
      "cell_type": "markdown",
      "metadata": {
        "id": "uW7HooEphnMv",
        "colab_type": "text"
      },
      "source": [
        "## What we Learnt:\n",
        "- Convnets are the best type of machine learning models for computer vision tasks. It is possible to train one from scratch even on a very small dataset, with decent results.\n",
        "- On a small dataset, overfitting will be the main issue. Data augmentation is a powerful way to fight overfitting when working with image data.\n",
        "- It is easy to reuse an existing convnet on a new dataset, via feature extraction. This is a very valuable technique for working with small image datasets.\n",
        "- As a complement to feature extraction, one may use fine-tuning, which adapts to a new problem some of the representations previously learned by an existing model. This pushes performance a bit further."
      ]
    },
    {
      "cell_type": "code",
      "metadata": {
        "id": "T4at9G7HhteK",
        "colab_type": "code",
        "colab": {}
      },
      "source": [
        ""
      ],
      "execution_count": null,
      "outputs": []
    }
  ]
}
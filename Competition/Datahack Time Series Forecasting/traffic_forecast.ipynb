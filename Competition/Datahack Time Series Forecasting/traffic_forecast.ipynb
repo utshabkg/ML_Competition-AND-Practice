{
 "cells": [
  {
   "cell_type": "code",
   "execution_count": 28,
   "id": "collaborative-mortality",
   "metadata": {},
   "outputs": [],
   "source": [
    "import pandas as pd\n",
    "import matplotlib.pyplot as plt\n",
    "import seaborn as sns\n",
    "import numpy as np\n",
    "from statsmodels.tsa.seasonal import seasonal_decompose\n",
    "from dateutil.parser import parse\n",
    "\n",
    "from forecasting_functions import *"
   ]
  },
  {
   "cell_type": "code",
   "execution_count": 29,
   "id": "tested-tanzania",
   "metadata": {},
   "outputs": [
    {
     "data": {
      "text/html": [
       "<div>\n",
       "<style scoped>\n",
       "    .dataframe tbody tr th:only-of-type {\n",
       "        vertical-align: middle;\n",
       "    }\n",
       "\n",
       "    .dataframe tbody tr th {\n",
       "        vertical-align: top;\n",
       "    }\n",
       "\n",
       "    .dataframe thead th {\n",
       "        text-align: right;\n",
       "    }\n",
       "</style>\n",
       "<table border=\"1\" class=\"dataframe\">\n",
       "  <thead>\n",
       "    <tr style=\"text-align: right;\">\n",
       "      <th></th>\n",
       "      <th>ID</th>\n",
       "      <th>Datetime</th>\n",
       "      <th>Count</th>\n",
       "    </tr>\n",
       "  </thead>\n",
       "  <tbody>\n",
       "    <tr>\n",
       "      <th>0</th>\n",
       "      <td>0</td>\n",
       "      <td>25-08-2012 00:00</td>\n",
       "      <td>8</td>\n",
       "    </tr>\n",
       "    <tr>\n",
       "      <th>1</th>\n",
       "      <td>1</td>\n",
       "      <td>25-08-2012 01:00</td>\n",
       "      <td>2</td>\n",
       "    </tr>\n",
       "    <tr>\n",
       "      <th>2</th>\n",
       "      <td>2</td>\n",
       "      <td>25-08-2012 02:00</td>\n",
       "      <td>6</td>\n",
       "    </tr>\n",
       "    <tr>\n",
       "      <th>3</th>\n",
       "      <td>3</td>\n",
       "      <td>25-08-2012 03:00</td>\n",
       "      <td>2</td>\n",
       "    </tr>\n",
       "    <tr>\n",
       "      <th>4</th>\n",
       "      <td>4</td>\n",
       "      <td>25-08-2012 04:00</td>\n",
       "      <td>2</td>\n",
       "    </tr>\n",
       "    <tr>\n",
       "      <th>...</th>\n",
       "      <td>...</td>\n",
       "      <td>...</td>\n",
       "      <td>...</td>\n",
       "    </tr>\n",
       "    <tr>\n",
       "      <th>18283</th>\n",
       "      <td>18283</td>\n",
       "      <td>25-09-2014 19:00</td>\n",
       "      <td>868</td>\n",
       "    </tr>\n",
       "    <tr>\n",
       "      <th>18284</th>\n",
       "      <td>18284</td>\n",
       "      <td>25-09-2014 20:00</td>\n",
       "      <td>732</td>\n",
       "    </tr>\n",
       "    <tr>\n",
       "      <th>18285</th>\n",
       "      <td>18285</td>\n",
       "      <td>25-09-2014 21:00</td>\n",
       "      <td>702</td>\n",
       "    </tr>\n",
       "    <tr>\n",
       "      <th>18286</th>\n",
       "      <td>18286</td>\n",
       "      <td>25-09-2014 22:00</td>\n",
       "      <td>580</td>\n",
       "    </tr>\n",
       "    <tr>\n",
       "      <th>18287</th>\n",
       "      <td>18287</td>\n",
       "      <td>25-09-2014 23:00</td>\n",
       "      <td>534</td>\n",
       "    </tr>\n",
       "  </tbody>\n",
       "</table>\n",
       "<p>18288 rows × 3 columns</p>\n",
       "</div>"
      ],
      "text/plain": [
       "          ID          Datetime  Count\n",
       "0          0  25-08-2012 00:00      8\n",
       "1          1  25-08-2012 01:00      2\n",
       "2          2  25-08-2012 02:00      6\n",
       "3          3  25-08-2012 03:00      2\n",
       "4          4  25-08-2012 04:00      2\n",
       "...      ...               ...    ...\n",
       "18283  18283  25-09-2014 19:00    868\n",
       "18284  18284  25-09-2014 20:00    732\n",
       "18285  18285  25-09-2014 21:00    702\n",
       "18286  18286  25-09-2014 22:00    580\n",
       "18287  18287  25-09-2014 23:00    534\n",
       "\n",
       "[18288 rows x 3 columns]"
      ]
     },
     "execution_count": 29,
     "metadata": {},
     "output_type": "execute_result"
    }
   ],
   "source": [
    "train = pd.read_csv('dataset/train.csv')\n",
    "test = pd.read_csv('dataset/test.csv')\n",
    "submission = pd.read_csv('dataset/sample_submission.csv')\n",
    "train"
   ]
  },
  {
   "cell_type": "code",
   "execution_count": 30,
   "id": "incorrect-flower",
   "metadata": {},
   "outputs": [
    {
     "data": {
      "text/html": [
       "<div>\n",
       "<style scoped>\n",
       "    .dataframe tbody tr th:only-of-type {\n",
       "        vertical-align: middle;\n",
       "    }\n",
       "\n",
       "    .dataframe tbody tr th {\n",
       "        vertical-align: top;\n",
       "    }\n",
       "\n",
       "    .dataframe thead th {\n",
       "        text-align: right;\n",
       "    }\n",
       "</style>\n",
       "<table border=\"1\" class=\"dataframe\">\n",
       "  <thead>\n",
       "    <tr style=\"text-align: right;\">\n",
       "      <th></th>\n",
       "      <th>ID</th>\n",
       "      <th>Count</th>\n",
       "    </tr>\n",
       "  </thead>\n",
       "  <tbody>\n",
       "    <tr>\n",
       "      <th>0</th>\n",
       "      <td>18288</td>\n",
       "      <td>0</td>\n",
       "    </tr>\n",
       "    <tr>\n",
       "      <th>1</th>\n",
       "      <td>18289</td>\n",
       "      <td>0</td>\n",
       "    </tr>\n",
       "    <tr>\n",
       "      <th>2</th>\n",
       "      <td>18290</td>\n",
       "      <td>0</td>\n",
       "    </tr>\n",
       "    <tr>\n",
       "      <th>3</th>\n",
       "      <td>18291</td>\n",
       "      <td>0</td>\n",
       "    </tr>\n",
       "    <tr>\n",
       "      <th>4</th>\n",
       "      <td>18292</td>\n",
       "      <td>0</td>\n",
       "    </tr>\n",
       "    <tr>\n",
       "      <th>...</th>\n",
       "      <td>...</td>\n",
       "      <td>...</td>\n",
       "    </tr>\n",
       "    <tr>\n",
       "      <th>5107</th>\n",
       "      <td>23395</td>\n",
       "      <td>0</td>\n",
       "    </tr>\n",
       "    <tr>\n",
       "      <th>5108</th>\n",
       "      <td>23396</td>\n",
       "      <td>0</td>\n",
       "    </tr>\n",
       "    <tr>\n",
       "      <th>5109</th>\n",
       "      <td>23397</td>\n",
       "      <td>0</td>\n",
       "    </tr>\n",
       "    <tr>\n",
       "      <th>5110</th>\n",
       "      <td>23398</td>\n",
       "      <td>0</td>\n",
       "    </tr>\n",
       "    <tr>\n",
       "      <th>5111</th>\n",
       "      <td>23399</td>\n",
       "      <td>0</td>\n",
       "    </tr>\n",
       "  </tbody>\n",
       "</table>\n",
       "<p>5112 rows × 2 columns</p>\n",
       "</div>"
      ],
      "text/plain": [
       "         ID  Count\n",
       "0     18288      0\n",
       "1     18289      0\n",
       "2     18290      0\n",
       "3     18291      0\n",
       "4     18292      0\n",
       "...     ...    ...\n",
       "5107  23395      0\n",
       "5108  23396      0\n",
       "5109  23397      0\n",
       "5110  23398      0\n",
       "5111  23399      0\n",
       "\n",
       "[5112 rows x 2 columns]"
      ]
     },
     "execution_count": 30,
     "metadata": {},
     "output_type": "execute_result"
    }
   ],
   "source": [
    "submission"
   ]
  },
  {
   "cell_type": "code",
   "execution_count": 31,
   "id": "aggressive-eugene",
   "metadata": {},
   "outputs": [
    {
     "data": {
      "text/plain": [
       "<statsmodels.tsa.seasonal.DecomposeResult at 0x1d654f5a3c8>"
      ]
     },
     "execution_count": 31,
     "metadata": {},
     "output_type": "execute_result"
    }
   ],
   "source": [
    "result_mul = seasonal_decompose(train['Count'], model='multiplicative', extrapolate_trend='freq', period=168)\n",
    "result_mul"
   ]
  },
  {
   "cell_type": "code",
   "execution_count": 32,
   "id": "robust-interface",
   "metadata": {},
   "outputs": [
    {
     "data": {
      "text/html": [
       "<div>\n",
       "<style scoped>\n",
       "    .dataframe tbody tr th:only-of-type {\n",
       "        vertical-align: middle;\n",
       "    }\n",
       "\n",
       "    .dataframe tbody tr th {\n",
       "        vertical-align: top;\n",
       "    }\n",
       "\n",
       "    .dataframe thead th {\n",
       "        text-align: right;\n",
       "    }\n",
       "</style>\n",
       "<table border=\"1\" class=\"dataframe\">\n",
       "  <thead>\n",
       "    <tr style=\"text-align: right;\">\n",
       "      <th></th>\n",
       "      <th>seas</th>\n",
       "      <th>trend</th>\n",
       "      <th>resid</th>\n",
       "      <th>actual_values</th>\n",
       "      <th>product</th>\n",
       "    </tr>\n",
       "  </thead>\n",
       "  <tbody>\n",
       "    <tr>\n",
       "      <th>0</th>\n",
       "      <td>1.189955</td>\n",
       "      <td>2.378476</td>\n",
       "      <td>2.826576</td>\n",
       "      <td>8.0</td>\n",
       "      <td>8.0</td>\n",
       "    </tr>\n",
       "    <tr>\n",
       "      <th>1</th>\n",
       "      <td>1.017299</td>\n",
       "      <td>2.385741</td>\n",
       "      <td>0.824058</td>\n",
       "      <td>2.0</td>\n",
       "      <td>2.0</td>\n",
       "    </tr>\n",
       "    <tr>\n",
       "      <th>2</th>\n",
       "      <td>0.780374</td>\n",
       "      <td>2.393007</td>\n",
       "      <td>3.212955</td>\n",
       "      <td>6.0</td>\n",
       "      <td>6.0</td>\n",
       "    </tr>\n",
       "    <tr>\n",
       "      <th>3</th>\n",
       "      <td>0.619185</td>\n",
       "      <td>2.400272</td>\n",
       "      <td>1.345702</td>\n",
       "      <td>2.0</td>\n",
       "      <td>2.0</td>\n",
       "    </tr>\n",
       "    <tr>\n",
       "      <th>4</th>\n",
       "      <td>0.519950</td>\n",
       "      <td>2.407538</td>\n",
       "      <td>1.597700</td>\n",
       "      <td>2.0</td>\n",
       "      <td>2.0</td>\n",
       "    </tr>\n",
       "    <tr>\n",
       "      <th>...</th>\n",
       "      <td>...</td>\n",
       "      <td>...</td>\n",
       "      <td>...</td>\n",
       "      <td>...</td>\n",
       "      <td>...</td>\n",
       "    </tr>\n",
       "    <tr>\n",
       "      <th>18283</th>\n",
       "      <td>1.414842</td>\n",
       "      <td>565.773651</td>\n",
       "      <td>1.084349</td>\n",
       "      <td>868.0</td>\n",
       "      <td>868.0</td>\n",
       "    </tr>\n",
       "    <tr>\n",
       "      <th>18284</th>\n",
       "      <td>1.350797</td>\n",
       "      <td>566.273553</td>\n",
       "      <td>0.956962</td>\n",
       "      <td>732.0</td>\n",
       "      <td>732.0</td>\n",
       "    </tr>\n",
       "    <tr>\n",
       "      <th>18285</th>\n",
       "      <td>1.230669</td>\n",
       "      <td>566.773454</td>\n",
       "      <td>1.006437</td>\n",
       "      <td>702.0</td>\n",
       "      <td>702.0</td>\n",
       "    </tr>\n",
       "    <tr>\n",
       "      <th>18286</th>\n",
       "      <td>1.406608</td>\n",
       "      <td>567.273356</td>\n",
       "      <td>0.726880</td>\n",
       "      <td>580.0</td>\n",
       "      <td>580.0</td>\n",
       "    </tr>\n",
       "    <tr>\n",
       "      <th>18287</th>\n",
       "      <td>1.345917</td>\n",
       "      <td>567.773257</td>\n",
       "      <td>0.698792</td>\n",
       "      <td>534.0</td>\n",
       "      <td>534.0</td>\n",
       "    </tr>\n",
       "  </tbody>\n",
       "</table>\n",
       "<p>18288 rows × 5 columns</p>\n",
       "</div>"
      ],
      "text/plain": [
       "           seas       trend     resid  actual_values  product\n",
       "0      1.189955    2.378476  2.826576            8.0      8.0\n",
       "1      1.017299    2.385741  0.824058            2.0      2.0\n",
       "2      0.780374    2.393007  3.212955            6.0      6.0\n",
       "3      0.619185    2.400272  1.345702            2.0      2.0\n",
       "4      0.519950    2.407538  1.597700            2.0      2.0\n",
       "...         ...         ...       ...            ...      ...\n",
       "18283  1.414842  565.773651  1.084349          868.0    868.0\n",
       "18284  1.350797  566.273553  0.956962          732.0    732.0\n",
       "18285  1.230669  566.773454  1.006437          702.0    702.0\n",
       "18286  1.406608  567.273356  0.726880          580.0    580.0\n",
       "18287  1.345917  567.773257  0.698792          534.0    534.0\n",
       "\n",
       "[18288 rows x 5 columns]"
      ]
     },
     "execution_count": 32,
     "metadata": {},
     "output_type": "execute_result"
    }
   ],
   "source": [
    "df_reconstructed = pd.concat([result_mul.seasonal, result_mul.trend, result_mul.resid, result_mul.observed], axis=1)\n",
    "df_reconstructed.columns = ['seas', 'trend', 'resid', 'actual_values']\n",
    "df_reconstructed['product'] = (df_reconstructed['seas']*df_reconstructed['trend']*df_reconstructed['resid'])\n",
    "df_reconstructed"
   ]
  },
  {
   "cell_type": "code",
   "execution_count": 33,
   "id": "everyday-asthma",
   "metadata": {},
   "outputs": [],
   "source": [
    "from sklearn.svm import SVR\n",
    "from sklearn.pipeline import make_pipeline\n",
    "from sklearn.preprocessing import PolynomialFeatures\n",
    "from sklearn.preprocessing import StandardScaler\n",
    "from sklearn.linear_model import LinearRegression\n",
    "\n",
    "N=len(submission)\n",
    "def trend_forecasting(model_trend=LinearRegression(),N_forecast = N ):\n",
    "    model = make_pipeline(PolynomialFeatures(degree=4), StandardScaler(), model_trend )\n",
    "    y = df_reconstructed['trend']\n",
    "    X = [[i] for i in range(len(y))]\n",
    "    model.fit(X,y)\n",
    "    X_pred = [[i] for i in range(len(y) + N_forecast)]\n",
    "    y_pred = model.predict(X_pred)\n",
    "    return y_pred"
   ]
  },
  {
   "cell_type": "code",
   "execution_count": 34,
   "id": "drawn-australia",
   "metadata": {},
   "outputs": [],
   "source": [
    "### get the trend from the forecasting function\n",
    "y_pred = trend_forecasting()\n",
    "df_forecast = pd.DataFrame()\n",
    "df_forecast['forecast_trend'] = y_pred "
   ]
  },
  {
   "cell_type": "code",
   "execution_count": 35,
   "id": "generic-politics",
   "metadata": {},
   "outputs": [],
   "source": [
    "###change datatimeindex to rangeindex\n",
    "df_reconstructed.index = pd.RangeIndex(start=0, stop=len(df_reconstructed['trend']), step=1)\n",
    "df_forecast.index = pd.RangeIndex(start=0, stop=len(df_reconstructed['trend'])+N, step=1)"
   ]
  },
  {
   "cell_type": "code",
   "execution_count": 36,
   "id": "minus-speech",
   "metadata": {},
   "outputs": [
    {
     "data": {
      "image/png": "[encoded data removed]",
      "text/plain": [
       "<Figure size 432x288 with 1 Axes>"
      ]
     },
     "metadata": {
      "needs_background": "light"
     },
     "output_type": "display_data"
    }
   ],
   "source": [
    "### plot the forecast trend ###\n",
    "plt.figure()\n",
    "plt.title('trend vs forecast trend')\n",
    "df_reconstructed['product'].plot()\n",
    "df_reconstructed['trend'].plot()\n",
    "df_forecast['forecast_trend'].plot()\n",
    "plt.legend()\n",
    "plt.show()"
   ]
  },
  {
   "cell_type": "markdown",
   "id": "ahead-opinion",
   "metadata": {},
   "source": [
    "# Seasonality Forecast"
   ]
  },
  {
   "cell_type": "code",
   "execution_count": 37,
   "id": "enclosed-soccer",
   "metadata": {},
   "outputs": [],
   "source": [
    "#forecasting seasonality\n",
    "from sklearn.ensemble import RandomForestRegressor\n",
    "def seas_forecasting(model_seas=RandomForestRegressor(n_estimators=100), N_forecast=N, period=168):\n",
    "    model = make_pipeline(StandardScaler(), model_seas)\n",
    "    y = df_reconstructed['seas']\n",
    "    X = [[i%period] for i in range(len(y))]\n",
    "    model.fit(X,y)\n",
    "    X_pred = [[i%period] for i in range(len(y) + N_forecast)]\n",
    "    y_pred = model.predict(X_pred)\n",
    "    return y_pred"
   ]
  },
  {
   "cell_type": "code",
   "execution_count": 38,
   "id": "unsigned-courage",
   "metadata": {},
   "outputs": [],
   "source": [
    "### get the seasonality from the forecasting function\n",
    "y_pred = seas_forecasting()\n",
    "\n",
    "df_forecast['forecast_seas'] = y_pred"
   ]
  },
  {
   "cell_type": "code",
   "execution_count": 39,
   "id": "lesbian-tuning",
   "metadata": {},
   "outputs": [],
   "source": [
    "###reconstruct a signal\n",
    "df_forecast['forecast_values'] = df_forecast['forecast_trend']*df_forecast['forecast_seas']"
   ]
  },
  {
   "cell_type": "code",
   "execution_count": 40,
   "id": "baking-ribbon",
   "metadata": {},
   "outputs": [
    {
     "data": {
      "image/png": "[encoded data removed]",
      "text/plain": [
       "<Figure size 432x288 with 1 Axes>"
      ]
     },
     "metadata": {
      "needs_background": "light"
     },
     "output_type": "display_data"
    }
   ],
   "source": [
    "### plot the forecast seasonality ###\n",
    "plt.figure()\n",
    "plt.title('seas vs forecast seas')\n",
    "df_reconstructed['seas'].plot()\n",
    "df_forecast['forecast_seas'].plot()\n",
    "plt.legend()\n",
    "plt.show()"
   ]
  },
  {
   "cell_type": "code",
   "execution_count": 41,
   "id": "flexible-invalid",
   "metadata": {},
   "outputs": [],
   "source": [
    "###increase the values where seasonality is hight \n",
    "for i in range(len(y_pred)):  #increase the highest values\n",
    "    if df_forecast['forecast_seas'][i] > 1:\n",
    "        df_forecast['forecast_values'][i] = df_forecast['forecast_values'][i]+91\n",
    "    else:\n",
    "        df_forecast['forecast_values'][i] = df_forecast['forecast_values'][i]+22\n"
   ]
  },
  {
   "cell_type": "code",
   "execution_count": 42,
   "id": "random-batman",
   "metadata": {},
   "outputs": [
    {
     "data": {
      "image/png": "[encoded data removed]",
      "text/plain": [
       "<Figure size 864x576 with 1 Axes>"
      ]
     },
     "metadata": {
      "needs_background": "light"
     },
     "output_type": "display_data"
    }
   ],
   "source": [
    "### plot the forecast without noise \n",
    "plt.figure(figsize=(12,8))\n",
    "plt.title('values vs forecast values')\n",
    "df_reconstructed['product'].plot()\n",
    "df_forecast['forecast_values'].plot()\n",
    "plt.legend()\n",
    "plt.show()"
   ]
  },
  {
   "cell_type": "code",
   "execution_count": 43,
   "id": "lucky-plenty",
   "metadata": {},
   "outputs": [
    {
     "data": {
      "text/html": [
       "<div>\n",
       "<style scoped>\n",
       "    .dataframe tbody tr th:only-of-type {\n",
       "        vertical-align: middle;\n",
       "    }\n",
       "\n",
       "    .dataframe tbody tr th {\n",
       "        vertical-align: top;\n",
       "    }\n",
       "\n",
       "    .dataframe thead th {\n",
       "        text-align: right;\n",
       "    }\n",
       "</style>\n",
       "<table border=\"1\" class=\"dataframe\">\n",
       "  <thead>\n",
       "    <tr style=\"text-align: right;\">\n",
       "      <th></th>\n",
       "      <th>ID</th>\n",
       "      <th>Count</th>\n",
       "    </tr>\n",
       "  </thead>\n",
       "  <tbody>\n",
       "    <tr>\n",
       "      <th>0</th>\n",
       "      <td>18288</td>\n",
       "      <td>692.319128</td>\n",
       "    </tr>\n",
       "    <tr>\n",
       "      <th>1</th>\n",
       "      <td>18289</td>\n",
       "      <td>487.111095</td>\n",
       "    </tr>\n",
       "    <tr>\n",
       "      <th>2</th>\n",
       "      <td>18290</td>\n",
       "      <td>410.931373</td>\n",
       "    </tr>\n",
       "    <tr>\n",
       "      <th>3</th>\n",
       "      <td>18291</td>\n",
       "      <td>340.340042</td>\n",
       "    </tr>\n",
       "    <tr>\n",
       "      <th>4</th>\n",
       "      <td>18292</td>\n",
       "      <td>284.978483</td>\n",
       "    </tr>\n",
       "    <tr>\n",
       "      <th>...</th>\n",
       "      <td>...</td>\n",
       "      <td>...</td>\n",
       "    </tr>\n",
       "    <tr>\n",
       "      <th>5107</th>\n",
       "      <td>23395</td>\n",
       "      <td>1384.915051</td>\n",
       "    </tr>\n",
       "    <tr>\n",
       "      <th>5108</th>\n",
       "      <td>23396</td>\n",
       "      <td>1367.358467</td>\n",
       "    </tr>\n",
       "    <tr>\n",
       "      <th>5109</th>\n",
       "      <td>23397</td>\n",
       "      <td>1316.141742</td>\n",
       "    </tr>\n",
       "    <tr>\n",
       "      <th>5110</th>\n",
       "      <td>23398</td>\n",
       "      <td>1372.025401</td>\n",
       "    </tr>\n",
       "    <tr>\n",
       "      <th>5111</th>\n",
       "      <td>23399</td>\n",
       "      <td>1365.484262</td>\n",
       "    </tr>\n",
       "  </tbody>\n",
       "</table>\n",
       "<p>5112 rows × 2 columns</p>\n",
       "</div>"
      ],
      "text/plain": [
       "         ID        Count\n",
       "0     18288   692.319128\n",
       "1     18289   487.111095\n",
       "2     18290   410.931373\n",
       "3     18291   340.340042\n",
       "4     18292   284.978483\n",
       "...     ...          ...\n",
       "5107  23395  1384.915051\n",
       "5108  23396  1367.358467\n",
       "5109  23397  1316.141742\n",
       "5110  23398  1372.025401\n",
       "5111  23399  1365.484262\n",
       "\n",
       "[5112 rows x 2 columns]"
      ]
     },
     "execution_count": 43,
     "metadata": {},
     "output_type": "execute_result"
    }
   ],
   "source": [
    "submission['Count'] = list(df_forecast[-N:]['forecast_values'])\n",
    "submission"
   ]
  },
  {
   "cell_type": "code",
   "execution_count": 44,
   "id": "superb-suspect",
   "metadata": {},
   "outputs": [],
   "source": [
    "submission.to_csv('sub_test.csv', index=False)"
   ]
  },
  {
   "cell_type": "code",
   "execution_count": null,
   "id": "italic-spoke",
   "metadata": {},
   "outputs": [],
   "source": []
  }
 ],
 "metadata": {
  "kernelspec": {
   "display_name": "Python 3",
   "language": "python",
   "name": "python3"
  },
  "language_info": {
   "codemirror_mode": {
    "name": "ipython",
    "version": 3
   },
   "file_extension": ".py",
   "mimetype": "text/x-python",
   "name": "python",
   "nbconvert_exporter": "python",
   "pygments_lexer": "ipython3",
   "version": "3.7.9"
  }
 },
 "nbformat": 4,
 "nbformat_minor": 5
}

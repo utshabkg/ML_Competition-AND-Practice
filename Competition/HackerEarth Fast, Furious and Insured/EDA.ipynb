{
  "nbformat": 4,
  "nbformat_minor": 0,
  "metadata": {
    "colab": {
      "name": "EDA.ipynb",
      "provenance": [],
      "collapsed_sections": [],
      "toc_visible": true
    },
    "kernelspec": {
      "name": "python3",
      "display_name": "Python 3"
    },
    "language_info": {
      "name": "python"
    }
  },
  "cells": [
    {
      "cell_type": "code",
      "metadata": {
        "id": "V4nOIqdHMzlf"
      },
      "source": [
        "# !git clone https://github.com/utshabkg/ML_Competition-AND-Practice.git"
      ],
      "execution_count": null,
      "outputs": []
    },
    {
      "cell_type": "code",
      "metadata": {
        "colab": {
          "base_uri": "https://localhost:8080/"
        },
        "id": "bmpP6I_GLq-3",
        "outputId": "0386b802-732e-49dc-e1a6-656b6c177ff7"
      },
      "source": [
        "%cd '/content/drive/Shareddrives/utshabkg/ML_Competition-AND-Practice/Competition/HackerEarth Fast, Furious and Insured/dataset/'"
      ],
      "execution_count": null,
      "outputs": [
        {
          "output_type": "stream",
          "text": [
            "/content/drive/Shareddrives/utshabkg/ML_Competition-AND-Practice/Competition/HackerEarth Fast, Furious and Insured/dataset\n"
          ],
          "name": "stdout"
        }
      ]
    },
    {
      "cell_type": "code",
      "metadata": {
        "id": "tnkFRKezM4lm"
      },
      "source": [
        "import pandas as pd\n",
        "import matplotlib.pyplot as plt\n",
        "import seaborn as sns\n",
        "import numpy as np\n",
        "import os\n",
        "import re\n",
        "import random\n",
        "from tqdm import tqdm\n",
        "import tensorflow as tf\n",
        "import cv2\n",
        "from tensorflow.keras.preprocessing.image import ImageDataGenerator\n",
        "from tensorflow.keras.preprocessing import image\n",
        "from tensorflow.keras.preprocessing.image import array_to_img\n",
        "from tensorflow.keras.preprocessing.image import img_to_array"
      ],
      "execution_count": null,
      "outputs": []
    },
    {
      "cell_type": "code",
      "metadata": {
        "colab": {
          "base_uri": "https://localhost:8080/"
        },
        "id": "mpnPnzxYJpmS",
        "outputId": "f63cca6e-803f-48cb-be17-8b13f79026f5"
      },
      "source": [
        "train = pd.read_csv('/content/drive/Shareddrives/utshabkg/ML_Competition-AND-Practice/Competition/HackerEarth Fast, Furious and Insured/dataset/train.csv')\n",
        "test = pd.read_csv('/content/drive/Shareddrives/utshabkg/ML_Competition-AND-Practice/Competition/HackerEarth Fast, Furious and Insured/dataset/test.csv')\n",
        "train.shape, test.shape"
      ],
      "execution_count": null,
      "outputs": [
        {
          "output_type": "execute_result",
          "data": {
            "text/plain": [
              "((1399, 8), (600, 6))"
            ]
          },
          "metadata": {
            "tags": []
          },
          "execution_count": 22
        }
      ]
    },
    {
      "cell_type": "code",
      "metadata": {
        "colab": {
          "base_uri": "https://localhost:8080/",
          "height": 204
        },
        "id": "Yk7IVUb8HHlx",
        "outputId": "4da94240-85be-40d9-ef32-6c7c992b8cee"
      },
      "source": [
        "train.head()"
      ],
      "execution_count": null,
      "outputs": [
        {
          "output_type": "execute_result",
          "data": {
            "text/html": [
              "<div>\n",
              "<style scoped>\n",
              "    .dataframe tbody tr th:only-of-type {\n",
              "        vertical-align: middle;\n",
              "    }\n",
              "\n",
              "    .dataframe tbody tr th {\n",
              "        vertical-align: top;\n",
              "    }\n",
              "\n",
              "    .dataframe thead th {\n",
              "        text-align: right;\n",
              "    }\n",
              "</style>\n",
              "<table border=\"1\" class=\"dataframe\">\n",
              "  <thead>\n",
              "    <tr style=\"text-align: right;\">\n",
              "      <th></th>\n",
              "      <th>Image_path</th>\n",
              "      <th>Insurance_company</th>\n",
              "      <th>Cost_of_vehicle</th>\n",
              "      <th>Min_coverage</th>\n",
              "      <th>Expiry_date</th>\n",
              "      <th>Max_coverage</th>\n",
              "      <th>Condition</th>\n",
              "      <th>Amount</th>\n",
              "    </tr>\n",
              "  </thead>\n",
              "  <tbody>\n",
              "    <tr>\n",
              "      <th>0</th>\n",
              "      <td>img_4513976.jpg</td>\n",
              "      <td>BQ</td>\n",
              "      <td>41500.0</td>\n",
              "      <td>1037.5</td>\n",
              "      <td>2026-12-03</td>\n",
              "      <td>36142.68</td>\n",
              "      <td>0</td>\n",
              "      <td>0.0</td>\n",
              "    </tr>\n",
              "    <tr>\n",
              "      <th>1</th>\n",
              "      <td>img_7764995.jpg</td>\n",
              "      <td>BQ</td>\n",
              "      <td>50700.0</td>\n",
              "      <td>1267.5</td>\n",
              "      <td>2025-07-10</td>\n",
              "      <td>12753.00</td>\n",
              "      <td>1</td>\n",
              "      <td>6194.0</td>\n",
              "    </tr>\n",
              "    <tr>\n",
              "      <th>2</th>\n",
              "      <td>img_451308.jpg</td>\n",
              "      <td>A</td>\n",
              "      <td>49500.0</td>\n",
              "      <td>1237.5</td>\n",
              "      <td>2022-08-11</td>\n",
              "      <td>43102.68</td>\n",
              "      <td>0</td>\n",
              "      <td>0.0</td>\n",
              "    </tr>\n",
              "    <tr>\n",
              "      <th>3</th>\n",
              "      <td>img_7768372.jpg</td>\n",
              "      <td>A</td>\n",
              "      <td>33500.0</td>\n",
              "      <td>837.5</td>\n",
              "      <td>2022-08-02</td>\n",
              "      <td>8453.00</td>\n",
              "      <td>1</td>\n",
              "      <td>7699.0</td>\n",
              "    </tr>\n",
              "    <tr>\n",
              "      <th>4</th>\n",
              "      <td>img_7765274.jpg</td>\n",
              "      <td>AC</td>\n",
              "      <td>27600.0</td>\n",
              "      <td>690.0</td>\n",
              "      <td>2026-05-01</td>\n",
              "      <td>6978.00</td>\n",
              "      <td>1</td>\n",
              "      <td>8849.0</td>\n",
              "    </tr>\n",
              "  </tbody>\n",
              "</table>\n",
              "</div>"
            ],
            "text/plain": [
              "        Image_path Insurance_company  ...  Condition  Amount\n",
              "0  img_4513976.jpg                BQ  ...          0     0.0\n",
              "1  img_7764995.jpg                BQ  ...          1  6194.0\n",
              "2   img_451308.jpg                 A  ...          0     0.0\n",
              "3  img_7768372.jpg                 A  ...          1  7699.0\n",
              "4  img_7765274.jpg                AC  ...          1  8849.0\n",
              "\n",
              "[5 rows x 8 columns]"
            ]
          },
          "metadata": {
            "tags": []
          },
          "execution_count": 23
        }
      ]
    },
    {
      "cell_type": "markdown",
      "metadata": {
        "id": "7YN14xAvKTLy"
      },
      "source": [
        "### Split damaged and undamaged images"
      ]
    },
    {
      "cell_type": "code",
      "metadata": {
        "colab": {
          "base_uri": "https://localhost:8080/"
        },
        "id": "NanQK82IKlj7",
        "outputId": "cc248519-eb4e-44e1-f8c9-7966ce4f845e"
      },
      "source": [
        "train['Condition'].isnull().sum()"
      ],
      "execution_count": null,
      "outputs": [
        {
          "output_type": "execute_result",
          "data": {
            "text/plain": [
              "0"
            ]
          },
          "metadata": {
            "tags": []
          },
          "execution_count": 24
        }
      ]
    },
    {
      "cell_type": "code",
      "metadata": {
        "id": "3dPj2tKbKwUv"
      },
      "source": [
        "damaged = 'trainImages/damaged'\n",
        "undamaged = 'trainImages/undamaged'\n",
        "if not os.path.exists(undamaged):\n",
        "    os.mkdir(undamaged)\n",
        "if not os.path.exists(damaged):\n",
        "    os.mkdir(damaged)"
      ],
      "execution_count": null,
      "outputs": []
    },
    {
      "cell_type": "code",
      "metadata": {
        "colab": {
          "base_uri": "https://localhost:8080/"
        },
        "id": "RbEtGC9NKLJz",
        "outputId": "bc3a20c3-0aef-4d49-d017-de2f21af9c67"
      },
      "source": [
        "import shutil\n",
        "j = 0\n",
        "for i in train['Condition']:\n",
        "    image = train.loc[j, 'Image_path']\n",
        "    if i==0:\n",
        "        shutil.copy(f'trainImages/{image}', f'trainImages/undamaged/{image}')\n",
        "    else:\n",
        "        shutil.copy(f'trainImages/{image}', f'trainImages/damaged/{image}')\n",
        "    if (j+1) % 200 == 0:\n",
        "        print(f'{j+1} images are done')\n",
        "    j += 1\n",
        "print('Train images are splited')"
      ],
      "execution_count": null,
      "outputs": [
        {
          "output_type": "stream",
          "text": [
            "200 images are done\n",
            "400 images are done\n",
            "600 images are done\n",
            "800 images are done\n",
            "1000 images are done\n",
            "1200 images are done\n",
            "Train images are splited\n"
          ],
          "name": "stdout"
        }
      ]
    },
    {
      "cell_type": "code",
      "metadata": {
        "id": "FyvkJ7sYNNhA"
      },
      "source": [
        "train_damaged = os.listdir(damaged)\n",
        "train_undamaged = os.listdir(undamaged)"
      ],
      "execution_count": null,
      "outputs": []
    },
    {
      "cell_type": "code",
      "metadata": {
        "id": "DDo21RXMRMgj"
      },
      "source": [
        "def plot_bar(class_labels, counts, name):\n",
        "    plt.figure(figsize = (5,5))\n",
        "    f = sns.barplot(x = classes, y =counts)\n",
        "    plt.xlabel(\"Class labels\", fontsize=12)\n",
        "    plt.ylabel('Count', fontsize=12)\n",
        "    plt.title(\"Number of Images in \"+name+' folder', fontsize=15)\n",
        "    plt.show()"
      ],
      "execution_count": null,
      "outputs": []
    },
    {
      "cell_type": "code",
      "metadata": {
        "colab": {
          "base_uri": "https://localhost:8080/",
          "height": 389
        },
        "id": "sl03GpYsRSAg",
        "outputId": "90e5471c-4b68-4d80-9384-c49bf8e450c4"
      },
      "source": [
        "classes = ['Damaged', 'Not Damaged']\n",
        "counts = [len(train_damaged), len(train_undamaged)]\n",
        "plot_bar(classes, counts, 'trainImages')\n",
        "for i in range(len(classes)):\n",
        "    print('Number of '+classes[i]+' images in trainImages is '+str(counts[i]))"
      ],
      "execution_count": null,
      "outputs": [
        {
          "output_type": "display_data",
          "data": {
            "image/png": "[encoded data removed]",
            "text/plain": [
              "<Figure size 360x360 with 1 Axes>"
            ]
          },
          "metadata": {
            "tags": [],
            "needs_background": "light"
          }
        },
        {
          "output_type": "stream",
          "text": [
            "Number of Damaged images in trainImages is 1300\n",
            "Number of Not Damaged images in trainImages is 99\n"
          ],
          "name": "stdout"
        }
      ]
    },
    {
      "cell_type": "markdown",
      "metadata": {
        "id": "PYKZNEyFTFri"
      },
      "source": [
        "# Imbalance!!!\n",
        "\n",
        ">  LCM of 1300 and 99 is 128700\n",
        "\n"
      ]
    },
    {
      "cell_type": "code",
      "metadata": {
        "id": "HOHFRU9RKAgB"
      },
      "source": [
        "damaged_aug = 'trainImages/damaged_aug'\n",
        "undamaged_aug = 'trainImages/undamaged_aug'\n",
        "if not os.path.exists(undamaged_aug):\n",
        "    os.mkdir(undamaged_aug)\n",
        "if not os.path.exists(damaged_aug):\n",
        "    os.mkdir(damaged_aug)"
      ],
      "execution_count": null,
      "outputs": []
    },
    {
      "cell_type": "code",
      "metadata": {
        "id": "3gUT1upBsvBs"
      },
      "source": [
        "%reload_ext autoreload\n",
        "%autoreload 2\n",
        "%matplotlib inline\n",
        "from fastai.vision import *\n",
        "\n",
        "path = Path('trainImages')\n",
        "path_hr = path/'damaged'\n",
        "il = ImageList.from_folder(path_hr)\n",
        "path_hr = path/'damaged_aug'\n",
        "tfms = get_transforms(max_rotate=25)\n",
        "\n",
        "k = 1\n",
        "def data_aug_one(ex_img, prox, qnt):\n",
        "   for lop in range(0, qnt):\n",
        "      image_name = str(prox).zfill(8) +'.jpg'\n",
        "      dest = path_hr/image_name\n",
        "      prox = prox + 1\n",
        "      new_img = open_image(ex_img)\n",
        "      new_img_fin = new_img.apply_tfms(tfms[0], new_img, xtra={tfms[1][0].tfm: {\"size\": 224}}, size=224)\n",
        "      if not os.path.exists(dest):\n",
        "          new_img_fin.save(dest)\n",
        "    print(k)\n",
        "    k += 1\n",
        "\n",
        "prox = 1300\n",
        "qnt = 99\n",
        "for imagen in il.items:\n",
        "   data_aug_one(imagen, prox, qnt)\n",
        "   prox = prox + qnt"
      ],
      "execution_count": null,
      "outputs": []
    },
    {
      "cell_type": "code",
      "metadata": {
        "id": "sUduazdHtIMs"
      },
      "source": [
        "path = Path('trainImages')\n",
        "path_hr = path/'undamaged'\n",
        "il = ImageList.from_folder(path_hr)\n",
        "path_hr = path/'undamaged_aug'\n",
        "tfms = get_transforms(max_rotate=25)\n",
        "\n",
        "k = 1\n",
        "def data_aug_one(ex_img, prox, qnt):\n",
        "   for lop in range(0, qnt):\n",
        "      image_name = str(prox).zfill(8) +'.jpg'\n",
        "      dest = path_hr/image_name\n",
        "      prox = prox + 1\n",
        "      new_img = open_image(ex_img)\n",
        "      new_img_fin = new_img.apply_tfms(tfms[0], new_img, xtra={tfms[1][0].tfm: {\"size\": 224}}, size=224)\n",
        "      new_img_fin.save(dest)\n",
        "      if not os.path.exists(dest):\n",
        "          new_img_fin.save(dest)\n",
        "    print(k)\n",
        "    k += 1\n",
        "prox = 99\n",
        "qnt = 1300\n",
        "for imagen in il.items:\n",
        "   data_aug_one(imagen, prox, qnt)\n",
        "   prox = prox + qnt"
      ],
      "execution_count": null,
      "outputs": []
    },
    {
      "cell_type": "code",
      "metadata": {
        "id": "T18euu_8wJVs"
      },
      "source": [
        ""
      ],
      "execution_count": null,
      "outputs": []
    }
  ]
}
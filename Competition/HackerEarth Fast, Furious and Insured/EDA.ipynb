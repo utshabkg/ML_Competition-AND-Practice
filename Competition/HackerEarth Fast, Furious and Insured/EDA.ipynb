{
  "nbformat": 4,
  "nbformat_minor": 0,
  "metadata": {
    "colab": {
      "name": "EDA.ipynb",
      "provenance": [],
      "collapsed_sections": [],
      "toc_visible": true
    },
    "kernelspec": {
      "name": "python3",
      "display_name": "Python 3"
    },
    "language_info": {
      "name": "python"
    }
  },
  "cells": [
    {
      "cell_type": "code",
      "metadata": {
        "id": "V4nOIqdHMzlf"
      },
      "source": [
        "# %cd '/content/drive/Shareddrives/utshabkg'\n",
        "# !git clone https://github.com/utshabkg/ML_Competition-AND-Practice.git"
      ],
      "execution_count": 90,
      "outputs": []
    },
    {
      "cell_type": "code",
      "metadata": {
        "colab": {
          "base_uri": "https://localhost:8080/"
        },
        "id": "bmpP6I_GLq-3",
        "outputId": "860cf131-cba3-4644-919d-460be2218134"
      },
      "source": [
        "%cd '/content/drive/Shareddrives/utshabkg/ML_Competition-AND-Practice/Competition/HackerEarth Fast, Furious and Insured/dataset/'"
      ],
      "execution_count": 91,
      "outputs": [
        {
          "output_type": "stream",
          "text": [
            "/content/drive/Shareddrives/utshabkg/ML_Competition-AND-Practice/Competition/HackerEarth Fast, Furious and Insured/dataset\n"
          ],
          "name": "stdout"
        }
      ]
    },
    {
      "cell_type": "code",
      "metadata": {
        "id": "tnkFRKezM4lm"
      },
      "source": [
        "import pandas as pd\n",
        "import matplotlib.pyplot as plt\n",
        "import seaborn as sns\n",
        "import numpy as np\n",
        "import os\n",
        "import re\n",
        "import random\n",
        "from tqdm import tqdm\n",
        "import tensorflow as tf\n",
        "import cv2\n",
        "from tensorflow.keras.preprocessing.image import ImageDataGenerator\n",
        "from tensorflow.keras.preprocessing import image\n",
        "from tensorflow.keras.preprocessing.image import array_to_img\n",
        "from tensorflow.keras.preprocessing.image import img_to_array"
      ],
      "execution_count": 92,
      "outputs": []
    },
    {
      "cell_type": "code",
      "metadata": {
        "colab": {
          "base_uri": "https://localhost:8080/"
        },
        "id": "mpnPnzxYJpmS",
        "outputId": "4ea5409e-e248-41f8-e6e5-003b5b46a2ff"
      },
      "source": [
        "train = pd.read_csv('/content/drive/Shareddrives/utshabkg/ML_Competition-AND-Practice/Competition/HackerEarth Fast, Furious and Insured/dataset/train.csv')\n",
        "test = pd.read_csv('/content/drive/Shareddrives/utshabkg/ML_Competition-AND-Practice/Competition/HackerEarth Fast, Furious and Insured/dataset/test.csv')\n",
        "train.shape, test.shape"
      ],
      "execution_count": 126,
      "outputs": [
        {
          "output_type": "execute_result",
          "data": {
            "text/plain": [
              "((1399, 8), (600, 6))"
            ]
          },
          "metadata": {
            "tags": []
          },
          "execution_count": 126
        }
      ]
    },
    {
      "cell_type": "code",
      "metadata": {
        "colab": {
          "base_uri": "https://localhost:8080/",
          "height": 204
        },
        "id": "Yk7IVUb8HHlx",
        "outputId": "99bf733b-61b9-421a-f182-97ac05c5c1a5"
      },
      "source": [
        "train.head()"
      ],
      "execution_count": 127,
      "outputs": [
        {
          "output_type": "execute_result",
          "data": {
            "text/html": [
              "<div>\n",
              "<style scoped>\n",
              "    .dataframe tbody tr th:only-of-type {\n",
              "        vertical-align: middle;\n",
              "    }\n",
              "\n",
              "    .dataframe tbody tr th {\n",
              "        vertical-align: top;\n",
              "    }\n",
              "\n",
              "    .dataframe thead th {\n",
              "        text-align: right;\n",
              "    }\n",
              "</style>\n",
              "<table border=\"1\" class=\"dataframe\">\n",
              "  <thead>\n",
              "    <tr style=\"text-align: right;\">\n",
              "      <th></th>\n",
              "      <th>Image_path</th>\n",
              "      <th>Insurance_company</th>\n",
              "      <th>Cost_of_vehicle</th>\n",
              "      <th>Min_coverage</th>\n",
              "      <th>Expiry_date</th>\n",
              "      <th>Max_coverage</th>\n",
              "      <th>Condition</th>\n",
              "      <th>Amount</th>\n",
              "    </tr>\n",
              "  </thead>\n",
              "  <tbody>\n",
              "    <tr>\n",
              "      <th>0</th>\n",
              "      <td>img_4513976.jpg</td>\n",
              "      <td>BQ</td>\n",
              "      <td>41500.0</td>\n",
              "      <td>1037.5</td>\n",
              "      <td>2026-12-03</td>\n",
              "      <td>36142.68</td>\n",
              "      <td>0</td>\n",
              "      <td>0.0</td>\n",
              "    </tr>\n",
              "    <tr>\n",
              "      <th>1</th>\n",
              "      <td>img_7764995.jpg</td>\n",
              "      <td>BQ</td>\n",
              "      <td>50700.0</td>\n",
              "      <td>1267.5</td>\n",
              "      <td>2025-07-10</td>\n",
              "      <td>12753.00</td>\n",
              "      <td>1</td>\n",
              "      <td>6194.0</td>\n",
              "    </tr>\n",
              "    <tr>\n",
              "      <th>2</th>\n",
              "      <td>img_451308.jpg</td>\n",
              "      <td>A</td>\n",
              "      <td>49500.0</td>\n",
              "      <td>1237.5</td>\n",
              "      <td>2022-08-11</td>\n",
              "      <td>43102.68</td>\n",
              "      <td>0</td>\n",
              "      <td>0.0</td>\n",
              "    </tr>\n",
              "    <tr>\n",
              "      <th>3</th>\n",
              "      <td>img_7768372.jpg</td>\n",
              "      <td>A</td>\n",
              "      <td>33500.0</td>\n",
              "      <td>837.5</td>\n",
              "      <td>2022-08-02</td>\n",
              "      <td>8453.00</td>\n",
              "      <td>1</td>\n",
              "      <td>7699.0</td>\n",
              "    </tr>\n",
              "    <tr>\n",
              "      <th>4</th>\n",
              "      <td>img_7765274.jpg</td>\n",
              "      <td>AC</td>\n",
              "      <td>27600.0</td>\n",
              "      <td>690.0</td>\n",
              "      <td>2026-05-01</td>\n",
              "      <td>6978.00</td>\n",
              "      <td>1</td>\n",
              "      <td>8849.0</td>\n",
              "    </tr>\n",
              "  </tbody>\n",
              "</table>\n",
              "</div>"
            ],
            "text/plain": [
              "        Image_path Insurance_company  ...  Condition  Amount\n",
              "0  img_4513976.jpg                BQ  ...          0     0.0\n",
              "1  img_7764995.jpg                BQ  ...          1  6194.0\n",
              "2   img_451308.jpg                 A  ...          0     0.0\n",
              "3  img_7768372.jpg                 A  ...          1  7699.0\n",
              "4  img_7765274.jpg                AC  ...          1  8849.0\n",
              "\n",
              "[5 rows x 8 columns]"
            ]
          },
          "metadata": {
            "tags": []
          },
          "execution_count": 127
        }
      ]
    },
    {
      "cell_type": "code",
      "metadata": {
        "id": "T1npVhWJwuci"
      },
      "source": [
        "numbered = 'train_num'\n",
        "if not os.path.exists(numbered):\n",
        "    os.mkdir(numbered)"
      ],
      "execution_count": 128,
      "outputs": []
    },
    {
      "cell_type": "code",
      "metadata": {
        "id": "khIIS5uLroXc"
      },
      "source": [
        "import shutil\n",
        "for i in range(train.shape[0]):\n",
        "    image = train.loc[i, 'Image_path']\n",
        "    shutil.copy(f'trainImages/{image}', f'train_num/{str(i).zfill(4)}.jpg')\n",
        "    train.loc[i, 'Image_path'] = f'{str(i).zfill(4)}.jpg'"
      ],
      "execution_count": 129,
      "outputs": []
    },
    {
      "cell_type": "code",
      "metadata": {
        "colab": {
          "base_uri": "https://localhost:8080/",
          "height": 204
        },
        "id": "vNw9Pao63Q7s",
        "outputId": "fc6f3065-dcfe-4150-e37c-c22c44dbb206"
      },
      "source": [
        "train.head()"
      ],
      "execution_count": 130,
      "outputs": [
        {
          "output_type": "execute_result",
          "data": {
            "text/html": [
              "<div>\n",
              "<style scoped>\n",
              "    .dataframe tbody tr th:only-of-type {\n",
              "        vertical-align: middle;\n",
              "    }\n",
              "\n",
              "    .dataframe tbody tr th {\n",
              "        vertical-align: top;\n",
              "    }\n",
              "\n",
              "    .dataframe thead th {\n",
              "        text-align: right;\n",
              "    }\n",
              "</style>\n",
              "<table border=\"1\" class=\"dataframe\">\n",
              "  <thead>\n",
              "    <tr style=\"text-align: right;\">\n",
              "      <th></th>\n",
              "      <th>Image_path</th>\n",
              "      <th>Insurance_company</th>\n",
              "      <th>Cost_of_vehicle</th>\n",
              "      <th>Min_coverage</th>\n",
              "      <th>Expiry_date</th>\n",
              "      <th>Max_coverage</th>\n",
              "      <th>Condition</th>\n",
              "      <th>Amount</th>\n",
              "    </tr>\n",
              "  </thead>\n",
              "  <tbody>\n",
              "    <tr>\n",
              "      <th>0</th>\n",
              "      <td>0000.jpg</td>\n",
              "      <td>BQ</td>\n",
              "      <td>41500.0</td>\n",
              "      <td>1037.5</td>\n",
              "      <td>2026-12-03</td>\n",
              "      <td>36142.68</td>\n",
              "      <td>0</td>\n",
              "      <td>0.0</td>\n",
              "    </tr>\n",
              "    <tr>\n",
              "      <th>1</th>\n",
              "      <td>0001.jpg</td>\n",
              "      <td>BQ</td>\n",
              "      <td>50700.0</td>\n",
              "      <td>1267.5</td>\n",
              "      <td>2025-07-10</td>\n",
              "      <td>12753.00</td>\n",
              "      <td>1</td>\n",
              "      <td>6194.0</td>\n",
              "    </tr>\n",
              "    <tr>\n",
              "      <th>2</th>\n",
              "      <td>0002.jpg</td>\n",
              "      <td>A</td>\n",
              "      <td>49500.0</td>\n",
              "      <td>1237.5</td>\n",
              "      <td>2022-08-11</td>\n",
              "      <td>43102.68</td>\n",
              "      <td>0</td>\n",
              "      <td>0.0</td>\n",
              "    </tr>\n",
              "    <tr>\n",
              "      <th>3</th>\n",
              "      <td>0003.jpg</td>\n",
              "      <td>A</td>\n",
              "      <td>33500.0</td>\n",
              "      <td>837.5</td>\n",
              "      <td>2022-08-02</td>\n",
              "      <td>8453.00</td>\n",
              "      <td>1</td>\n",
              "      <td>7699.0</td>\n",
              "    </tr>\n",
              "    <tr>\n",
              "      <th>4</th>\n",
              "      <td>0004.jpg</td>\n",
              "      <td>AC</td>\n",
              "      <td>27600.0</td>\n",
              "      <td>690.0</td>\n",
              "      <td>2026-05-01</td>\n",
              "      <td>6978.00</td>\n",
              "      <td>1</td>\n",
              "      <td>8849.0</td>\n",
              "    </tr>\n",
              "  </tbody>\n",
              "</table>\n",
              "</div>"
            ],
            "text/plain": [
              "  Image_path Insurance_company  ...  Condition  Amount\n",
              "0   0000.jpg                BQ  ...          0     0.0\n",
              "1   0001.jpg                BQ  ...          1  6194.0\n",
              "2   0002.jpg                 A  ...          0     0.0\n",
              "3   0003.jpg                 A  ...          1  7699.0\n",
              "4   0004.jpg                AC  ...          1  8849.0\n",
              "\n",
              "[5 rows x 8 columns]"
            ]
          },
          "metadata": {
            "tags": []
          },
          "execution_count": 130
        }
      ]
    },
    {
      "cell_type": "code",
      "metadata": {
        "colab": {
          "base_uri": "https://localhost:8080/"
        },
        "id": "EnVUhrHh1mBF",
        "outputId": "9afd2be8-511a-4d3a-f873-115f26eaba58"
      },
      "source": [
        "len(os.listdir('train_num'))"
      ],
      "execution_count": 134,
      "outputs": [
        {
          "output_type": "execute_result",
          "data": {
            "text/plain": [
              "1403"
            ]
          },
          "metadata": {
            "tags": []
          },
          "execution_count": 134
        }
      ]
    },
    {
      "cell_type": "markdown",
      "metadata": {
        "id": "7YN14xAvKTLy"
      },
      "source": [
        "### Split damaged and undamaged images"
      ]
    },
    {
      "cell_type": "code",
      "metadata": {
        "id": "yN3E1XdFGbC4"
      },
      "source": [
        "# !rm -rf 'train_num/damaged' 'train_num/undamaged'"
      ],
      "execution_count": 135,
      "outputs": []
    },
    {
      "cell_type": "code",
      "metadata": {
        "id": "3dPj2tKbKwUv"
      },
      "source": [
        "damaged = 'train_num/damaged'\n",
        "undamaged = 'train_num/undamaged'\n",
        "if not os.path.exists(undamaged):\n",
        "    os.mkdir(undamaged)\n",
        "if not os.path.exists(damaged):\n",
        "    os.mkdir(damaged)"
      ],
      "execution_count": 136,
      "outputs": []
    },
    {
      "cell_type": "code",
      "metadata": {
        "colab": {
          "base_uri": "https://localhost:8080/"
        },
        "id": "NanQK82IKlj7",
        "outputId": "2d91796e-9e9a-4422-d3b3-c12b12a819cb"
      },
      "source": [
        "train['Condition'].isnull().sum()"
      ],
      "execution_count": 137,
      "outputs": [
        {
          "output_type": "execute_result",
          "data": {
            "text/plain": [
              "0"
            ]
          },
          "metadata": {
            "tags": []
          },
          "execution_count": 137
        }
      ]
    },
    {
      "cell_type": "code",
      "metadata": {
        "id": "RbEtGC9NKLJz",
        "colab": {
          "base_uri": "https://localhost:8080/"
        },
        "outputId": "0efe399d-e454-4de8-bea3-bcbcf1b4ea42"
      },
      "source": [
        "j = 0\n",
        "for i in train['Condition']:\n",
        "    image = train.loc[j, 'Image_path']\n",
        "    if i==0:\n",
        "        shutil.copy(f'train_num/{image}', f'train_num/undamaged/{image}')\n",
        "    else:\n",
        "        shutil.copy(f'train_num/{image}', f'train_num/damaged/{image}')\n",
        "    if (j+1) % 200 == 0:\n",
        "        print(f'{j+1} images are done')\n",
        "    j += 1\n",
        "print('Train images are splited')"
      ],
      "execution_count": 138,
      "outputs": [
        {
          "output_type": "stream",
          "text": [
            "200 images are done\n",
            "400 images are done\n",
            "600 images are done\n",
            "800 images are done\n",
            "1000 images are done\n",
            "1200 images are done\n",
            "Train images are splited\n"
          ],
          "name": "stdout"
        }
      ]
    },
    {
      "cell_type": "code",
      "metadata": {
        "id": "FyvkJ7sYNNhA"
      },
      "source": [
        "train_damaged = os.listdir(damaged)\n",
        "train_undamaged = os.listdir(undamaged)"
      ],
      "execution_count": 139,
      "outputs": []
    },
    {
      "cell_type": "code",
      "metadata": {
        "id": "DDo21RXMRMgj"
      },
      "source": [
        "def plot_bar(class_labels, counts, name):\n",
        "    plt.figure(figsize = (5,5))\n",
        "    f = sns.barplot(x = classes, y =counts)\n",
        "    plt.xlabel(\"Class labels\", fontsize=12)\n",
        "    plt.ylabel('Count', fontsize=12)\n",
        "    plt.title(\"Number of Images in \"+name+' folder', fontsize=15)\n",
        "    plt.show()"
      ],
      "execution_count": 140,
      "outputs": []
    },
    {
      "cell_type": "code",
      "metadata": {
        "colab": {
          "base_uri": "https://localhost:8080/",
          "height": 389
        },
        "id": "sl03GpYsRSAg",
        "outputId": "e0162e10-f879-4633-e0ee-efc8308e9ebb"
      },
      "source": [
        "classes = ['Damaged', 'Not Damaged']\n",
        "counts = [len(train_damaged), len(train_undamaged)]\n",
        "plot_bar(classes, counts, 'train_num')\n",
        "for i in range(len(classes)):\n",
        "    print('Number of '+classes[i]+' images in trainImages is '+str(counts[i]))"
      ],
      "execution_count": 141,
      "outputs": [
        {
          "output_type": "display_data",
          "data": {
            "image/png": "[encoded data removed]",
            "text/plain": [
              "<Figure size 360x360 with 1 Axes>"
            ]
          },
          "metadata": {
            "tags": [],
            "needs_background": "light"
          }
        },
        {
          "output_type": "stream",
          "text": [
            "Number of Damaged images in trainImages is 1300\n",
            "Number of Not Damaged images in trainImages is 99\n"
          ],
          "name": "stdout"
        }
      ]
    },
    {
      "cell_type": "markdown",
      "metadata": {
        "id": "PYKZNEyFTFri"
      },
      "source": [
        "# Imbalance!!!\n",
        "\n",
        ">  LCM of 1300 and 99 is 128700.\n",
        "\n",
        "> Let's work with 3900 images in both classes.\n"
      ]
    },
    {
      "cell_type": "code",
      "metadata": {
        "id": "HOHFRU9RKAgB"
      },
      "source": [
        "damaged_aug = 'train_num/damaged_aug'\n",
        "undamaged_aug = 'train_num/undamaged_aug'\n",
        "if not os.path.exists(undamaged_aug):\n",
        "    os.mkdir(undamaged_aug)\n",
        "if not os.path.exists(damaged_aug):\n",
        "    os.mkdir(damaged_aug)"
      ],
      "execution_count": 142,
      "outputs": []
    },
    {
      "cell_type": "code",
      "metadata": {
        "colab": {
          "base_uri": "https://localhost:8080/",
          "height": 35
        },
        "id": "L5Yoly0a6lql",
        "outputId": "4769ca4a-7e63-4259-da43-44823d826128"
      },
      "source": [
        "os.listdir('train_num/damaged')[0]"
      ],
      "execution_count": 143,
      "outputs": [
        {
          "output_type": "execute_result",
          "data": {
            "application/vnd.google.colaboratory.intrinsic+json": {
              "type": "string"
            },
            "text/plain": [
              "'0001.jpg'"
            ]
          },
          "metadata": {
            "tags": []
          },
          "execution_count": 143
        }
      ]
    },
    {
      "cell_type": "code",
      "metadata": {
        "id": "3gUT1upBsvBs"
      },
      "source": [
        "# %reload_ext autoreload\n",
        "# %autoreload 2\n",
        "# %matplotlib inline\n",
        "# from fastai.vision import *\n",
        "\n",
        "path = Path('train_num')\n",
        "# path_hr = path/'damaged'\n",
        "# il = ImageList.from_folder(path_hr)\n",
        "path_hr = path/'damaged_aug'\n",
        "# tfms = get_transforms(max_rotate=25)\n",
        "\n",
        "# def data_aug_one(ex_img, prox, qnt):\n",
        "#     for lop in range(0, qnt):\n",
        "#         image_name = str(prox).zfill(4) +'.jpg'\n",
        "#         dest = path_hr/image_name\n",
        "#         prox = prox + 1\n",
        "#         if not os.path.exists(dest):\n",
        "#             new_img = open_image(ex_img)\n",
        "#             new_img_fin = new_img.apply_tfms(tfms[0], new_img, xtra={tfms[1][0].tfm: {\"size\": 224}}, size=224)\n",
        "#             new_img_fin.save(dest)\n",
        "\n",
        "# prox = 1\n",
        "# qnt = 2\n",
        "# for imagen in il.items:\n",
        "#    data_aug_one(imagen, prox, qnt)\n",
        "#    prox = prox + qnt"
      ],
      "execution_count": 148,
      "outputs": []
    },
    {
      "cell_type": "code",
      "metadata": {
        "colab": {
          "base_uri": "https://localhost:8080/"
        },
        "id": "ToFMQR1AJPu7",
        "outputId": "c026c1cd-5369-4b3e-8e0c-1240d3557732"
      },
      "source": [
        "len(os.listdir(path_hr))"
      ],
      "execution_count": 149,
      "outputs": [
        {
          "output_type": "execute_result",
          "data": {
            "text/plain": [
              "2600"
            ]
          },
          "metadata": {
            "tags": []
          },
          "execution_count": 149
        }
      ]
    },
    {
      "cell_type": "code",
      "metadata": {
        "id": "T18euu_8wJVs"
      },
      "source": [
        "path = Path('train_num')\n",
        "# path_hr = path/'undamaged'\n",
        "# il = ImageList.from_folder(path_hr)\n",
        "path_hr = path/'undamaged_aug'\n",
        "# tfms = get_transforms(max_rotate=25)\n",
        "\n",
        "# def data_aug_one(ex_img, prox, qnt):\n",
        "#     for lop in range(0, qnt):\n",
        "#         image_name = str(prox).zfill(4) +'.jpg'\n",
        "#         dest = path_hr/image_name\n",
        "#         prox = prox + 1\n",
        "#         if not os.path.exists(dest):\n",
        "#             new_img = open_image(ex_img)\n",
        "#             new_img_fin = new_img.apply_tfms(tfms[0], new_img, xtra={tfms[1][0].tfm: {\"size\": 224}}, size=224)\n",
        "#             new_img_fin.save(dest)\n",
        "# prox = 1\n",
        "# qnt = 39\n",
        "# for imagen in il.items:\n",
        "#    data_aug_one(imagen, prox, qnt)\n",
        "#    prox = prox + qnt"
      ],
      "execution_count": 150,
      "outputs": []
    },
    {
      "cell_type": "code",
      "metadata": {
        "colab": {
          "base_uri": "https://localhost:8080/",
          "height": 241
        },
        "id": "kdIWlwZ8J1j-",
        "outputId": "1213d2ad-4a4f-4179-ace2-95462535267c"
      },
      "source": [
        "# len(os.listdir(path_hr))\n",
        "il = ImageList.from_folder('train_num/undamaged_aug')\n",
        "il[0]"
      ],
      "execution_count": 151,
      "outputs": [
        {
          "output_type": "execute_result",
          "data": {
            "image/png": "[encoded data removed]",
            "image/jpeg": "[encoded data removed]",
            "text/plain": [
              "Image (3, 224, 224)"
            ]
          },
          "metadata": {
            "tags": []
          },
          "execution_count": 151
        }
      ]
    },
    {
      "cell_type": "markdown",
      "metadata": {
        "id": "x7_CKXmlWj9a"
      },
      "source": [
        "### Delete last 60 images to keep 3900 [3861 - 60 + 99(previous)]"
      ]
    },
    {
      "cell_type": "code",
      "metadata": {
        "colab": {
          "base_uri": "https://localhost:8080/",
          "height": 35
        },
        "id": "rAHx9sPJW5mp",
        "outputId": "44267064-4240-4a26-eecb-2d49c1813233"
      },
      "source": [
        "os.listdir(path_hr)[-1]\n",
        "# len(os.listdir(path_hr))"
      ],
      "execution_count": 153,
      "outputs": [
        {
          "output_type": "execute_result",
          "data": {
            "application/vnd.google.colaboratory.intrinsic+json": {
              "type": "string"
            },
            "text/plain": [
              "'3801.jpg'"
            ]
          },
          "metadata": {
            "tags": []
          },
          "execution_count": 153
        }
      ]
    },
    {
      "cell_type": "code",
      "metadata": {
        "colab": {
          "base_uri": "https://localhost:8080/"
        },
        "id": "B1sxzGqUWYpu",
        "outputId": "330b239a-1ec1-4a8a-a7a0-3c005921fa3b"
      },
      "source": [
        "# for i in range(3802, 3862, 1):\n",
        "#     p = f'train_num/undamaged_aug/{i}.jpg'\n",
        "#     os.remove(p)\n",
        "# len(os.listdir(path_hr))"
      ],
      "execution_count": 113,
      "outputs": [
        {
          "output_type": "execute_result",
          "data": {
            "text/plain": [
              "3801"
            ]
          },
          "metadata": {
            "tags": []
          },
          "execution_count": 113
        }
      ]
    },
    {
      "cell_type": "code",
      "metadata": {
        "colab": {
          "base_uri": "https://localhost:8080/",
          "height": 241
        },
        "id": "7AvdFgYNL3kn",
        "outputId": "665a98c9-c372-4717-d2dc-a1c7f568f8ed"
      },
      "source": [
        "from google.colab.patches import cv2_imshow\n",
        "img = cv2.imread('train_num/damaged_aug/0002.jpg')\n",
        " \n",
        "cv2_imshow(img)"
      ],
      "execution_count": 154,
      "outputs": [
        {
          "output_type": "display_data",
          "data": {
            "image/png": "[encoded data removed]",
            "text/plain": [
              "<PIL.Image.Image image mode=RGB size=224x224 at 0x7F04FA52C8D0>"
            ]
          },
          "metadata": {
            "tags": []
          }
        }
      ]
    },
    {
      "cell_type": "markdown",
      "metadata": {
        "id": "X5fjsP3jM5Kk"
      },
      "source": [
        "### Merge all into one"
      ]
    },
    {
      "cell_type": "code",
      "metadata": {
        "colab": {
          "base_uri": "https://localhost:8080/",
          "height": 419
        },
        "id": "gWpO6htpSQKf",
        "outputId": "e0247b5e-3ade-4bc3-f2e9-8ec0dbfb3be3"
      },
      "source": [
        "train_aug = train.copy()\n",
        "train_damaged = train[train['Condition'] == 1].reset_index()\n",
        "train_undamaged = train[train['Condition'] == 0].reset_index()\n",
        "train_damaged"
      ],
      "execution_count": 155,
      "outputs": [
        {
          "output_type": "execute_result",
          "data": {
            "text/html": [
              "<div>\n",
              "<style scoped>\n",
              "    .dataframe tbody tr th:only-of-type {\n",
              "        vertical-align: middle;\n",
              "    }\n",
              "\n",
              "    .dataframe tbody tr th {\n",
              "        vertical-align: top;\n",
              "    }\n",
              "\n",
              "    .dataframe thead th {\n",
              "        text-align: right;\n",
              "    }\n",
              "</style>\n",
              "<table border=\"1\" class=\"dataframe\">\n",
              "  <thead>\n",
              "    <tr style=\"text-align: right;\">\n",
              "      <th></th>\n",
              "      <th>index</th>\n",
              "      <th>Image_path</th>\n",
              "      <th>Insurance_company</th>\n",
              "      <th>Cost_of_vehicle</th>\n",
              "      <th>Min_coverage</th>\n",
              "      <th>Expiry_date</th>\n",
              "      <th>Max_coverage</th>\n",
              "      <th>Condition</th>\n",
              "      <th>Amount</th>\n",
              "    </tr>\n",
              "  </thead>\n",
              "  <tbody>\n",
              "    <tr>\n",
              "      <th>0</th>\n",
              "      <td>1</td>\n",
              "      <td>0001.jpg</td>\n",
              "      <td>BQ</td>\n",
              "      <td>50700.0</td>\n",
              "      <td>1267.5</td>\n",
              "      <td>2025-07-10</td>\n",
              "      <td>12753.0</td>\n",
              "      <td>1</td>\n",
              "      <td>6194.0</td>\n",
              "    </tr>\n",
              "    <tr>\n",
              "      <th>1</th>\n",
              "      <td>3</td>\n",
              "      <td>0003.jpg</td>\n",
              "      <td>A</td>\n",
              "      <td>33500.0</td>\n",
              "      <td>837.5</td>\n",
              "      <td>2022-08-02</td>\n",
              "      <td>8453.0</td>\n",
              "      <td>1</td>\n",
              "      <td>7699.0</td>\n",
              "    </tr>\n",
              "    <tr>\n",
              "      <th>2</th>\n",
              "      <td>4</td>\n",
              "      <td>0004.jpg</td>\n",
              "      <td>AC</td>\n",
              "      <td>27600.0</td>\n",
              "      <td>690.0</td>\n",
              "      <td>2026-05-01</td>\n",
              "      <td>6978.0</td>\n",
              "      <td>1</td>\n",
              "      <td>8849.0</td>\n",
              "    </tr>\n",
              "    <tr>\n",
              "      <th>3</th>\n",
              "      <td>5</td>\n",
              "      <td>0005.jpg</td>\n",
              "      <td>AC</td>\n",
              "      <td>50700.0</td>\n",
              "      <td>1267.5</td>\n",
              "      <td>2026-08-07</td>\n",
              "      <td>12753.0</td>\n",
              "      <td>1</td>\n",
              "      <td>253.0</td>\n",
              "    </tr>\n",
              "    <tr>\n",
              "      <th>4</th>\n",
              "      <td>6</td>\n",
              "      <td>0006.jpg</td>\n",
              "      <td>AC</td>\n",
              "      <td>53200.0</td>\n",
              "      <td>1330.0</td>\n",
              "      <td>2028-01-12</td>\n",
              "      <td>13378.0</td>\n",
              "      <td>1</td>\n",
              "      <td>4013.0</td>\n",
              "    </tr>\n",
              "    <tr>\n",
              "      <th>...</th>\n",
              "      <td>...</td>\n",
              "      <td>...</td>\n",
              "      <td>...</td>\n",
              "      <td>...</td>\n",
              "      <td>...</td>\n",
              "      <td>...</td>\n",
              "      <td>...</td>\n",
              "      <td>...</td>\n",
              "      <td>...</td>\n",
              "    </tr>\n",
              "    <tr>\n",
              "      <th>1295</th>\n",
              "      <td>1394</td>\n",
              "      <td>1394.jpg</td>\n",
              "      <td>DA</td>\n",
              "      <td>52300.0</td>\n",
              "      <td>1307.5</td>\n",
              "      <td>2025-02-17</td>\n",
              "      <td>13153.0</td>\n",
              "      <td>1</td>\n",
              "      <td>4565.0</td>\n",
              "    </tr>\n",
              "    <tr>\n",
              "      <th>1296</th>\n",
              "      <td>1395</td>\n",
              "      <td>1395.jpg</td>\n",
              "      <td>BQ</td>\n",
              "      <td>41500.0</td>\n",
              "      <td>1037.5</td>\n",
              "      <td>2023-12-30</td>\n",
              "      <td>10453.0</td>\n",
              "      <td>1</td>\n",
              "      <td>3363.0</td>\n",
              "    </tr>\n",
              "    <tr>\n",
              "      <th>1297</th>\n",
              "      <td>1396</td>\n",
              "      <td>1396.jpg</td>\n",
              "      <td>AA</td>\n",
              "      <td>31400.0</td>\n",
              "      <td>785.0</td>\n",
              "      <td>2022-11-25</td>\n",
              "      <td>7928.0</td>\n",
              "      <td>1</td>\n",
              "      <td>5336.0</td>\n",
              "    </tr>\n",
              "    <tr>\n",
              "      <th>1298</th>\n",
              "      <td>1397</td>\n",
              "      <td>1397.jpg</td>\n",
              "      <td>A</td>\n",
              "      <td>33200.0</td>\n",
              "      <td>830.0</td>\n",
              "      <td>2022-10-10</td>\n",
              "      <td>8378.0</td>\n",
              "      <td>1</td>\n",
              "      <td>8734.0</td>\n",
              "    </tr>\n",
              "    <tr>\n",
              "      <th>1299</th>\n",
              "      <td>1398</td>\n",
              "      <td>1398.jpg</td>\n",
              "      <td>B</td>\n",
              "      <td>NaN</td>\n",
              "      <td>NaN</td>\n",
              "      <td>2024-10-30</td>\n",
              "      <td>NaN</td>\n",
              "      <td>1</td>\n",
              "      <td>NaN</td>\n",
              "    </tr>\n",
              "  </tbody>\n",
              "</table>\n",
              "<p>1300 rows × 9 columns</p>\n",
              "</div>"
            ],
            "text/plain": [
              "      index Image_path Insurance_company  ...  Max_coverage  Condition  Amount\n",
              "0         1   0001.jpg                BQ  ...       12753.0          1  6194.0\n",
              "1         3   0003.jpg                 A  ...        8453.0          1  7699.0\n",
              "2         4   0004.jpg                AC  ...        6978.0          1  8849.0\n",
              "3         5   0005.jpg                AC  ...       12753.0          1   253.0\n",
              "4         6   0006.jpg                AC  ...       13378.0          1  4013.0\n",
              "...     ...        ...               ...  ...           ...        ...     ...\n",
              "1295   1394   1394.jpg                DA  ...       13153.0          1  4565.0\n",
              "1296   1395   1395.jpg                BQ  ...       10453.0          1  3363.0\n",
              "1297   1396   1396.jpg                AA  ...        7928.0          1  5336.0\n",
              "1298   1397   1397.jpg                 A  ...        8378.0          1  8734.0\n",
              "1299   1398   1398.jpg                 B  ...           NaN          1     NaN\n",
              "\n",
              "[1300 rows x 9 columns]"
            ]
          },
          "metadata": {
            "tags": []
          },
          "execution_count": 155
        }
      ]
    },
    {
      "cell_type": "code",
      "metadata": {
        "colab": {
          "base_uri": "https://localhost:8080/"
        },
        "id": "IyNc9Ov9c6Gb",
        "outputId": "76221add-e82f-4378-b1f7-e211787f002d"
      },
      "source": [
        "len(os.listdir('train_num/damaged_aug'))"
      ],
      "execution_count": 156,
      "outputs": [
        {
          "output_type": "execute_result",
          "data": {
            "text/plain": [
              "2600"
            ]
          },
          "metadata": {
            "tags": []
          },
          "execution_count": 156
        }
      ]
    },
    {
      "cell_type": "code",
      "metadata": {
        "colab": {
          "base_uri": "https://localhost:8080/"
        },
        "id": "SIZEAUhSLNtF",
        "outputId": "ff7bd609-0699-4546-e47b-86317625ad03"
      },
      "source": [
        "path = Path('train_num')\n",
        "path_hr = path/'damaged_aug'\n",
        "j = 0; cluster = 1\n",
        "c = 1\n",
        "for i in os.listdir(path_hr):\n",
        "    image = train_damaged.loc[j, 'Image_path']\n",
        "    shutil.copy(f'train_num/damaged_aug/{i}', f'train_num/damaged/{image[: -4]}_{i}')\n",
        "    new_row = {'Image_path': f'{image[: -4]}_{i}', 'Insurance_company': train_damaged.loc[j, 'Insurance_company'], 'Cost_of_vehicle': train_damaged.loc[j, 'Cost_of_vehicle'], 'Min_coverage': train_damaged.loc[j, 'Min_coverage'],\\\n",
        "               'Expiry_date': train_damaged.loc[j, 'Expiry_date'],\t'Max_coverage': train_damaged.loc[j, 'Max_coverage'], 'Condition': train_damaged.loc[j, 'Condition'], 'Amount': train_damaged.loc[j, 'Amount']}\n",
        "    train_aug = train_aug.append(new_row, ignore_index=True)\n",
        "    \n",
        "    if cluster % 2 == 0:\n",
        "        j += 1\n",
        "\n",
        "    cluster += 1\n",
        "    if c % 200 == 0:\n",
        "        print(f'damaged_aug {c} copy done')\n",
        "    c += 1"
      ],
      "execution_count": 157,
      "outputs": [
        {
          "output_type": "stream",
          "text": [
            "damaged_aug 200 copy done\n",
            "damaged_aug 400 copy done\n",
            "damaged_aug 600 copy done\n",
            "damaged_aug 800 copy done\n",
            "damaged_aug 1000 copy done\n",
            "damaged_aug 1200 copy done\n",
            "damaged_aug 1400 copy done\n",
            "damaged_aug 1600 copy done\n",
            "damaged_aug 1800 copy done\n",
            "damaged_aug 2000 copy done\n",
            "damaged_aug 2200 copy done\n",
            "damaged_aug 2400 copy done\n",
            "damaged_aug 2600 copy done\n"
          ],
          "name": "stdout"
        }
      ]
    },
    {
      "cell_type": "code",
      "metadata": {
        "colab": {
          "base_uri": "https://localhost:8080/"
        },
        "id": "DWc3bLyhOb_A",
        "outputId": "835b1286-40d6-4f8f-9a8f-671a9e34ebd6"
      },
      "source": [
        "len(os.listdir('train_num/damaged/' ))"
      ],
      "execution_count": 160,
      "outputs": [
        {
          "output_type": "execute_result",
          "data": {
            "text/plain": [
              "3900"
            ]
          },
          "metadata": {
            "tags": []
          },
          "execution_count": 160
        }
      ]
    },
    {
      "cell_type": "code",
      "metadata": {
        "colab": {
          "base_uri": "https://localhost:8080/"
        },
        "id": "psCJVAGHby3k",
        "outputId": "dc4f6fe5-dd9e-49cc-b7d1-2973f10d803f"
      },
      "source": [
        "path = Path('train_num')\n",
        "path_hr = path/'undamaged_aug'\n",
        "j = 0; cluster = 1\n",
        "c = 1\n",
        "for i in os.listdir(path_hr):\n",
        "    image = train_undamaged.loc[j, 'Image_path']\n",
        "    shutil.copy(f'train_num/undamaged_aug/{i}', f'train_num/undamaged/{image[: -4]}_{i}')\n",
        "    new_row = {'Image_path': f'{image[: -4]}_{i}', 'Insurance_company': train_undamaged.loc[j, 'Insurance_company'], 'Cost_of_vehicle': train_undamaged.loc[j, 'Cost_of_vehicle'], 'Min_coverage': train_undamaged.loc[j, 'Min_coverage'],\\\n",
        "               'Expiry_date': train_undamaged.loc[j, 'Expiry_date'],\t'Max_coverage': train_undamaged.loc[j, 'Max_coverage'], 'Condition': train_undamaged.loc[j, 'Condition'], 'Amount': train_undamaged.loc[j, 'Amount']}\n",
        "    train_aug = train_aug.append(new_row, ignore_index=True)\n",
        "\n",
        "    if cluster % 39 == 0:\n",
        "        j += 1\n",
        "        \n",
        "    cluster += 1\n",
        "    if c % 200 == 0:\n",
        "        print(f'undamaged_aug {c} copy done')\n",
        "    c+= 1"
      ],
      "execution_count": 164,
      "outputs": [
        {
          "output_type": "stream",
          "text": [
            "undamaged_aug 200 copy done\n",
            "undamaged_aug 400 copy done\n",
            "undamaged_aug 600 copy done\n",
            "undamaged_aug 800 copy done\n",
            "undamaged_aug 1000 copy done\n",
            "undamaged_aug 1200 copy done\n",
            "undamaged_aug 1400 copy done\n",
            "undamaged_aug 1600 copy done\n",
            "undamaged_aug 1800 copy done\n",
            "undamaged_aug 2000 copy done\n",
            "undamaged_aug 2200 copy done\n",
            "undamaged_aug 2400 copy done\n",
            "undamaged_aug 2600 copy done\n",
            "undamaged_aug 2800 copy done\n",
            "undamaged_aug 3000 copy done\n",
            "undamaged_aug 3200 copy done\n",
            "undamaged_aug 3400 copy done\n",
            "undamaged_aug 3600 copy done\n",
            "undamaged_aug 3800 copy done\n"
          ],
          "name": "stdout"
        }
      ]
    },
    {
      "cell_type": "code",
      "metadata": {
        "colab": {
          "base_uri": "https://localhost:8080/"
        },
        "id": "4rAy7ckdRuz5",
        "outputId": "0eb1b3a0-18fc-40b6-a8fe-333d38b5420f"
      },
      "source": [
        "len(os.listdir('train_num/undamaged'))"
      ],
      "execution_count": 165,
      "outputs": [
        {
          "output_type": "execute_result",
          "data": {
            "text/plain": [
              "3900"
            ]
          },
          "metadata": {
            "tags": []
          },
          "execution_count": 165
        }
      ]
    },
    {
      "cell_type": "code",
      "metadata": {
        "colab": {
          "base_uri": "https://localhost:8080/"
        },
        "id": "VLJ1W9_LIvfN",
        "outputId": "a6ece047-b2f9-4c8a-867d-60b8c67ea1e7"
      },
      "source": [
        "train_aug.to_csv('tr_aug.csv', index=False)\n",
        "train_aug.shape"
      ],
      "execution_count": 166,
      "outputs": [
        {
          "output_type": "execute_result",
          "data": {
            "text/plain": [
              "(7800, 8)"
            ]
          },
          "metadata": {
            "tags": []
          },
          "execution_count": 166
        }
      ]
    },
    {
      "cell_type": "code",
      "metadata": {
        "colab": {
          "base_uri": "https://localhost:8080/",
          "height": 419
        },
        "id": "EsqbP4EXj8Ia",
        "outputId": "9b4215f4-19a2-4550-b171-aa03059a9876"
      },
      "source": [
        "train_aug"
      ],
      "execution_count": 167,
      "outputs": [
        {
          "output_type": "execute_result",
          "data": {
            "text/html": [
              "<div>\n",
              "<style scoped>\n",
              "    .dataframe tbody tr th:only-of-type {\n",
              "        vertical-align: middle;\n",
              "    }\n",
              "\n",
              "    .dataframe tbody tr th {\n",
              "        vertical-align: top;\n",
              "    }\n",
              "\n",
              "    .dataframe thead th {\n",
              "        text-align: right;\n",
              "    }\n",
              "</style>\n",
              "<table border=\"1\" class=\"dataframe\">\n",
              "  <thead>\n",
              "    <tr style=\"text-align: right;\">\n",
              "      <th></th>\n",
              "      <th>Image_path</th>\n",
              "      <th>Insurance_company</th>\n",
              "      <th>Cost_of_vehicle</th>\n",
              "      <th>Min_coverage</th>\n",
              "      <th>Expiry_date</th>\n",
              "      <th>Max_coverage</th>\n",
              "      <th>Condition</th>\n",
              "      <th>Amount</th>\n",
              "    </tr>\n",
              "  </thead>\n",
              "  <tbody>\n",
              "    <tr>\n",
              "      <th>0</th>\n",
              "      <td>0000.jpg</td>\n",
              "      <td>BQ</td>\n",
              "      <td>41500.0</td>\n",
              "      <td>1037.5</td>\n",
              "      <td>2026-12-03</td>\n",
              "      <td>36142.68</td>\n",
              "      <td>0</td>\n",
              "      <td>0.0</td>\n",
              "    </tr>\n",
              "    <tr>\n",
              "      <th>1</th>\n",
              "      <td>0001.jpg</td>\n",
              "      <td>BQ</td>\n",
              "      <td>50700.0</td>\n",
              "      <td>1267.5</td>\n",
              "      <td>2025-07-10</td>\n",
              "      <td>12753.00</td>\n",
              "      <td>1</td>\n",
              "      <td>6194.0</td>\n",
              "    </tr>\n",
              "    <tr>\n",
              "      <th>2</th>\n",
              "      <td>0002.jpg</td>\n",
              "      <td>A</td>\n",
              "      <td>49500.0</td>\n",
              "      <td>1237.5</td>\n",
              "      <td>2022-08-11</td>\n",
              "      <td>43102.68</td>\n",
              "      <td>0</td>\n",
              "      <td>0.0</td>\n",
              "    </tr>\n",
              "    <tr>\n",
              "      <th>3</th>\n",
              "      <td>0003.jpg</td>\n",
              "      <td>A</td>\n",
              "      <td>33500.0</td>\n",
              "      <td>837.5</td>\n",
              "      <td>2022-08-02</td>\n",
              "      <td>8453.00</td>\n",
              "      <td>1</td>\n",
              "      <td>7699.0</td>\n",
              "    </tr>\n",
              "    <tr>\n",
              "      <th>4</th>\n",
              "      <td>0004.jpg</td>\n",
              "      <td>AC</td>\n",
              "      <td>27600.0</td>\n",
              "      <td>690.0</td>\n",
              "      <td>2026-05-01</td>\n",
              "      <td>6978.00</td>\n",
              "      <td>1</td>\n",
              "      <td>8849.0</td>\n",
              "    </tr>\n",
              "    <tr>\n",
              "      <th>...</th>\n",
              "      <td>...</td>\n",
              "      <td>...</td>\n",
              "      <td>...</td>\n",
              "      <td>...</td>\n",
              "      <td>...</td>\n",
              "      <td>...</td>\n",
              "      <td>...</td>\n",
              "      <td>...</td>\n",
              "    </tr>\n",
              "    <tr>\n",
              "      <th>7795</th>\n",
              "      <td>1352_3797.jpg</td>\n",
              "      <td>BC</td>\n",
              "      <td>45300.0</td>\n",
              "      <td>1132.5</td>\n",
              "      <td>2028-01-11</td>\n",
              "      <td>39448.68</td>\n",
              "      <td>0</td>\n",
              "      <td>0.0</td>\n",
              "    </tr>\n",
              "    <tr>\n",
              "      <th>7796</th>\n",
              "      <td>1352_3798.jpg</td>\n",
              "      <td>BC</td>\n",
              "      <td>45300.0</td>\n",
              "      <td>1132.5</td>\n",
              "      <td>2028-01-11</td>\n",
              "      <td>39448.68</td>\n",
              "      <td>0</td>\n",
              "      <td>0.0</td>\n",
              "    </tr>\n",
              "    <tr>\n",
              "      <th>7797</th>\n",
              "      <td>1352_3799.jpg</td>\n",
              "      <td>BC</td>\n",
              "      <td>45300.0</td>\n",
              "      <td>1132.5</td>\n",
              "      <td>2028-01-11</td>\n",
              "      <td>39448.68</td>\n",
              "      <td>0</td>\n",
              "      <td>0.0</td>\n",
              "    </tr>\n",
              "    <tr>\n",
              "      <th>7798</th>\n",
              "      <td>1352_3800.jpg</td>\n",
              "      <td>BC</td>\n",
              "      <td>45300.0</td>\n",
              "      <td>1132.5</td>\n",
              "      <td>2028-01-11</td>\n",
              "      <td>39448.68</td>\n",
              "      <td>0</td>\n",
              "      <td>0.0</td>\n",
              "    </tr>\n",
              "    <tr>\n",
              "      <th>7799</th>\n",
              "      <td>1352_3801.jpg</td>\n",
              "      <td>BC</td>\n",
              "      <td>45300.0</td>\n",
              "      <td>1132.5</td>\n",
              "      <td>2028-01-11</td>\n",
              "      <td>39448.68</td>\n",
              "      <td>0</td>\n",
              "      <td>0.0</td>\n",
              "    </tr>\n",
              "  </tbody>\n",
              "</table>\n",
              "<p>7800 rows × 8 columns</p>\n",
              "</div>"
            ],
            "text/plain": [
              "         Image_path Insurance_company  ...  Condition  Amount\n",
              "0          0000.jpg                BQ  ...          0     0.0\n",
              "1          0001.jpg                BQ  ...          1  6194.0\n",
              "2          0002.jpg                 A  ...          0     0.0\n",
              "3          0003.jpg                 A  ...          1  7699.0\n",
              "4          0004.jpg                AC  ...          1  8849.0\n",
              "...             ...               ...  ...        ...     ...\n",
              "7795  1352_3797.jpg                BC  ...          0     0.0\n",
              "7796  1352_3798.jpg                BC  ...          0     0.0\n",
              "7797  1352_3799.jpg                BC  ...          0     0.0\n",
              "7798  1352_3800.jpg                BC  ...          0     0.0\n",
              "7799  1352_3801.jpg                BC  ...          0     0.0\n",
              "\n",
              "[7800 rows x 8 columns]"
            ]
          },
          "metadata": {
            "tags": []
          },
          "execution_count": 167
        }
      ]
    },
    {
      "cell_type": "code",
      "metadata": {
        "colab": {
          "base_uri": "https://localhost:8080/"
        },
        "id": "Vgnpj6zajpsG",
        "outputId": "5e7fbac3-10cf-42c1-ea7f-ab6b129e106f"
      },
      "source": [
        "train_damaged_aug = train_aug[train_aug['Condition'] == 1].reset_index()\n",
        "train_undamaged_aug = train_aug[train_aug['Condition'] == 0].reset_index()\n",
        "train_damaged_aug.shape, train_undamaged_aug.shape"
      ],
      "execution_count": 168,
      "outputs": [
        {
          "output_type": "execute_result",
          "data": {
            "text/plain": [
              "((3900, 9), (3900, 9))"
            ]
          },
          "metadata": {
            "tags": []
          },
          "execution_count": 168
        }
      ]
    },
    {
      "cell_type": "code",
      "metadata": {
        "colab": {
          "base_uri": "https://localhost:8080/",
          "height": 204
        },
        "id": "mLqvrnbGil0A",
        "outputId": "35286144-6deb-4b60-e0db-1bb51da1ade1"
      },
      "source": [
        "train_undamaged_aug.head()"
      ],
      "execution_count": 169,
      "outputs": [
        {
          "output_type": "execute_result",
          "data": {
            "text/html": [
              "<div>\n",
              "<style scoped>\n",
              "    .dataframe tbody tr th:only-of-type {\n",
              "        vertical-align: middle;\n",
              "    }\n",
              "\n",
              "    .dataframe tbody tr th {\n",
              "        vertical-align: top;\n",
              "    }\n",
              "\n",
              "    .dataframe thead th {\n",
              "        text-align: right;\n",
              "    }\n",
              "</style>\n",
              "<table border=\"1\" class=\"dataframe\">\n",
              "  <thead>\n",
              "    <tr style=\"text-align: right;\">\n",
              "      <th></th>\n",
              "      <th>index</th>\n",
              "      <th>Image_path</th>\n",
              "      <th>Insurance_company</th>\n",
              "      <th>Cost_of_vehicle</th>\n",
              "      <th>Min_coverage</th>\n",
              "      <th>Expiry_date</th>\n",
              "      <th>Max_coverage</th>\n",
              "      <th>Condition</th>\n",
              "      <th>Amount</th>\n",
              "    </tr>\n",
              "  </thead>\n",
              "  <tbody>\n",
              "    <tr>\n",
              "      <th>0</th>\n",
              "      <td>0</td>\n",
              "      <td>0000.jpg</td>\n",
              "      <td>BQ</td>\n",
              "      <td>41500.0</td>\n",
              "      <td>1037.5</td>\n",
              "      <td>2026-12-03</td>\n",
              "      <td>36142.68</td>\n",
              "      <td>0</td>\n",
              "      <td>0.0</td>\n",
              "    </tr>\n",
              "    <tr>\n",
              "      <th>1</th>\n",
              "      <td>2</td>\n",
              "      <td>0002.jpg</td>\n",
              "      <td>A</td>\n",
              "      <td>49500.0</td>\n",
              "      <td>1237.5</td>\n",
              "      <td>2022-08-11</td>\n",
              "      <td>43102.68</td>\n",
              "      <td>0</td>\n",
              "      <td>0.0</td>\n",
              "    </tr>\n",
              "    <tr>\n",
              "      <th>2</th>\n",
              "      <td>17</td>\n",
              "      <td>0017.jpg</td>\n",
              "      <td>AC</td>\n",
              "      <td>23900.0</td>\n",
              "      <td>597.5</td>\n",
              "      <td>2024-11-17</td>\n",
              "      <td>20830.68</td>\n",
              "      <td>0</td>\n",
              "      <td>0.0</td>\n",
              "    </tr>\n",
              "    <tr>\n",
              "      <th>3</th>\n",
              "      <td>18</td>\n",
              "      <td>0018.jpg</td>\n",
              "      <td>AC</td>\n",
              "      <td>51000.0</td>\n",
              "      <td>1275.0</td>\n",
              "      <td>2025-12-17</td>\n",
              "      <td>44407.68</td>\n",
              "      <td>0</td>\n",
              "      <td>0.0</td>\n",
              "    </tr>\n",
              "    <tr>\n",
              "      <th>4</th>\n",
              "      <td>22</td>\n",
              "      <td>0022.jpg</td>\n",
              "      <td>A</td>\n",
              "      <td>51000.0</td>\n",
              "      <td>1275.0</td>\n",
              "      <td>2026-03-07</td>\n",
              "      <td>44407.68</td>\n",
              "      <td>0</td>\n",
              "      <td>0.0</td>\n",
              "    </tr>\n",
              "  </tbody>\n",
              "</table>\n",
              "</div>"
            ],
            "text/plain": [
              "   index Image_path Insurance_company  ...  Max_coverage  Condition Amount\n",
              "0      0   0000.jpg                BQ  ...      36142.68          0    0.0\n",
              "1      2   0002.jpg                 A  ...      43102.68          0    0.0\n",
              "2     17   0017.jpg                AC  ...      20830.68          0    0.0\n",
              "3     18   0018.jpg                AC  ...      44407.68          0    0.0\n",
              "4     22   0022.jpg                 A  ...      44407.68          0    0.0\n",
              "\n",
              "[5 rows x 9 columns]"
            ]
          },
          "metadata": {
            "tags": []
          },
          "execution_count": 169
        }
      ]
    },
    {
      "cell_type": "code",
      "metadata": {
        "colab": {
          "base_uri": "https://localhost:8080/",
          "height": 389
        },
        "id": "Vpm7LRlOaR28",
        "outputId": "373c09ab-6125-48e6-a8b6-09843994bbd7"
      },
      "source": [
        "train_damaged2 = os.listdir('train_num/damaged')\n",
        "train_undamaged2 = os.listdir('train_num/undamaged')\n",
        "counts = [len(train_damaged2), len(train_undamaged2)]\n",
        "plot_bar(classes, counts, 'train_num')\n",
        "for i in range(len(classes)):\n",
        "    print('Number of '+classes[i]+' images in trainImages is '+str(counts[i]))"
      ],
      "execution_count": 170,
      "outputs": [
        {
          "output_type": "display_data",
          "data": {
            "image/png": "[encoded data removed]",
            "text/plain": [
              "<Figure size 360x360 with 1 Axes>"
            ]
          },
          "metadata": {
            "tags": [],
            "needs_background": "light"
          }
        },
        {
          "output_type": "stream",
          "text": [
            "Number of Damaged images in trainImages is 3900\n",
            "Number of Not Damaged images in trainImages is 3900\n"
          ],
          "name": "stdout"
        }
      ]
    },
    {
      "cell_type": "markdown",
      "metadata": {
        "id": "CR5V5w3XkVH9"
      },
      "source": [
        "# Balanced! yahoo"
      ]
    },
    {
      "cell_type": "code",
      "metadata": {
        "id": "vD4OwdVZXi6L"
      },
      "source": [
        "if not os.path.exists('processed_data'):\n",
        "    os.mkdir('processed_data')\n",
        "train_aug.to_csv('processed_data/train_aug.csv', index=False)\n",
        "train_damaged_aug.to_csv('processed_data/train_damaged_aug.csv', index=False)\n",
        "train_undamaged_aug.to_csv('processed_data/train_undamaged_aug.csv', index=False)"
      ],
      "execution_count": 171,
      "outputs": []
    },
    {
      "cell_type": "code",
      "metadata": {
        "id": "pgFi98mIjQy2",
        "colab": {
          "base_uri": "https://localhost:8080/",
          "height": 86
        },
        "outputId": "f9b05b41-424e-48b5-809e-6eb145b7a053"
      },
      "source": [
        "img = cv2.imread('train_num/undamaged/1377.jpg')\n",
        "cv2_imshow(img)"
      ],
      "execution_count": 179,
      "outputs": [
        {
          "output_type": "display_data",
          "data": {
            "image/png": "[encoded data removed]",
            "text/plain": [
              "<PIL.Image.Image image mode=RGB size=92x69 at 0x7F04FA155A90>"
            ]
          },
          "metadata": {
            "tags": []
          }
        }
      ]
    },
    {
      "cell_type": "code",
      "metadata": {
        "id": "lsSpIMd_Orfu"
      },
      "source": [
        ""
      ],
      "execution_count": null,
      "outputs": []
    }
  ]
}